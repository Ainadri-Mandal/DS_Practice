{
  "nbformat": 4,
  "nbformat_minor": 0,
  "metadata": {
    "colab": {
      "provenance": [],
      "authorship_tag": "ABX9TyNG5vnAsARuCHhLxzbuidZJ"
    },
    "kernelspec": {
      "name": "python3",
      "display_name": "Python 3"
    },
    "language_info": {
      "name": "python"
    }
  },
  "cells": [
    {
      "cell_type": "code",
      "execution_count": 2,
      "metadata": {
        "id": "kM-qa_w0GP3i"
      },
      "outputs": [],
      "source": [
        "import numpy as np"
      ]
    },
    {
      "cell_type": "markdown",
      "source": [
        "# 1. Converting a List into np Array"
      ],
      "metadata": {
        "id": "pUjLJLszG1sX"
      }
    },
    {
      "cell_type": "code",
      "source": [
        "lst = [1,2,3,4]\n",
        "print(type(lst))\n",
        "arr = np.array(lst)\n",
        "print(type(arr))\n",
        "arr = np.array(lst, ndmin = 2)   #ndmin states how many dimensionsion we want in array\n",
        "print(arr)"
      ],
      "metadata": {
        "colab": {
          "base_uri": "https://localhost:8080/"
        },
        "id": "z4jyHxsKGyXl",
        "outputId": "435c3c98-a1db-436a-b873-4bfd03c48435"
      },
      "execution_count": 3,
      "outputs": [
        {
          "output_type": "stream",
          "name": "stdout",
          "text": [
            "<class 'list'>\n",
            "<class 'numpy.ndarray'>\n",
            "[[1 2 3 4]]\n"
          ]
        }
      ]
    },
    {
      "cell_type": "code",
      "source": [
        "arr = np.array(lst, ndmin = 1)   #ndmin states how many dimensionsion we want in array\n",
        "arr"
      ],
      "metadata": {
        "colab": {
          "base_uri": "https://localhost:8080/"
        },
        "id": "CBrc-YSuG-T1",
        "outputId": "3834b386-1064-4013-b129-accee5ce226c"
      },
      "execution_count": 4,
      "outputs": [
        {
          "output_type": "execute_result",
          "data": {
            "text/plain": [
              "array([1, 2, 3, 4])"
            ]
          },
          "metadata": {},
          "execution_count": 4
        }
      ]
    },
    {
      "cell_type": "code",
      "source": [
        "arr = np.array(lst, ndmin = 2)\n",
        "arr"
      ],
      "metadata": {
        "colab": {
          "base_uri": "https://localhost:8080/"
        },
        "id": "do00OfE5HAhv",
        "outputId": "891dda9b-f726-4615-cf6b-c265b4115e07"
      },
      "execution_count": 5,
      "outputs": [
        {
          "output_type": "execute_result",
          "data": {
            "text/plain": [
              "array([[1, 2, 3, 4]])"
            ]
          },
          "metadata": {},
          "execution_count": 5
        }
      ]
    },
    {
      "cell_type": "markdown",
      "source": [
        "# 2. Arange Functions"
      ],
      "metadata": {
        "id": "3AfxHKAmIREz"
      }
    },
    {
      "cell_type": "markdown",
      "source": [
        "##### The arange (start, stop, step, dtype = ): returns an array with evenly spaced elements as per the interval.\n",
        "##### The interval mentioned is half-opened i.e. [start, stop]"
      ],
      "metadata": {
        "id": "2hFt7Oh5IWvf"
      }
    },
    {
      "cell_type": "code",
      "source": [
        "arr = np.arange(1,10,2)\n",
        "arr"
      ],
      "metadata": {
        "colab": {
          "base_uri": "https://localhost:8080/"
        },
        "id": "v5Lne0LVH2pZ",
        "outputId": "d6c4f078-8360-4010-aaf7-bb53df0ae650"
      },
      "execution_count": 6,
      "outputs": [
        {
          "output_type": "execute_result",
          "data": {
            "text/plain": [
              "array([1, 3, 5, 7, 9])"
            ]
          },
          "metadata": {},
          "execution_count": 6
        }
      ]
    },
    {
      "cell_type": "markdown",
      "source": [
        "# 3. Multidimensional array"
      ],
      "metadata": {
        "id": "rnL7u4PvGgYO"
      }
    },
    {
      "cell_type": "code",
      "source": [
        "arr = np.array([[1,2,3],[4,5,6],[7,8,9]])\n",
        "arr"
      ],
      "metadata": {
        "colab": {
          "base_uri": "https://localhost:8080/"
        },
        "id": "t8Btw2irGX0c",
        "outputId": "ba2dda77-9c71-4dd9-e4ca-99cc097ceb0c"
      },
      "execution_count": 7,
      "outputs": [
        {
          "output_type": "execute_result",
          "data": {
            "text/plain": [
              "array([[1, 2, 3],\n",
              "       [4, 5, 6],\n",
              "       [7, 8, 9]])"
            ]
          },
          "metadata": {},
          "execution_count": 7
        }
      ]
    },
    {
      "cell_type": "markdown",
      "source": [
        "# 4. Size Function"
      ],
      "metadata": {
        "id": "-iLqqNaNHK4n"
      }
    },
    {
      "cell_type": "markdown",
      "source": [
        "####In Python, numpy.size() function count the no. of elements along a given axis"
      ],
      "metadata": {
        "id": "-IRk8jUmHuJs"
      }
    },
    {
      "cell_type": "code",
      "source": [
        "arr = np.array([[1,2,3],[4,5,6],[7,8,9],[1,2,3]])\n",
        "print('Total no. of elements in the array: ',arr.size)\n",
        "print('Total no. of  rows: ',np.size(arr,0))   ## For rows\n",
        "print('Total no. of  columns: ',np.size(arr,1))  ## For columns\n",
        "print()\n",
        "arr"
      ],
      "metadata": {
        "colab": {
          "base_uri": "https://localhost:8080/"
        },
        "id": "tztdGdvqHD7y",
        "outputId": "ec41c1aa-459b-473b-f42f-b74f72f9684a"
      },
      "execution_count": 8,
      "outputs": [
        {
          "output_type": "stream",
          "name": "stdout",
          "text": [
            "Total no. of elements in the array:  12\n",
            "Total no. of  rows:  4\n",
            "Total no. of  columns:  3\n",
            "\n"
          ]
        },
        {
          "output_type": "execute_result",
          "data": {
            "text/plain": [
              "array([[1, 2, 3],\n",
              "       [4, 5, 6],\n",
              "       [7, 8, 9],\n",
              "       [1, 2, 3]])"
            ]
          },
          "metadata": {},
          "execution_count": 8
        }
      ]
    },
    {
      "cell_type": "markdown",
      "source": [
        "#5. Shape Function"
      ],
      "metadata": {
        "id": "7JFVGi6SHWzI"
      }
    },
    {
      "cell_type": "markdown",
      "source": [
        "#### Shape of an array can be defined as the number of elements in each dimension. Dimension is the number of indices or subscripts, that we require in order to specify an individual element of an array"
      ],
      "metadata": {
        "id": "HGyMiJzMJEuU"
      }
    },
    {
      "cell_type": "code",
      "source": [
        "arr = np.array([[1,2,3],[4,5,6],[7,8,9],[1,2,3]])\n",
        "\n",
        "print(\"Without shape function: \",(np.size(arr,0),np.size(arr,1)))\n",
        "\n",
        "print(\"With shape function: \",arr.shape)\n"
      ],
      "metadata": {
        "colab": {
          "base_uri": "https://localhost:8080/"
        },
        "id": "TTwnHIa6HVZY",
        "outputId": "0b7ce5c1-0275-406f-e9c9-6e94f8d868ec"
      },
      "execution_count": 9,
      "outputs": [
        {
          "output_type": "stream",
          "name": "stdout",
          "text": [
            "Without shape function:  (4, 3)\n",
            "With shape function:  (4, 3)\n"
          ]
        }
      ]
    },
    {
      "cell_type": "markdown",
      "source": [
        "#6. Dtype Function"
      ],
      "metadata": {
        "id": "edh_ODS9KMKj"
      }
    },
    {
      "cell_type": "code",
      "source": [
        "arr1 = np.array([1,2,3,4])\n",
        "arr1.dtype"
      ],
      "metadata": {
        "colab": {
          "base_uri": "https://localhost:8080/"
        },
        "id": "L9c-V7f9J8Xd",
        "outputId": "63d75f93-d01c-416b-dde9-0bd97d71aabc"
      },
      "execution_count": 10,
      "outputs": [
        {
          "output_type": "execute_result",
          "data": {
            "text/plain": [
              "dtype('int64')"
            ]
          },
          "metadata": {},
          "execution_count": 10
        }
      ]
    },
    {
      "cell_type": "markdown",
      "source": [
        "# 7. Ndim function\n",
        "#### np.ndarray.ndim() function return the no. of dimensions of an array"
      ],
      "metadata": {
        "id": "K7BcpBIr6xJA"
      }
    },
    {
      "cell_type": "code",
      "source": [
        "arr1 = np.array([1,2,3,1,2,3,4])\n",
        "print(arr1.ndim)\n",
        "arr2 = np.array([[1,2,3],[4,5,6],[7,8,9],[1,2,3]])\n",
        "print(arr2.ndim)\n",
        "\n",
        "arr3 = np.array(arr1, ndmin = 3)\n",
        "print(arr3)"
      ],
      "metadata": {
        "colab": {
          "base_uri": "https://localhost:8080/"
        },
        "id": "GPYw7yUfKotc",
        "outputId": "87531f88-2305-4e12-bd7a-b720bb56ef78"
      },
      "execution_count": 20,
      "outputs": [
        {
          "output_type": "stream",
          "name": "stdout",
          "text": [
            "1\n",
            "2\n",
            "[[[1 2 3 1 2 3 4]]]\n"
          ]
        }
      ]
    },
    {
      "cell_type": "markdown",
      "source": [
        "#8. Zeros Function"
      ],
      "metadata": {
        "id": "sXlHWnvy8ECn"
      }
    },
    {
      "cell_type": "code",
      "source": [],
      "metadata": {
        "id": "vOXJm1ko7ZYU"
      },
      "execution_count": 20,
      "outputs": []
    },
    {
      "cell_type": "code",
      "source": [],
      "metadata": {
        "id": "22jOIjLE75-1"
      },
      "execution_count": null,
      "outputs": []
    }
  ]
}