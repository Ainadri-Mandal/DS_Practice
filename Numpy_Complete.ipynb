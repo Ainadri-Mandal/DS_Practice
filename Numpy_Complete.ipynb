{
  "nbformat": 4,
  "nbformat_minor": 0,
  "metadata": {
    "colab": {
      "provenance": [],
      "authorship_tag": "ABX9TyMIeW6GEhsva+eMHDv7BYgM",
      "include_colab_link": true
    },
    "kernelspec": {
      "name": "python3",
      "display_name": "Python 3"
    },
    "language_info": {
      "name": "python"
    }
  },
  "cells": [
    {
      "cell_type": "markdown",
      "metadata": {
        "id": "view-in-github",
        "colab_type": "text"
      },
      "source": [
        "<a href=\"https://colab.research.google.com/github/Ainadri-Mandal/DS_Practice/blob/main/Numpy_Complete.ipynb\" target=\"_parent\"><img src=\"https://colab.research.google.com/assets/colab-badge.svg\" alt=\"Open In Colab\"/></a>"
      ]
    },
    {
      "cell_type": "code",
      "execution_count": null,
      "metadata": {
        "id": "kM-qa_w0GP3i"
      },
      "outputs": [],
      "source": [
        "import numpy as np"
      ]
    },
    {
      "cell_type": "markdown",
      "source": [
        "# 1. Converting a List into np Array"
      ],
      "metadata": {
        "id": "pUjLJLszG1sX"
      }
    },
    {
      "cell_type": "code",
      "source": [
        "lst = [1,2,3,4]\n",
        "print(type(lst))\n",
        "arr = np.array(lst)\n",
        "print(type(arr))\n",
        "arr = np.array(lst, ndmin = 2)   #ndmin states how many dimensionsion we want in array\n",
        "print(arr)"
      ],
      "metadata": {
        "colab": {
          "base_uri": "https://localhost:8080/"
        },
        "id": "z4jyHxsKGyXl",
        "outputId": "adeb6ea4-a849-448b-8244-2251fa6400cd"
      },
      "execution_count": null,
      "outputs": [
        {
          "output_type": "stream",
          "name": "stdout",
          "text": [
            "<class 'list'>\n",
            "<class 'numpy.ndarray'>\n",
            "[[1 2 3 4]]\n"
          ]
        }
      ]
    },
    {
      "cell_type": "code",
      "source": [
        "arr = np.array(lst, ndmin = 1)   #ndmin states how many dimensionsion we want in array\n",
        "arr"
      ],
      "metadata": {
        "colab": {
          "base_uri": "https://localhost:8080/"
        },
        "id": "CBrc-YSuG-T1",
        "outputId": "105e42e9-5e90-4e2e-96f5-5765740a10e9"
      },
      "execution_count": null,
      "outputs": [
        {
          "output_type": "execute_result",
          "data": {
            "text/plain": [
              "array([1, 2, 3, 4])"
            ]
          },
          "metadata": {},
          "execution_count": 4
        }
      ]
    },
    {
      "cell_type": "code",
      "source": [
        "arr = np.array(lst, ndmin = 2)\n",
        "arr"
      ],
      "metadata": {
        "colab": {
          "base_uri": "https://localhost:8080/"
        },
        "id": "do00OfE5HAhv",
        "outputId": "034d340f-dd62-4e96-e986-ac3b08b5af4c"
      },
      "execution_count": null,
      "outputs": [
        {
          "output_type": "execute_result",
          "data": {
            "text/plain": [
              "array([[1, 2, 3, 4]])"
            ]
          },
          "metadata": {},
          "execution_count": 5
        }
      ]
    },
    {
      "cell_type": "markdown",
      "source": [
        "# 2. Arange Functions"
      ],
      "metadata": {
        "id": "3AfxHKAmIREz"
      }
    },
    {
      "cell_type": "markdown",
      "source": [
        "##### The arange (start, stop, step, dtype = ): returns an array with evenly spaced elements as per the interval.\n",
        "##### The interval mentioned is half-opened i.e. [start, stop]"
      ],
      "metadata": {
        "id": "2hFt7Oh5IWvf"
      }
    },
    {
      "cell_type": "code",
      "source": [
        "arr = np.arange(1,10,2)\n",
        "arr"
      ],
      "metadata": {
        "colab": {
          "base_uri": "https://localhost:8080/"
        },
        "id": "v5Lne0LVH2pZ",
        "outputId": "b07cc407-7176-45a3-a3ad-6baf8e4f71f7"
      },
      "execution_count": null,
      "outputs": [
        {
          "output_type": "execute_result",
          "data": {
            "text/plain": [
              "array([1, 3, 5, 7, 9])"
            ]
          },
          "metadata": {},
          "execution_count": 6
        }
      ]
    },
    {
      "cell_type": "markdown",
      "source": [
        "# 3. Multidimensional array"
      ],
      "metadata": {
        "id": "rnL7u4PvGgYO"
      }
    },
    {
      "cell_type": "code",
      "source": [
        "arr = np.array([[1,2,3],[4,5,6],[7,8,9]])\n",
        "arr"
      ],
      "metadata": {
        "colab": {
          "base_uri": "https://localhost:8080/"
        },
        "id": "t8Btw2irGX0c",
        "outputId": "6d77fa94-6e88-4478-8b1d-92f406b32b24"
      },
      "execution_count": null,
      "outputs": [
        {
          "output_type": "execute_result",
          "data": {
            "text/plain": [
              "array([[1, 2, 3],\n",
              "       [4, 5, 6],\n",
              "       [7, 8, 9]])"
            ]
          },
          "metadata": {},
          "execution_count": 7
        }
      ]
    },
    {
      "cell_type": "markdown",
      "source": [
        "# 4. Size Function"
      ],
      "metadata": {
        "id": "-iLqqNaNHK4n"
      }
    },
    {
      "cell_type": "markdown",
      "source": [
        "####In Python, numpy.size() function count the no. of elements along a given axis"
      ],
      "metadata": {
        "id": "-IRk8jUmHuJs"
      }
    },
    {
      "cell_type": "code",
      "source": [
        "arr = np.array([[1,2,3],[4,5,6],[7,8,9],[1,2,3]])\n",
        "print('Total no. of elements in the array: ',arr.size)\n",
        "print('Total no. of  rows: ',np.size(arr,0))   ## For rows\n",
        "print('Total no. of  columns: ',np.size(arr,1))  ## For columns\n",
        "print()\n",
        "arr"
      ],
      "metadata": {
        "colab": {
          "base_uri": "https://localhost:8080/"
        },
        "id": "tztdGdvqHD7y",
        "outputId": "8167e8ff-7559-4db6-b5d9-7dbda0ddd7fe"
      },
      "execution_count": null,
      "outputs": [
        {
          "output_type": "stream",
          "name": "stdout",
          "text": [
            "Total no. of elements in the array:  12\n",
            "Total no. of  rows:  4\n",
            "Total no. of  columns:  3\n",
            "\n"
          ]
        },
        {
          "output_type": "execute_result",
          "data": {
            "text/plain": [
              "array([[1, 2, 3],\n",
              "       [4, 5, 6],\n",
              "       [7, 8, 9],\n",
              "       [1, 2, 3]])"
            ]
          },
          "metadata": {},
          "execution_count": 8
        }
      ]
    },
    {
      "cell_type": "markdown",
      "source": [
        "#5. Shape Function"
      ],
      "metadata": {
        "id": "7JFVGi6SHWzI"
      }
    },
    {
      "cell_type": "markdown",
      "source": [
        "#### Shape of an array can be defined as the number of elements in each dimension. Dimension is the number of indices or subscripts, that we require in order to specify an individual element of an array"
      ],
      "metadata": {
        "id": "HGyMiJzMJEuU"
      }
    },
    {
      "cell_type": "code",
      "source": [
        "arr = np.array([[1,2,3],[4,5,6],[7,8,9],[1,2,3]])\n",
        "\n",
        "print(\"Without shape function: \",(np.size(arr,0),np.size(arr,1)))\n",
        "\n",
        "print(\"With shape function: \",arr.shape)\n"
      ],
      "metadata": {
        "colab": {
          "base_uri": "https://localhost:8080/"
        },
        "id": "TTwnHIa6HVZY",
        "outputId": "c33fadb7-428c-4d2c-b3fb-7b4e2583e6fc"
      },
      "execution_count": null,
      "outputs": [
        {
          "output_type": "stream",
          "name": "stdout",
          "text": [
            "Without shape function:  (4, 3)\n",
            "With shape function:  (4, 3)\n"
          ]
        }
      ]
    },
    {
      "cell_type": "markdown",
      "source": [
        "#6. Dtype Function"
      ],
      "metadata": {
        "id": "edh_ODS9KMKj"
      }
    },
    {
      "cell_type": "code",
      "source": [
        "arr1 = np.array([1,2,3,4])\n",
        "arr1.dtype"
      ],
      "metadata": {
        "colab": {
          "base_uri": "https://localhost:8080/"
        },
        "id": "L9c-V7f9J8Xd",
        "outputId": "6873b4eb-982e-4822-e5f2-267c61a94881"
      },
      "execution_count": null,
      "outputs": [
        {
          "output_type": "execute_result",
          "data": {
            "text/plain": [
              "dtype('int64')"
            ]
          },
          "metadata": {},
          "execution_count": 10
        }
      ]
    },
    {
      "cell_type": "markdown",
      "source": [
        "# 7. Ndim function\n",
        "#### np.ndarray.ndim() function return the no. of dimensions of an array"
      ],
      "metadata": {
        "id": "K7BcpBIr6xJA"
      }
    },
    {
      "cell_type": "code",
      "source": [
        "arr1 = np.array([1,2,3,1,2,3,4])\n",
        "print(arr1.ndim)\n",
        "arr2 = np.array([[1,2,3],[4,5,6],[7,8,9],[1,2,3]])\n",
        "print(arr2.ndim)\n",
        "\n",
        "arr3 = np.array(arr1, ndmin = 3)\n",
        "print(arr3)"
      ],
      "metadata": {
        "colab": {
          "base_uri": "https://localhost:8080/"
        },
        "id": "GPYw7yUfKotc",
        "outputId": "6b000782-a06f-45a1-cd35-315ce8e0b783"
      },
      "execution_count": null,
      "outputs": [
        {
          "output_type": "stream",
          "name": "stdout",
          "text": [
            "1\n",
            "2\n",
            "[[[1 2 3 1 2 3 4]]]\n"
          ]
        }
      ]
    },
    {
      "cell_type": "markdown",
      "source": [
        "#8. Zeros Function\n",
        "\n",
        "#### The numpy.zeros() function returns a new array of given shape and type, with zeros. Syntax:\n",
        "\n",
        "#### numpy.zeros(shape, dtype = None)"
      ],
      "metadata": {
        "id": "sXlHWnvy8ECn"
      }
    },
    {
      "cell_type": "code",
      "source": [
        "arr = np.zeros(shape = (3,4), dtype = int)\n",
        "arr"
      ],
      "metadata": {
        "colab": {
          "base_uri": "https://localhost:8080/"
        },
        "id": "vOXJm1ko7ZYU",
        "outputId": "dffe6943-5146-4a0e-d154-f6a137848ebd"
      },
      "execution_count": null,
      "outputs": [
        {
          "output_type": "execute_result",
          "data": {
            "text/plain": [
              "array([[0, 0, 0, 0],\n",
              "       [0, 0, 0, 0],\n",
              "       [0, 0, 0, 0]])"
            ]
          },
          "metadata": {},
          "execution_count": 12
        }
      ]
    },
    {
      "cell_type": "markdown",
      "source": [
        "#9. Ones Function\n",
        "\n",
        "#### The numpy.ones() function returns a new array of given shape and type, with ones. Syntax:\n",
        "\n",
        "#### numpy.ones(shape, dtype = None)"
      ],
      "metadata": {
        "id": "uyrGbReB9Kt-"
      }
    },
    {
      "cell_type": "code",
      "source": [
        "arr = np.ones(shape = (3,4), dtype = int)\n",
        "arr"
      ],
      "metadata": {
        "colab": {
          "base_uri": "https://localhost:8080/"
        },
        "id": "22jOIjLE75-1",
        "outputId": "213318db-7e3b-4247-abd7-2d1c518f684a"
      },
      "execution_count": null,
      "outputs": [
        {
          "output_type": "execute_result",
          "data": {
            "text/plain": [
              "array([[1, 1, 1, 1],\n",
              "       [1, 1, 1, 1],\n",
              "       [1, 1, 1, 1]])"
            ]
          },
          "metadata": {},
          "execution_count": 13
        }
      ]
    },
    {
      "cell_type": "markdown",
      "source": [
        "# 9. Eye Function\n",
        "##### The eye tool returns a 2-D array with 1's as the diagonal and 0's elsewhere. The diagonal and 0's elsewhere. The diagonal can be main, upper, or lower depending on the optional parameter k."
      ],
      "metadata": {
        "id": "ePqT98Ik9ZhV"
      }
    },
    {
      "cell_type": "code",
      "source": [
        "np.eye(4, dtype = int)"
      ],
      "metadata": {
        "colab": {
          "base_uri": "https://localhost:8080/"
        },
        "id": "NXfbX0YG9WdP",
        "outputId": "79467dc8-32a5-49e8-8833-462cc994068d"
      },
      "execution_count": null,
      "outputs": [
        {
          "output_type": "execute_result",
          "data": {
            "text/plain": [
              "array([[1, 0, 0, 0],\n",
              "       [0, 1, 0, 0],\n",
              "       [0, 0, 1, 0],\n",
              "       [0, 0, 0, 1]])"
            ]
          },
          "metadata": {},
          "execution_count": 14
        }
      ]
    },
    {
      "cell_type": "markdown",
      "source": [
        "# 10. Empty Function\n",
        "#### return an empty array of given shape and type"
      ],
      "metadata": {
        "id": "cHaZsUzp-YEE"
      }
    },
    {
      "cell_type": "code",
      "source": [
        "np.empty(shape = (5,5), dtype = int)"
      ],
      "metadata": {
        "colab": {
          "base_uri": "https://localhost:8080/"
        },
        "id": "VuIG-WTV-M39",
        "outputId": "6cd3165b-3fcd-4a0a-9d6b-eb40b7787630"
      },
      "execution_count": null,
      "outputs": [
        {
          "output_type": "execute_result",
          "data": {
            "text/plain": [
              "array([[      212467704,               0, 132616742253296,\n",
              "        132616740515696,        10770528],\n",
              "       [       10779816, 132616740515744,        10779816,\n",
              "        132616740515792,         9801792],\n",
              "       [       10767888, 132616740515840,        10758024,\n",
              "               10767936,        10758024],\n",
              "       [       10768752,         9801792,        10765928,\n",
              "               10765928, 132616740515888],\n",
              "       [132617169439920,        10768896, 132617169439744,\n",
              "        132617169439920,             576]])"
            ]
          },
          "metadata": {},
          "execution_count": 15
        }
      ]
    },
    {
      "cell_type": "markdown",
      "source": [
        "# 11. Random Functions\n",
        "\n"
      ],
      "metadata": {
        "id": "6oQUCf2CCNlp"
      }
    },
    {
      "cell_type": "markdown",
      "source": [
        "### a) The numpy.random.rand() function creates an array of specified shape and fills it woth random values"
      ],
      "metadata": {
        "id": "5hOO2wefDfzg"
      }
    },
    {
      "cell_type": "code",
      "source": [
        "np.random.rand(3,4)"
      ],
      "metadata": {
        "colab": {
          "base_uri": "https://localhost:8080/"
        },
        "id": "DQNbdmOt-rzE",
        "outputId": "85490c20-d475-442d-bcd8-a7697f4197fa"
      },
      "execution_count": null,
      "outputs": [
        {
          "output_type": "execute_result",
          "data": {
            "text/plain": [
              "array([[0.25178123, 0.34732667, 0.85708516, 0.73695491],\n",
              "       [0.29747141, 0.88748916, 0.2601112 , 0.47881517],\n",
              "       [0.28918265, 0.17399969, 0.44869438, 0.61232916]])"
            ]
          },
          "metadata": {},
          "execution_count": 16
        }
      ]
    },
    {
      "cell_type": "markdown",
      "source": [
        "### b) np.random.randint\n",
        "is one of the function for doing random sampling in numpy. It returns an array of specified shape and fills with random int from low(inclusive) to high(exclusive), i.e. in the interval"
      ],
      "metadata": {
        "id": "ORr0w55mC_0F"
      }
    },
    {
      "cell_type": "code",
      "source": [
        "np.random.randint(low = 1,high = 6, size = 15)     # (start, end, no. of values to print)"
      ],
      "metadata": {
        "colab": {
          "base_uri": "https://localhost:8080/"
        },
        "id": "AGq8q2GjC5EV",
        "outputId": "27fd8842-b7bf-498a-8055-bbe1ba6afb8e"
      },
      "execution_count": null,
      "outputs": [
        {
          "output_type": "execute_result",
          "data": {
            "text/plain": [
              "array([2, 2, 3, 3, 3, 4, 3, 1, 3, 2, 3, 3, 2, 5, 3])"
            ]
          },
          "metadata": {},
          "execution_count": 17
        }
      ]
    },
    {
      "cell_type": "code",
      "source": [
        "np.random.randint( 1, 6, 8)"
      ],
      "metadata": {
        "colab": {
          "base_uri": "https://localhost:8080/"
        },
        "id": "EYgI3rhVDmy-",
        "outputId": "f4459924-c9aa-4d9b-aea2-4ec955f8c8fe"
      },
      "execution_count": null,
      "outputs": [
        {
          "output_type": "execute_result",
          "data": {
            "text/plain": [
              "array([1, 2, 1, 4, 3, 5, 5, 1])"
            ]
          },
          "metadata": {},
          "execution_count": 18
        }
      ]
    },
    {
      "cell_type": "markdown",
      "source": [
        "### c) np.random.randn\n",
        "The numpy.random.randn() function creates an array of specified shape and fills it with random number vaues as per *standard normal distribution*"
      ],
      "metadata": {
        "id": "mIyyjoUHF0vh"
      }
    },
    {
      "cell_type": "code",
      "source": [
        "np.random.randn(20)"
      ],
      "metadata": {
        "colab": {
          "base_uri": "https://localhost:8080/"
        },
        "id": "GBlTkNkfFYdW",
        "outputId": "727c6a22-3db8-44e6-e9a7-82a7eb3f0221"
      },
      "execution_count": null,
      "outputs": [
        {
          "output_type": "execute_result",
          "data": {
            "text/plain": [
              "array([ 0.10529192, -0.28591736,  0.28479958,  1.14868913,  1.119035  ,\n",
              "        0.43660272,  1.00626042, -0.41442118,  0.56836271,  0.71229596,\n",
              "        1.1135965 , -0.41257193,  2.46422093, -0.9422814 , -0.31845228,\n",
              "       -1.51013503,  0.65771961,  1.18115961,  0.21382396,  0.96048053])"
            ]
          },
          "metadata": {},
          "execution_count": 19
        }
      ]
    },
    {
      "cell_type": "code",
      "source": [
        "import matplotlib.pyplot as plt\n",
        "%matplotlib inline\n",
        "plt.hist(np.random.randn(100), bins = 15);\n"
      ],
      "metadata": {
        "colab": {
          "base_uri": "https://localhost:8080/",
          "height": 430
        },
        "id": "hHAZjDUzGXmf",
        "outputId": "b4ff428d-c60e-4ecd-a390-817792c0c32f"
      },
      "execution_count": null,
      "outputs": [
        {
          "output_type": "display_data",
          "data": {
            "text/plain": [
              "<Figure size 640x480 with 1 Axes>"
            ],
            "image/png": "[encoded data removed]"
          },
          "metadata": {}
        }
      ]
    },
    {
      "cell_type": "markdown",
      "source": [
        "# 12. Reshape Function - will not alter the original data\n",
        "\n",
        "The numpy.reshape() function shapes an array without changing the data of the array. *(It Should be noted that the product of the rows and columns should be same.)*"
      ],
      "metadata": {
        "id": "bV8yp5ptJY75"
      }
    },
    {
      "cell_type": "code",
      "source": [
        "arr = np.random.randint(1, 15, (3,4))\n",
        "print(arr)\n",
        "print(arr.shape)\n",
        "print(arr.reshape(4,3))\n",
        "print(arr.reshape(6,2))"
      ],
      "metadata": {
        "colab": {
          "base_uri": "https://localhost:8080/"
        },
        "id": "wVa019jEIuRG",
        "outputId": "bb254f85-7edb-47dd-9d07-2065f24e4fef"
      },
      "execution_count": null,
      "outputs": [
        {
          "output_type": "stream",
          "name": "stdout",
          "text": [
            "[[ 1 14  7 14]\n",
            " [11 12  7  2]\n",
            " [ 6  7  4  9]]\n",
            "(3, 4)\n",
            "[[ 1 14  7]\n",
            " [14 11 12]\n",
            " [ 7  2  6]\n",
            " [ 7  4  9]]\n",
            "[[ 1 14]\n",
            " [ 7 14]\n",
            " [11 12]\n",
            " [ 7  2]\n",
            " [ 6  7]\n",
            " [ 4  9]]\n"
          ]
        }
      ]
    },
    {
      "cell_type": "markdown",
      "source": [
        "# Linspace Function\n",
        "\n",
        "The numpy.linspace() function returns number spaces evenly w.r.t interval. Similar to numpy.arange() function but instead of step it uses sample number.\n",
        "\n",
        "Parameters:\n",
        "\n",
        "\n",
        "* -> start: [Optional] start of Interval range, By default start = 0\n",
        "* -> stop: end of interval range\n",
        "* -> restep: If True, return (samples,step), By deafault restep = False\n",
        "* -> num: [int, Optional] No. of Samples to generate\n",
        "* -> dtype: type of Output array\n",
        "\n"
      ],
      "metadata": {
        "id": "IcRx1K7_K3YJ"
      }
    },
    {
      "cell_type": "code",
      "source": [
        "np.linspace(1,10,5)"
      ],
      "metadata": {
        "colab": {
          "base_uri": "https://localhost:8080/"
        },
        "id": "YM0q1e2iKSQ1",
        "outputId": "b76d901b-7df2-4038-d9ec-431ab42f44cd"
      },
      "execution_count": null,
      "outputs": [
        {
          "output_type": "execute_result",
          "data": {
            "text/plain": [
              "array([ 1.  ,  3.25,  5.5 ,  7.75, 10.  ])"
            ]
          },
          "metadata": {},
          "execution_count": 22
        }
      ]
    },
    {
      "cell_type": "markdown",
      "source": [
        "# 14. Flatten Function\n",
        "\n",
        "ndarray.flatten() function return a copy of the array collapsed into on dimension"
      ],
      "metadata": {
        "id": "m04Gn5RUUl8I"
      }
    },
    {
      "cell_type": "code",
      "source": [
        "arr = np.random.randint(1, 15, (3,4))\n",
        "print(arr.shape)\n",
        "print(arr)\n",
        "arr = arr.flatten()\n",
        "print(arr)\n",
        "print(arr.shape)\n"
      ],
      "metadata": {
        "colab": {
          "base_uri": "https://localhost:8080/"
        },
        "id": "PgMyKlurUPYZ",
        "outputId": "c1a49838-06e6-4329-8f78-5775c3ae9b0a"
      },
      "execution_count": null,
      "outputs": [
        {
          "output_type": "stream",
          "name": "stdout",
          "text": [
            "(3, 4)\n",
            "[[14 10 10  5]\n",
            " [10  1 13  2]\n",
            " [13  5  3 11]]\n",
            "[14 10 10  5 10  1 13  2 13  5  3 11]\n",
            "(12,)\n"
          ]
        }
      ]
    },
    {
      "cell_type": "markdown",
      "source": [
        "# 15. Logspace Function\n",
        "\n",
        "The numpy.logspace() function returns number spaces eveny w.r.t interval on a log scale\n",
        "\n",
        "Parameters:\n",
        "\n",
        "\n",
        "* -> start: [float] start (base ** start) of interval range.\n",
        "* -> stop: [float] end (base ** stop) of interval range\n",
        "* -> endpoint: [Boolean, optional] If True, return (samples,step), By deafault restep = False\n",
        "* -> num: [int, Optional] Base of log scale, By default equals 10.0\n",
        "* -> dtype: type of Output array"
      ],
      "metadata": {
        "id": "sZ8DVzsfVRXe"
      }
    },
    {
      "cell_type": "code",
      "source": [
        "np.logspace(2,4,10)\n",
        "\n",
        "# to define the base of the log or log base\n",
        "\n",
        "np.logspace(2,4,10, base = 2)"
      ],
      "metadata": {
        "colab": {
          "base_uri": "https://localhost:8080/"
        },
        "id": "jQSk5W6BVBcO",
        "outputId": "abe4b673-b4b3-4dd6-8ea3-b9cd34de433e"
      },
      "execution_count": null,
      "outputs": [
        {
          "output_type": "execute_result",
          "data": {
            "text/plain": [
              "array([ 4.        ,  4.66611616,  5.44316   ,  6.34960421,  7.4069977 ,\n",
              "        8.64047791, 10.0793684 , 11.75787594, 13.71590373, 16.        ])"
            ]
          },
          "metadata": {},
          "execution_count": 24
        }
      ]
    },
    {
      "cell_type": "markdown",
      "source": [
        "# 16. Copy Function"
      ],
      "metadata": {
        "id": "GpGLhJB3XxOB"
      }
    },
    {
      "cell_type": "code",
      "source": [
        "arr1 = np.random.randint(1, 15,10)\n",
        "\n",
        "arr2 = arr1\n",
        "\n",
        "print(arr1, id(arr1))\n",
        "print(arr2, id(arr2))\n",
        "\n",
        "print('-'*50)\n",
        "\n",
        "arr1 = np.random.randint(1, 15,10)\n",
        "\n",
        "arr2 = arr1.copy()\n",
        "\n",
        "print(arr1, id(arr1))\n",
        "print(arr2, id(arr2))\n"
      ],
      "metadata": {
        "colab": {
          "base_uri": "https://localhost:8080/"
        },
        "id": "vcxmhKVPZtpr",
        "outputId": "c0d53e23-08b5-4bbb-bf23-50292842a800"
      },
      "execution_count": null,
      "outputs": [
        {
          "output_type": "stream",
          "name": "stdout",
          "text": [
            "[ 3 12  7 14  3  2 10  2  7  6] 132616322504080\n",
            "[ 3 12  7 14  3  2 10  2  7  6] 132616322504080\n",
            "--------------------------------------------------\n",
            "[ 7  2  1  1  9  8  6  1 13  9] 132616322504176\n",
            "[ 7  2  1  1  9  8  6  1 13  9] 132616322215984\n"
          ]
        }
      ]
    },
    {
      "cell_type": "markdown",
      "source": [
        "#17. arr.max() , arr.min(), arr.sum() functions\n"
      ],
      "metadata": {
        "id": "FZFgHe9Cg9gV"
      }
    },
    {
      "cell_type": "code",
      "source": [
        "arr = np.random.randint(1, 15, (3,4))\n",
        "print(arr)\n",
        "print('Max: ', arr.max())\n",
        "print('Min: ', arr.min())\n",
        "print('Sum: ', arr.sum())\n"
      ],
      "metadata": {
        "colab": {
          "base_uri": "https://localhost:8080/"
        },
        "id": "hgYyeS_YYES6",
        "outputId": "23ed4aa9-7161-48b4-b761-8b85b1a4e927"
      },
      "execution_count": null,
      "outputs": [
        {
          "output_type": "stream",
          "name": "stdout",
          "text": [
            "[[10  6  5  5]\n",
            " [14 10 14  1]\n",
            " [ 1  3  9  8]]\n",
            "Max:  14\n",
            "Min:  1\n",
            "Sum:  86\n"
          ]
        }
      ]
    },
    {
      "cell_type": "markdown",
      "source": [
        "Using axis function to find the max and min\n",
        "\n",
        "\n",
        "\n",
        "*  Axis = 0 for column\n",
        "* Axis = 1 for rows\n",
        "\n"
      ],
      "metadata": {
        "id": "mwMOPlZdh2On"
      }
    },
    {
      "cell_type": "code",
      "source": [
        "print(\"For columns: \")\n",
        "arr = np.random.randint(1, 15, (3,4))\n",
        "print(arr)\n",
        "print('Max: ', arr.max(axis = 0))\n",
        "print('Min: ', arr.min(axis = 0))\n",
        "print('Sum: ', arr.sum(axis = 0))"
      ],
      "metadata": {
        "colab": {
          "base_uri": "https://localhost:8080/"
        },
        "id": "QYBx9OSlhM8w",
        "outputId": "b0f97e92-4667-4834-fe36-64d9ab609988"
      },
      "execution_count": null,
      "outputs": [
        {
          "output_type": "stream",
          "name": "stdout",
          "text": [
            "For columns: \n",
            "[[ 9  7  9  3]\n",
            " [13 11  7  9]\n",
            " [ 6  2  9 14]]\n",
            "Max:  [13 11  9 14]\n",
            "Min:  [6 2 7 3]\n",
            "Sum:  [28 20 25 26]\n"
          ]
        }
      ]
    },
    {
      "cell_type": "code",
      "source": [
        "print(\"For rows: \")\n",
        "arr = np.random.randint(1, 15, (3,4))\n",
        "print(arr)\n",
        "print('Max: ', arr.max(axis = 1))\n",
        "print('Min: ', arr.min(axis = 1))\n",
        "print('Sum: ', arr.sum(axis = 1))"
      ],
      "metadata": {
        "colab": {
          "base_uri": "https://localhost:8080/"
        },
        "id": "U0PkuORniXfp",
        "outputId": "6c472ff4-995f-45bd-93b6-a7caf017d791"
      },
      "execution_count": null,
      "outputs": [
        {
          "output_type": "stream",
          "name": "stdout",
          "text": [
            "For rows: \n",
            "[[11 13  1 14]\n",
            " [ 3 11  2  2]\n",
            " [ 2  8 14 14]]\n",
            "Max:  [14 11 14]\n",
            "Min:  [1 2 2]\n",
            "Sum:  [39 18 38]\n"
          ]
        }
      ]
    },
    {
      "cell_type": "markdown",
      "source": [
        "# Seed Function\n",
        "\n",
        "#### random() function is used to generate random numbers in Python. Not actually random, rather this is used to generate pseudo-random numbers. That implies that these randomly generated numbers can be determined. random() function generates numbers for some values. This value is also called seed value.\n",
        "\n",
        "Syntax: random.seed(l, version)\n",
        "\n",
        "Parameter:\n",
        "\n",
        "\n",
        "*   l : Any seed value used to produce a random number\n",
        "*   version: A integer used to specify how to convert l in integer.\n",
        "\n"
      ],
      "metadata": {
        "id": "Do-oQ4-oixSQ"
      }
    },
    {
      "cell_type": "code",
      "source": [
        "np.random.seed(3)\n",
        "arr= np.random.randint(1,10,(3,5))\n",
        "print(arr)\n",
        "print('-'*50)\n"
      ],
      "metadata": {
        "id": "CntRrN4mipwr",
        "colab": {
          "base_uri": "https://localhost:8080/"
        },
        "outputId": "d72c7f2b-8d75-4013-d852-c0d44a8baf05"
      },
      "execution_count": null,
      "outputs": [
        {
          "output_type": "stream",
          "name": "stdout",
          "text": [
            "[[9 4 9 9 1]\n",
            " [6 4 6 8 7]\n",
            " [1 5 8 9 2]]\n",
            "--------------------------------------------------\n"
          ]
        }
      ]
    },
    {
      "cell_type": "markdown",
      "source": [
        "# 19. Sorting Function\n",
        "\n",
        "numpy.sort()\n",
        "\n",
        "Parameters:\n",
        "\n",
        "\n",
        "*   arr : Array to be sorted\n",
        "*   axis: Axis along which we need array to be sorted\n",
        "*   order: This arguments specifies which fiels to be compared first.\n",
        "*   kind: which typeof sorting algorithm like: *mergesort* etc.\n",
        "\n",
        "\n"
      ],
      "metadata": {
        "id": "Jq-DLT1dMzzf"
      }
    },
    {
      "cell_type": "code",
      "source": [
        "np.random.seed(3)\n",
        "arr= np.random.randint(1,10,(3,5))\n",
        "print(arr)\n",
        "print('-'*50)\n",
        "\n",
        "print(np.sort(arr))   # by default it is sorting by rows i.e. axis = 1\n",
        "print('-'*50)\n",
        "print(np.sort(arr,axis = 0))\n",
        "\n",
        "print('-'*50)\n",
        "\n",
        "np.sort(arr.flatten())"
      ],
      "metadata": {
        "colab": {
          "base_uri": "https://localhost:8080/"
        },
        "id": "oPcxrIVPKvaS",
        "outputId": "039f8696-09d7-4ae6-e14b-ae5ef7f20c03"
      },
      "execution_count": null,
      "outputs": [
        {
          "output_type": "stream",
          "name": "stdout",
          "text": [
            "[[9 4 9 9 1]\n",
            " [6 4 6 8 7]\n",
            " [1 5 8 9 2]]\n",
            "--------------------------------------------------\n",
            "[[1 4 9 9 9]\n",
            " [4 6 6 7 8]\n",
            " [1 2 5 8 9]]\n",
            "--------------------------------------------------\n",
            "[[1 4 6 8 1]\n",
            " [6 4 8 9 2]\n",
            " [9 5 9 9 7]]\n",
            "--------------------------------------------------\n"
          ]
        },
        {
          "output_type": "execute_result",
          "data": {
            "text/plain": [
              "array([1, 1, 2, 4, 4, 5, 6, 6, 7, 8, 8, 9, 9, 9, 9])"
            ]
          },
          "metadata": {},
          "execution_count": 40
        }
      ]
    },
    {
      "cell_type": "code",
      "source": [],
      "metadata": {
        "id": "q_W8rhHeNhr8"
      },
      "execution_count": null,
      "outputs": []
    }
  ]
}