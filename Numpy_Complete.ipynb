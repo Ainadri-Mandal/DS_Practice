{
  "nbformat": 4,
  "nbformat_minor": 0,
  "metadata": {
    "colab": {
      "provenance": [],
      "authorship_tag": "ABX9TyNNoki6mw2j8UdN1uf65y3V"
    },
    "kernelspec": {
      "name": "python3",
      "display_name": "Python 3"
    },
    "language_info": {
      "name": "python"
    }
  },
  "cells": [
    {
      "cell_type": "code",
      "execution_count": 2,
      "metadata": {
        "id": "kM-qa_w0GP3i"
      },
      "outputs": [],
      "source": [
        "import numpy as np"
      ]
    },
    {
      "cell_type": "markdown",
      "source": [
        "# 1. Converting a List into np Array"
      ],
      "metadata": {
        "id": "pUjLJLszG1sX"
      }
    },
    {
      "cell_type": "code",
      "source": [
        "lst = [1,2,3,4]\n",
        "print(type(lst))\n",
        "arr = np.array(lst)\n",
        "print(type(arr))\n",
        "arr = np.array(lst, ndmin = 2)   #ndmin states how many dimensionsion we want in array\n",
        "print(arr)"
      ],
      "metadata": {
        "colab": {
          "base_uri": "https://localhost:8080/"
        },
        "id": "z4jyHxsKGyXl",
        "outputId": "3e85b30b-c8ad-40a1-b68f-e62f4bd3b3a9"
      },
      "execution_count": 3,
      "outputs": [
        {
          "output_type": "stream",
          "name": "stdout",
          "text": [
            "<class 'list'>\n",
            "<class 'numpy.ndarray'>\n",
            "[[1 2 3 4]]\n"
          ]
        }
      ]
    },
    {
      "cell_type": "code",
      "source": [
        "arr = np.array(lst, ndmin = 1)   #ndmin states how many dimensionsion we want in array\n",
        "arr"
      ],
      "metadata": {
        "colab": {
          "base_uri": "https://localhost:8080/"
        },
        "id": "CBrc-YSuG-T1",
        "outputId": "3f98c9bd-60d8-40ed-f872-dbce046f4a4d"
      },
      "execution_count": 4,
      "outputs": [
        {
          "output_type": "execute_result",
          "data": {
            "text/plain": [
              "array([1, 2, 3, 4])"
            ]
          },
          "metadata": {},
          "execution_count": 4
        }
      ]
    },
    {
      "cell_type": "code",
      "source": [
        "arr = np.array(lst, ndmin = 2)\n",
        "arr"
      ],
      "metadata": {
        "colab": {
          "base_uri": "https://localhost:8080/"
        },
        "id": "do00OfE5HAhv",
        "outputId": "0d8e5dd7-68cf-4d3c-c615-ef80bb46ff66"
      },
      "execution_count": 5,
      "outputs": [
        {
          "output_type": "execute_result",
          "data": {
            "text/plain": [
              "array([[1, 2, 3, 4]])"
            ]
          },
          "metadata": {},
          "execution_count": 5
        }
      ]
    },
    {
      "cell_type": "markdown",
      "source": [
        "# 2. Arange Functions"
      ],
      "metadata": {
        "id": "3AfxHKAmIREz"
      }
    },
    {
      "cell_type": "markdown",
      "source": [
        "##### The arange (start, stop, step, dtype = ): returns an array with evenly spaced elements as per the interval.\n",
        "##### The interval mentioned is half-opened i.e. [start, stop]"
      ],
      "metadata": {
        "id": "2hFt7Oh5IWvf"
      }
    },
    {
      "cell_type": "code",
      "source": [
        "arr = np.arange(1,10,2)\n",
        "arr"
      ],
      "metadata": {
        "colab": {
          "base_uri": "https://localhost:8080/"
        },
        "id": "v5Lne0LVH2pZ",
        "outputId": "43d774b8-700d-44a5-9eb6-260cbf429e87"
      },
      "execution_count": 6,
      "outputs": [
        {
          "output_type": "execute_result",
          "data": {
            "text/plain": [
              "array([1, 3, 5, 7, 9])"
            ]
          },
          "metadata": {},
          "execution_count": 6
        }
      ]
    },
    {
      "cell_type": "markdown",
      "source": [
        "# 3. Multidimensional array"
      ],
      "metadata": {
        "id": "rnL7u4PvGgYO"
      }
    },
    {
      "cell_type": "code",
      "source": [
        "arr = np.array([[1,2,3],[4,5,6],[7,8,9]])\n",
        "arr"
      ],
      "metadata": {
        "colab": {
          "base_uri": "https://localhost:8080/"
        },
        "id": "t8Btw2irGX0c",
        "outputId": "acd6e800-711c-4ff3-8b67-4a2109182521"
      },
      "execution_count": 7,
      "outputs": [
        {
          "output_type": "execute_result",
          "data": {
            "text/plain": [
              "array([[1, 2, 3],\n",
              "       [4, 5, 6],\n",
              "       [7, 8, 9]])"
            ]
          },
          "metadata": {},
          "execution_count": 7
        }
      ]
    },
    {
      "cell_type": "markdown",
      "source": [
        "# 4. Size Function"
      ],
      "metadata": {
        "id": "-iLqqNaNHK4n"
      }
    },
    {
      "cell_type": "markdown",
      "source": [
        "####In Python, numpy.size() function count the no. of elements along a given axis"
      ],
      "metadata": {
        "id": "-IRk8jUmHuJs"
      }
    },
    {
      "cell_type": "code",
      "source": [
        "arr = np.array([[1,2,3],[4,5,6],[7,8,9],[1,2,3]])\n",
        "print('Total no. of elements in the array: ',arr.size)\n",
        "print('Total no. of  rows: ',np.size(arr,0))   ## For rows\n",
        "print('Total no. of  columns: ',np.size(arr,1))  ## For columns\n",
        "print()\n",
        "arr"
      ],
      "metadata": {
        "colab": {
          "base_uri": "https://localhost:8080/"
        },
        "id": "tztdGdvqHD7y",
        "outputId": "dd545cae-ff35-4ff3-ff96-5068a0bd4c96"
      },
      "execution_count": 8,
      "outputs": [
        {
          "output_type": "stream",
          "name": "stdout",
          "text": [
            "Total no. of elements in the array:  12\n",
            "Total no. of  rows:  4\n",
            "Total no. of  columns:  3\n",
            "\n"
          ]
        },
        {
          "output_type": "execute_result",
          "data": {
            "text/plain": [
              "array([[1, 2, 3],\n",
              "       [4, 5, 6],\n",
              "       [7, 8, 9],\n",
              "       [1, 2, 3]])"
            ]
          },
          "metadata": {},
          "execution_count": 8
        }
      ]
    },
    {
      "cell_type": "markdown",
      "source": [
        "#5. Shape Function"
      ],
      "metadata": {
        "id": "7JFVGi6SHWzI"
      }
    },
    {
      "cell_type": "markdown",
      "source": [
        "#### Shape of an array can be defined as the number of elements in each dimension. Dimension is the number of indices or subscripts, that we require in order to specify an individual element of an array"
      ],
      "metadata": {
        "id": "HGyMiJzMJEuU"
      }
    },
    {
      "cell_type": "code",
      "source": [
        "arr = np.array([[1,2,3],[4,5,6],[7,8,9],[1,2,3]])\n",
        "\n",
        "print(\"Without shape function: \",(np.size(arr,0),np.size(arr,1)))\n",
        "\n",
        "print(\"With shape function: \",arr.shape)\n"
      ],
      "metadata": {
        "colab": {
          "base_uri": "https://localhost:8080/"
        },
        "id": "TTwnHIa6HVZY",
        "outputId": "2db86234-e264-4737-d404-3e04d5b615d8"
      },
      "execution_count": 9,
      "outputs": [
        {
          "output_type": "stream",
          "name": "stdout",
          "text": [
            "Without shape function:  (4, 3)\n",
            "With shape function:  (4, 3)\n"
          ]
        }
      ]
    },
    {
      "cell_type": "markdown",
      "source": [
        "#6. Dtype Function"
      ],
      "metadata": {
        "id": "edh_ODS9KMKj"
      }
    },
    {
      "cell_type": "code",
      "source": [
        "arr1 = np.array([1,2,3,4])\n",
        "arr1.dtype"
      ],
      "metadata": {
        "colab": {
          "base_uri": "https://localhost:8080/"
        },
        "id": "L9c-V7f9J8Xd",
        "outputId": "832a5550-45a5-4555-edc5-63fd4b7048fc"
      },
      "execution_count": 10,
      "outputs": [
        {
          "output_type": "execute_result",
          "data": {
            "text/plain": [
              "dtype('int64')"
            ]
          },
          "metadata": {},
          "execution_count": 10
        }
      ]
    },
    {
      "cell_type": "markdown",
      "source": [
        "# 7. Ndim function\n",
        "#### np.ndarray.ndim() function return the no. of dimensions of an array"
      ],
      "metadata": {
        "id": "K7BcpBIr6xJA"
      }
    },
    {
      "cell_type": "code",
      "source": [
        "arr1 = np.array([1,2,3,1,2,3,4])\n",
        "print(arr1.ndim)\n",
        "arr2 = np.array([[1,2,3],[4,5,6],[7,8,9],[1,2,3]])\n",
        "print(arr2.ndim)\n",
        "\n",
        "arr3 = np.array(arr1, ndmin = 3)\n",
        "print(arr3)"
      ],
      "metadata": {
        "colab": {
          "base_uri": "https://localhost:8080/"
        },
        "id": "GPYw7yUfKotc",
        "outputId": "960b5000-0b45-4fa5-b0eb-241fee8c91e8"
      },
      "execution_count": 11,
      "outputs": [
        {
          "output_type": "stream",
          "name": "stdout",
          "text": [
            "1\n",
            "2\n",
            "[[[1 2 3 1 2 3 4]]]\n"
          ]
        }
      ]
    },
    {
      "cell_type": "markdown",
      "source": [
        "#8. Zeros Function\n",
        "\n",
        "#### The numpy.zeros() function returns a new array of given shape and type, with zeros. Syntax:\n",
        "\n",
        "#### numpy.zeros(shape, dtype = None)"
      ],
      "metadata": {
        "id": "sXlHWnvy8ECn"
      }
    },
    {
      "cell_type": "code",
      "source": [
        "arr = np.zeros(shape = (3,4), dtype = int)\n",
        "arr"
      ],
      "metadata": {
        "colab": {
          "base_uri": "https://localhost:8080/"
        },
        "id": "vOXJm1ko7ZYU",
        "outputId": "83ea3777-d791-4282-fb65-457144d304d3"
      },
      "execution_count": 12,
      "outputs": [
        {
          "output_type": "execute_result",
          "data": {
            "text/plain": [
              "array([[0, 0, 0, 0],\n",
              "       [0, 0, 0, 0],\n",
              "       [0, 0, 0, 0]])"
            ]
          },
          "metadata": {},
          "execution_count": 12
        }
      ]
    },
    {
      "cell_type": "markdown",
      "source": [
        "#9. Ones Function\n",
        "\n",
        "#### The numpy.ones() function returns a new array of given shape and type, with ones. Syntax:\n",
        "\n",
        "#### numpy.ones(shape, dtype = None)"
      ],
      "metadata": {
        "id": "uyrGbReB9Kt-"
      }
    },
    {
      "cell_type": "code",
      "source": [
        "arr = np.ones(shape = (3,4), dtype = int)\n",
        "arr"
      ],
      "metadata": {
        "colab": {
          "base_uri": "https://localhost:8080/"
        },
        "id": "22jOIjLE75-1",
        "outputId": "412dbef8-a122-412c-ade9-7ff656c93024"
      },
      "execution_count": 13,
      "outputs": [
        {
          "output_type": "execute_result",
          "data": {
            "text/plain": [
              "array([[1, 1, 1, 1],\n",
              "       [1, 1, 1, 1],\n",
              "       [1, 1, 1, 1]])"
            ]
          },
          "metadata": {},
          "execution_count": 13
        }
      ]
    },
    {
      "cell_type": "markdown",
      "source": [
        "# 9. Eye Function\n",
        "##### The eye tool returns a 2-D array with 1's as the diagonal and 0's elsewhere. The diagonal and 0's elsewhere. The diagonal can be main, upper, or lower depending on the optional parameter k."
      ],
      "metadata": {
        "id": "ePqT98Ik9ZhV"
      }
    },
    {
      "cell_type": "code",
      "source": [
        "np.eye(4, dtype = int)"
      ],
      "metadata": {
        "colab": {
          "base_uri": "https://localhost:8080/"
        },
        "id": "NXfbX0YG9WdP",
        "outputId": "fa120eef-1249-4053-ccd5-76520d373024"
      },
      "execution_count": 14,
      "outputs": [
        {
          "output_type": "execute_result",
          "data": {
            "text/plain": [
              "array([[1, 0, 0, 0],\n",
              "       [0, 1, 0, 0],\n",
              "       [0, 0, 1, 0],\n",
              "       [0, 0, 0, 1]])"
            ]
          },
          "metadata": {},
          "execution_count": 14
        }
      ]
    },
    {
      "cell_type": "markdown",
      "source": [
        "# 10. Empty Function\n",
        "#### return an empty array of given shape and type"
      ],
      "metadata": {
        "id": "cHaZsUzp-YEE"
      }
    },
    {
      "cell_type": "code",
      "source": [
        "np.empty(shape = (5,5), dtype = int)"
      ],
      "metadata": {
        "colab": {
          "base_uri": "https://localhost:8080/"
        },
        "id": "VuIG-WTV-M39",
        "outputId": "e465f892-3e49-4a2c-ec6b-e87b396392e7"
      },
      "execution_count": 15,
      "outputs": [
        {
          "output_type": "execute_result",
          "data": {
            "text/plain": [
              "array([[590549324,         0,         0,         0,         0],\n",
              "       [        0,         0,         0,         0,         0],\n",
              "       [        0,         0,         0,         0,         0],\n",
              "       [        0,         0,         0,         0,         0],\n",
              "       [        0,         0,         0,         0,         0]])"
            ]
          },
          "metadata": {},
          "execution_count": 15
        }
      ]
    },
    {
      "cell_type": "markdown",
      "source": [
        "# 11. Random Functions\n",
        "\n"
      ],
      "metadata": {
        "id": "6oQUCf2CCNlp"
      }
    },
    {
      "cell_type": "markdown",
      "source": [
        "### a) The numpy.random.rand() function creates an array of specified shape and fills it woth random values"
      ],
      "metadata": {
        "id": "5hOO2wefDfzg"
      }
    },
    {
      "cell_type": "code",
      "source": [
        "np.random.rand(3,4)"
      ],
      "metadata": {
        "colab": {
          "base_uri": "https://localhost:8080/"
        },
        "id": "DQNbdmOt-rzE",
        "outputId": "9b123866-326b-453a-80ea-3a4353b95ad8"
      },
      "execution_count": 16,
      "outputs": [
        {
          "output_type": "execute_result",
          "data": {
            "text/plain": [
              "array([[0.9304641 , 0.74801086, 0.42649886, 0.92395129],\n",
              "       [0.15869651, 0.28732125, 0.99994333, 0.42425723],\n",
              "       [0.53828462, 0.94479723, 0.82975031, 0.5021862 ]])"
            ]
          },
          "metadata": {},
          "execution_count": 16
        }
      ]
    },
    {
      "cell_type": "markdown",
      "source": [
        "### b) np.random.randint\n",
        "is one of the function for doing random sampling in numpy. It returns an array of specified shape and fills with random int from low(inclusive) to high(exclusive), i.e. in the interval"
      ],
      "metadata": {
        "id": "ORr0w55mC_0F"
      }
    },
    {
      "cell_type": "code",
      "source": [
        "np.random.randint(low = 1,high = 6, size = 15)     # (start, end, no. of values to print)"
      ],
      "metadata": {
        "colab": {
          "base_uri": "https://localhost:8080/"
        },
        "id": "AGq8q2GjC5EV",
        "outputId": "59ec03ed-7a4d-4d5d-8399-d63c503c2c31"
      },
      "execution_count": 17,
      "outputs": [
        {
          "output_type": "execute_result",
          "data": {
            "text/plain": [
              "array([5, 1, 2, 2, 4, 3, 4, 1, 4, 2, 5, 3, 4, 1, 5])"
            ]
          },
          "metadata": {},
          "execution_count": 17
        }
      ]
    },
    {
      "cell_type": "code",
      "source": [
        "np.random.randint( 1, 6, 8)"
      ],
      "metadata": {
        "colab": {
          "base_uri": "https://localhost:8080/"
        },
        "id": "EYgI3rhVDmy-",
        "outputId": "26ae1d88-a743-4be3-e8ec-9cb952be5d5b"
      },
      "execution_count": 18,
      "outputs": [
        {
          "output_type": "execute_result",
          "data": {
            "text/plain": [
              "array([5, 1, 4, 1, 1, 2, 5, 3])"
            ]
          },
          "metadata": {},
          "execution_count": 18
        }
      ]
    },
    {
      "cell_type": "markdown",
      "source": [
        "### c) np.random.randn\n",
        "The numpy.random.randn() function creates an array of specified shape and fills it with random number vaues as per *standard normal distribution*"
      ],
      "metadata": {
        "id": "mIyyjoUHF0vh"
      }
    },
    {
      "cell_type": "code",
      "source": [
        "np.random.randn(20)"
      ],
      "metadata": {
        "colab": {
          "base_uri": "https://localhost:8080/"
        },
        "id": "GBlTkNkfFYdW",
        "outputId": "93a1481f-a237-456b-d16d-54c7179f813d"
      },
      "execution_count": 19,
      "outputs": [
        {
          "output_type": "execute_result",
          "data": {
            "text/plain": [
              "array([ 0.43214689,  0.9771718 ,  1.21484204,  0.4121782 ,  0.61786278,\n",
              "       -1.20443276,  1.35664332, -0.00623597, -2.85916078,  0.13186498,\n",
              "        1.27190018,  0.81910478,  1.44526348,  0.16869826, -0.1358609 ,\n",
              "        0.18183071,  1.48874792, -0.19744146, -0.09513956, -0.18858875])"
            ]
          },
          "metadata": {},
          "execution_count": 19
        }
      ]
    },
    {
      "cell_type": "code",
      "source": [
        "import matplotlib.pyplot as plt\n",
        "%matplotlib inline\n",
        "plt.hist(np.random.randn(100), bins = 15);\n"
      ],
      "metadata": {
        "colab": {
          "base_uri": "https://localhost:8080/",
          "height": 430
        },
        "id": "hHAZjDUzGXmf",
        "outputId": "e0ab95c2-8e7e-4f94-f70c-b49ed144a6f7"
      },
      "execution_count": 20,
      "outputs": [
        {
          "output_type": "display_data",
          "data": {
            "text/plain": [
              "<Figure size 640x480 with 1 Axes>"
            ],
            "image/png": "[encoded data removed]"
          },
          "metadata": {}
        }
      ]
    },
    {
      "cell_type": "markdown",
      "source": [
        "# 12. Reshape Function - will not alter the original data\n",
        "\n",
        "The numpy.reshape() function shapes an array without changing the data of the array. *(It Should be noted that the product of the rows and columns should be same.)*"
      ],
      "metadata": {
        "id": "bV8yp5ptJY75"
      }
    },
    {
      "cell_type": "code",
      "source": [
        "arr = np.random.randint(1, 15, (3,4))\n",
        "print(arr)\n",
        "print(arr.shape)\n",
        "print(arr.reshape(4,3))\n",
        "print(arr.reshape(6,2))"
      ],
      "metadata": {
        "colab": {
          "base_uri": "https://localhost:8080/"
        },
        "id": "wVa019jEIuRG",
        "outputId": "6d3c456b-36f5-45ad-c55d-3acf8c274bfb"
      },
      "execution_count": 21,
      "outputs": [
        {
          "output_type": "stream",
          "name": "stdout",
          "text": [
            "[[ 7  1  4  2]\n",
            " [ 6  9  9  3]\n",
            " [ 3 11  7  2]]\n",
            "(3, 4)\n",
            "[[ 7  1  4]\n",
            " [ 2  6  9]\n",
            " [ 9  3  3]\n",
            " [11  7  2]]\n",
            "[[ 7  1]\n",
            " [ 4  2]\n",
            " [ 6  9]\n",
            " [ 9  3]\n",
            " [ 3 11]\n",
            " [ 7  2]]\n"
          ]
        }
      ]
    },
    {
      "cell_type": "markdown",
      "source": [
        "# Linspace Function\n",
        "\n",
        "The numpy.linspace() function returns number spaces evenly w.r.t interval. Similar to numpy.arange() function but instead of step it uses sample number.\n",
        "\n",
        "Parameters:\n",
        "\n",
        "\n",
        "* -> start: [Optional] start of Interval range, By default start = 0\n",
        "* -> stop: end of interval range\n",
        "* -> restep: If True, return (samples,step), By deafault restep = False\n",
        "* -> num: [int, Optional] No. of Samples to generate\n",
        "* -> dtype: type of Output array\n",
        "\n"
      ],
      "metadata": {
        "id": "IcRx1K7_K3YJ"
      }
    },
    {
      "cell_type": "code",
      "source": [
        "np.linspace(1,10,5)"
      ],
      "metadata": {
        "colab": {
          "base_uri": "https://localhost:8080/"
        },
        "id": "YM0q1e2iKSQ1",
        "outputId": "ecce00a1-6ff9-4e58-fd1f-ec93eb445689"
      },
      "execution_count": 22,
      "outputs": [
        {
          "output_type": "execute_result",
          "data": {
            "text/plain": [
              "array([ 1.  ,  3.25,  5.5 ,  7.75, 10.  ])"
            ]
          },
          "metadata": {},
          "execution_count": 22
        }
      ]
    },
    {
      "cell_type": "markdown",
      "source": [
        "# 14. Flatten Function\n",
        "\n",
        "ndarray.flatten() function return a copy of the array collapsed into on dimension"
      ],
      "metadata": {
        "id": "m04Gn5RUUl8I"
      }
    },
    {
      "cell_type": "code",
      "source": [
        "arr = np.random.randint(1, 15, (3,4))\n",
        "print(arr.shape)\n",
        "print(arr)\n",
        "arr = arr.flatten()\n",
        "print(arr)\n",
        "print(arr.shape)\n"
      ],
      "metadata": {
        "colab": {
          "base_uri": "https://localhost:8080/"
        },
        "id": "PgMyKlurUPYZ",
        "outputId": "c5e4ad0f-7546-4f68-fbfe-546b5093a624"
      },
      "execution_count": 23,
      "outputs": [
        {
          "output_type": "stream",
          "name": "stdout",
          "text": [
            "(3, 4)\n",
            "[[14 14  5  4]\n",
            " [ 3  9  7  3]\n",
            " [ 2  9  6  3]]\n",
            "[14 14  5  4  3  9  7  3  2  9  6  3]\n",
            "(12,)\n"
          ]
        }
      ]
    },
    {
      "cell_type": "markdown",
      "source": [
        "# 15. Logspace Function\n",
        "\n",
        "The numpy.logspace() function returns number spaces eveny w.r.t interval on a log scale\n",
        "\n",
        "Parameters:\n",
        "\n",
        "\n",
        "* -> start: [float] start (base ** start) of interval range.\n",
        "* -> stop: [float] end (base ** stop) of interval range\n",
        "* -> endpoint: [Boolean, optional] If True, return (samples,step), By deafault restep = False\n",
        "* -> num: [int, Optional] Base of log scale, By default equals 10.0\n",
        "* -> dtype: type of Output array"
      ],
      "metadata": {
        "id": "sZ8DVzsfVRXe"
      }
    },
    {
      "cell_type": "code",
      "source": [
        "np.logspace(2,4,10)\n",
        "\n",
        "# to define the base of the log or log base\n",
        "\n",
        "np.logspace(2,4,10, base = 2)"
      ],
      "metadata": {
        "colab": {
          "base_uri": "https://localhost:8080/"
        },
        "id": "jQSk5W6BVBcO",
        "outputId": "03d21e16-dc23-4b5d-f844-d47bfc2f8441"
      },
      "execution_count": 24,
      "outputs": [
        {
          "output_type": "execute_result",
          "data": {
            "text/plain": [
              "array([ 4.        ,  4.66611616,  5.44316   ,  6.34960421,  7.4069977 ,\n",
              "        8.64047791, 10.0793684 , 11.75787594, 13.71590373, 16.        ])"
            ]
          },
          "metadata": {},
          "execution_count": 24
        }
      ]
    },
    {
      "cell_type": "markdown",
      "source": [
        "# 16. Copy Function"
      ],
      "metadata": {
        "id": "GpGLhJB3XxOB"
      }
    },
    {
      "cell_type": "code",
      "source": [
        "arr1 = np.random.randint(1, 15,10)\n",
        "\n",
        "arr2 = arr1\n",
        "\n",
        "print(arr1, id(arr1))\n",
        "print(arr2, id(arr2))\n",
        "\n",
        "print('-'*50)\n",
        "\n",
        "arr1 = np.random.randint(1, 15,10)\n",
        "\n",
        "arr2 = arr1.copy()\n",
        "\n",
        "print(arr1, id(arr1))\n",
        "print(arr2, id(arr2))\n"
      ],
      "metadata": {
        "colab": {
          "base_uri": "https://localhost:8080/"
        },
        "id": "vcxmhKVPZtpr",
        "outputId": "2baef6fb-8aed-4902-8631-e4dcedadb51a"
      },
      "execution_count": 25,
      "outputs": [
        {
          "output_type": "stream",
          "name": "stdout",
          "text": [
            "[ 2  5 10  8  3  3  3  5  7 12] 138125142995184\n",
            "[ 2  5 10  8  3  3  3  5  7 12] 138125142995184\n",
            "--------------------------------------------------\n",
            "[ 8 10  6  4  8 12  1  2  2  1] 138125142995280\n",
            "[ 8 10  6  4  8 12  1  2  2  1] 138125148012336\n"
          ]
        }
      ]
    },
    {
      "cell_type": "markdown",
      "source": [
        "#17. arr.max() , arr.min(), arr.sum() functions\n"
      ],
      "metadata": {
        "id": "FZFgHe9Cg9gV"
      }
    },
    {
      "cell_type": "code",
      "source": [
        "arr = np.random.randint(1, 15, (3,4))\n",
        "print(arr)\n",
        "print('Max: ', arr.max())\n",
        "print('Min: ', arr.min())\n",
        "print('Sum: ', arr.sum())\n"
      ],
      "metadata": {
        "colab": {
          "base_uri": "https://localhost:8080/"
        },
        "id": "hgYyeS_YYES6",
        "outputId": "61d17f63-f040-4d35-fe3c-10b8d9fe4ff4"
      },
      "execution_count": 26,
      "outputs": [
        {
          "output_type": "stream",
          "name": "stdout",
          "text": [
            "[[ 7  1  7  7]\n",
            " [ 2 12  8  1]\n",
            " [ 3  4  1  7]]\n",
            "Max:  12\n",
            "Min:  1\n",
            "Sum:  60\n"
          ]
        }
      ]
    },
    {
      "cell_type": "markdown",
      "source": [
        "Using axis function to find the max and min\n",
        "\n",
        "\n",
        "\n",
        "*  Axis = 0 for column\n",
        "* Axis = 1 for rows\n",
        "\n"
      ],
      "metadata": {
        "id": "mwMOPlZdh2On"
      }
    },
    {
      "cell_type": "code",
      "source": [
        "print(\"For columns: \")\n",
        "arr = np.random.randint(1, 15, (3,4))\n",
        "print(arr)\n",
        "print('Max: ', arr.max(axis = 0))\n",
        "print('Min: ', arr.min(axis = 0))\n",
        "print('Sum: ', arr.sum(axis = 0))"
      ],
      "metadata": {
        "colab": {
          "base_uri": "https://localhost:8080/"
        },
        "id": "QYBx9OSlhM8w",
        "outputId": "3ff7cd01-d560-4ad2-d5fa-8fc94b0798e0"
      },
      "execution_count": 27,
      "outputs": [
        {
          "output_type": "stream",
          "name": "stdout",
          "text": [
            "For columns: \n",
            "[[ 8  6  7  5]\n",
            " [ 2  6 13  5]\n",
            " [ 1  2 13  7]]\n",
            "Max:  [ 8  6 13  7]\n",
            "Min:  [1 2 7 5]\n",
            "Sum:  [11 14 33 17]\n"
          ]
        }
      ]
    },
    {
      "cell_type": "code",
      "source": [
        "print(\"For rows: \")\n",
        "arr = np.random.randint(1, 15, (3,4))\n",
        "print(arr)\n",
        "print('Max: ', arr.max(axis = 1))\n",
        "print('Min: ', arr.min(axis = 1))\n",
        "print('Sum: ', arr.sum(axis = 1))"
      ],
      "metadata": {
        "colab": {
          "base_uri": "https://localhost:8080/"
        },
        "id": "U0PkuORniXfp",
        "outputId": "b1089495-bfd4-42d6-a6df-a8395757abbf"
      },
      "execution_count": 28,
      "outputs": [
        {
          "output_type": "stream",
          "name": "stdout",
          "text": [
            "For rows: \n",
            "[[10  1  6  7]\n",
            " [ 5 10  5 12]\n",
            " [ 7 10 12  1]]\n",
            "Max:  [10 12 12]\n",
            "Min:  [1 5 1]\n",
            "Sum:  [24 32 30]\n"
          ]
        }
      ]
    },
    {
      "cell_type": "markdown",
      "source": [
        "# Seed Function\n",
        "\n",
        "#### random() function is used to generate random numbers in Python. Not actually random, rather this is used to generate pseudo-random numbers. That implies that these randomly generated numbers can be determined. random() function generates numbers for some values. This value is also called seed value.\n",
        "\n",
        "Syntax: random.seed(l, version)\n",
        "\n",
        "Parameter:\n",
        "\n",
        "\n",
        "*   l : Any seed value used to produce a random number\n",
        "*   version: A integer used to specify how to convert l in integer.\n",
        "\n"
      ],
      "metadata": {
        "id": "Do-oQ4-oixSQ"
      }
    },
    {
      "cell_type": "code",
      "source": [
        "np.random.seed(3)\n",
        "arr= np.random.randint(1,10,(3,5))\n",
        "print(arr)\n",
        "print('-'*50)\n"
      ],
      "metadata": {
        "id": "CntRrN4mipwr",
        "colab": {
          "base_uri": "https://localhost:8080/"
        },
        "outputId": "4d7d6bc3-9109-445b-8447-3ef2736f76d9"
      },
      "execution_count": 29,
      "outputs": [
        {
          "output_type": "stream",
          "name": "stdout",
          "text": [
            "[[9 4 9 9 1]\n",
            " [6 4 6 8 7]\n",
            " [1 5 8 9 2]]\n",
            "--------------------------------------------------\n"
          ]
        }
      ]
    },
    {
      "cell_type": "markdown",
      "source": [
        "# 19. Sorting Function\n",
        "\n",
        "numpy.sort()\n",
        "\n",
        "Parameters:\n",
        "\n",
        "\n",
        "*   arr : Array to be sorted\n",
        "*   axis: Axis along which we need array to be sorted\n",
        "*   order: This arguments specifies which fiels to be compared first.\n",
        "*   kind: which typeof sorting algorithm like: *mergesort* etc.\n",
        "\n",
        "\n"
      ],
      "metadata": {
        "id": "Jq-DLT1dMzzf"
      }
    },
    {
      "cell_type": "code",
      "source": [
        "np.random.seed(3)\n",
        "arr= np.random.randint(1,10,(3,5))\n",
        "print(arr)\n",
        "print('-'*50)\n",
        "\n",
        "print(np.sort(arr))   # by default it is sorting by rows i.e. axis = 1\n",
        "print('-'*50)\n",
        "print(np.sort(arr,axis = 0))\n",
        "\n",
        "print('-'*50)\n",
        "\n",
        "arr = np.reshape(np.sort(arr.flatten()), arr.shape)\n",
        "print(arr)\n",
        "print('-'*50)"
      ],
      "metadata": {
        "colab": {
          "base_uri": "https://localhost:8080/"
        },
        "id": "oPcxrIVPKvaS",
        "outputId": "18e83689-7eb6-46b8-be8a-76a747627dfa"
      },
      "execution_count": 30,
      "outputs": [
        {
          "output_type": "stream",
          "name": "stdout",
          "text": [
            "[[9 4 9 9 1]\n",
            " [6 4 6 8 7]\n",
            " [1 5 8 9 2]]\n",
            "--------------------------------------------------\n",
            "[[1 4 9 9 9]\n",
            " [4 6 6 7 8]\n",
            " [1 2 5 8 9]]\n",
            "--------------------------------------------------\n",
            "[[1 4 6 8 1]\n",
            " [6 4 8 9 2]\n",
            " [9 5 9 9 7]]\n",
            "--------------------------------------------------\n",
            "[[1 1 2 4 4]\n",
            " [5 6 6 7 8]\n",
            " [8 9 9 9 9]]\n",
            "--------------------------------------------------\n"
          ]
        }
      ]
    },
    {
      "cell_type": "code",
      "source": [
        "print(np.sort(arr,axis = 0, kind = 'mergesort'))"
      ],
      "metadata": {
        "id": "q_W8rhHeNhr8",
        "colab": {
          "base_uri": "https://localhost:8080/"
        },
        "outputId": "3a3c942b-fa53-4beb-bc6c-2da2cc81cf69"
      },
      "execution_count": 31,
      "outputs": [
        {
          "output_type": "stream",
          "name": "stdout",
          "text": [
            "[[1 1 2 4 4]\n",
            " [5 6 6 7 8]\n",
            " [8 9 9 9 9]]\n"
          ]
        }
      ]
    },
    {
      "cell_type": "markdown",
      "source": [
        "#20. Mathematical Operations"
      ],
      "metadata": {
        "id": "bTCbnaqMODCF"
      }
    },
    {
      "cell_type": "markdown",
      "source": [
        "#### a) Addition"
      ],
      "metadata": {
        "id": "eJpd1FkSOzcq"
      }
    },
    {
      "cell_type": "code",
      "source": [
        "np.random.seed(3)\n",
        "arr= np.random.randint(1,10,(3,5))\n",
        "print(arr)\n",
        "print('-'*50)\n",
        "\n",
        "print(arr + 1)"
      ],
      "metadata": {
        "colab": {
          "base_uri": "https://localhost:8080/"
        },
        "id": "ioH4KdmmNgqB",
        "outputId": "ee735f11-7e1f-4931-8baf-c6ce8da1090a"
      },
      "execution_count": 32,
      "outputs": [
        {
          "output_type": "stream",
          "name": "stdout",
          "text": [
            "[[9 4 9 9 1]\n",
            " [6 4 6 8 7]\n",
            " [1 5 8 9 2]]\n",
            "--------------------------------------------------\n",
            "[[10  5 10 10  2]\n",
            " [ 7  5  7  9  8]\n",
            " [ 2  6  9 10  3]]\n"
          ]
        }
      ]
    },
    {
      "cell_type": "markdown",
      "source": [
        "#### b) Subtraction"
      ],
      "metadata": {
        "id": "Z6iXjajkO9vo"
      }
    },
    {
      "cell_type": "code",
      "source": [
        "np.random.seed(3)\n",
        "arr= np.random.randint(1,10,(3,5))\n",
        "print(arr)\n",
        "print('-'*50)\n",
        "\n",
        "print(arr - 1)"
      ],
      "metadata": {
        "colab": {
          "base_uri": "https://localhost:8080/"
        },
        "id": "Wd-XUME3PCEG",
        "outputId": "b2037b6b-8430-423b-864b-a6978eb4db6a"
      },
      "execution_count": 33,
      "outputs": [
        {
          "output_type": "stream",
          "name": "stdout",
          "text": [
            "[[9 4 9 9 1]\n",
            " [6 4 6 8 7]\n",
            " [1 5 8 9 2]]\n",
            "--------------------------------------------------\n",
            "[[8 3 8 8 0]\n",
            " [5 3 5 7 6]\n",
            " [0 4 7 8 1]]\n"
          ]
        }
      ]
    },
    {
      "cell_type": "markdown",
      "source": [
        "#### c) Multiplication"
      ],
      "metadata": {
        "id": "LmTu_SpaPC5X"
      }
    },
    {
      "cell_type": "code",
      "source": [
        "np.random.seed(3)\n",
        "arr= np.random.randint(1,10,(3,5))\n",
        "print(arr)\n",
        "print('-'*50)\n",
        "\n",
        "print(arr * 2)"
      ],
      "metadata": {
        "colab": {
          "base_uri": "https://localhost:8080/"
        },
        "id": "4r0r31VXPHIh",
        "outputId": "61c46467-832b-4957-9d70-4de0fec64c2b"
      },
      "execution_count": 34,
      "outputs": [
        {
          "output_type": "stream",
          "name": "stdout",
          "text": [
            "[[9 4 9 9 1]\n",
            " [6 4 6 8 7]\n",
            " [1 5 8 9 2]]\n",
            "--------------------------------------------------\n",
            "[[18  8 18 18  2]\n",
            " [12  8 12 16 14]\n",
            " [ 2 10 16 18  4]]\n"
          ]
        }
      ]
    },
    {
      "cell_type": "markdown",
      "source": [
        "#### d) Division"
      ],
      "metadata": {
        "id": "2UqBbjpkPHkD"
      }
    },
    {
      "cell_type": "code",
      "source": [
        "np.random.seed(3)\n",
        "arr= np.random.randint(1,10,(3,5))\n",
        "print(arr)\n",
        "print('-'*50)\n",
        "\n",
        "print(arr / 2)"
      ],
      "metadata": {
        "colab": {
          "base_uri": "https://localhost:8080/"
        },
        "id": "anY4vmnnPL95",
        "outputId": "7acf038f-78d7-4c70-870b-91be0374a483"
      },
      "execution_count": 35,
      "outputs": [
        {
          "output_type": "stream",
          "name": "stdout",
          "text": [
            "[[9 4 9 9 1]\n",
            " [6 4 6 8 7]\n",
            " [1 5 8 9 2]]\n",
            "--------------------------------------------------\n",
            "[[4.5 2.  4.5 4.5 0.5]\n",
            " [3.  2.  3.  4.  3.5]\n",
            " [0.5 2.5 4.  4.5 1. ]]\n"
          ]
        }
      ]
    },
    {
      "cell_type": "markdown",
      "source": [
        "#### e) Matrix Multiplication"
      ],
      "metadata": {
        "id": "aFxUEXQlPMXH"
      }
    },
    {
      "cell_type": "code",
      "source": [
        "np.random.seed(3)\n",
        "arr1 = np.random.randint(1,10,(2,2))\n",
        "arr2 = np.random.randint(1,10,(2,2))\n",
        "arr1"
      ],
      "metadata": {
        "colab": {
          "base_uri": "https://localhost:8080/"
        },
        "id": "HnRThvd-PRwe",
        "outputId": "99d4deb6-2ad3-469f-a959-0a81a3412641"
      },
      "execution_count": 36,
      "outputs": [
        {
          "output_type": "execute_result",
          "data": {
            "text/plain": [
              "array([[9, 4],\n",
              "       [9, 9]])"
            ]
          },
          "metadata": {},
          "execution_count": 36
        }
      ]
    },
    {
      "cell_type": "code",
      "source": [
        "arr2"
      ],
      "metadata": {
        "colab": {
          "base_uri": "https://localhost:8080/"
        },
        "id": "jmck5XKUQVS9",
        "outputId": "e54f1bc9-42ab-4ac1-8b49-8713f07325aa"
      },
      "execution_count": 37,
      "outputs": [
        {
          "output_type": "execute_result",
          "data": {
            "text/plain": [
              "array([[1, 6],\n",
              "       [4, 6]])"
            ]
          },
          "metadata": {},
          "execution_count": 37
        }
      ]
    },
    {
      "cell_type": "code",
      "source": [
        "arr1.dot(arr2)"
      ],
      "metadata": {
        "colab": {
          "base_uri": "https://localhost:8080/"
        },
        "id": "eIL-pepsQWFg",
        "outputId": "fa58b808-e0ab-4620-f789-f1ce1a180f9a"
      },
      "execution_count": 38,
      "outputs": [
        {
          "output_type": "execute_result",
          "data": {
            "text/plain": [
              "array([[ 25,  78],\n",
              "       [ 45, 108]])"
            ]
          },
          "metadata": {},
          "execution_count": 38
        }
      ]
    },
    {
      "cell_type": "markdown",
      "source": [
        "#### f) Power"
      ],
      "metadata": {
        "id": "QzAbmuTIQhfB"
      }
    },
    {
      "cell_type": "code",
      "source": [
        "np.random.seed(3)\n",
        "arr= np.random.randint(1,10,(3,5))\n",
        "print(arr)\n",
        "print('-'*50)\n",
        "\n",
        "print(arr ** 2)"
      ],
      "metadata": {
        "colab": {
          "base_uri": "https://localhost:8080/"
        },
        "id": "d7hf-sreQdhI",
        "outputId": "62fa0e5b-72eb-447e-86de-53faee8ff2b6"
      },
      "execution_count": 39,
      "outputs": [
        {
          "output_type": "stream",
          "name": "stdout",
          "text": [
            "[[9 4 9 9 1]\n",
            " [6 4 6 8 7]\n",
            " [1 5 8 9 2]]\n",
            "--------------------------------------------------\n",
            "[[81 16 81 81  1]\n",
            " [36 16 36 64 49]\n",
            " [ 1 25 64 81  4]]\n"
          ]
        }
      ]
    },
    {
      "cell_type": "markdown",
      "source": [
        "# 21. Percentile Function\n",
        "\n",
        "#### np.perecentile() function used to compute the nth percentile of given data (array elements) along the specified axis."
      ],
      "metadata": {
        "id": "3GOszjZHQ0T3"
      }
    },
    {
      "cell_type": "code",
      "source": [
        "np.random.seed(3)\n",
        "arr = np.random.randint(1,10,10)\n",
        "print(arr)\n",
        "print('-'*50)\n",
        "\n",
        "arr = np.sort(arr)\n",
        "print(arr)\n",
        "print('-'*50)\n",
        "\n",
        "print(np.percentile(arr, 50))"
      ],
      "metadata": {
        "colab": {
          "base_uri": "https://localhost:8080/"
        },
        "id": "wKcVP1vUQwzs",
        "outputId": "8eb8ea44-b83d-4f39-d59c-eef5b829bb1f"
      },
      "execution_count": 40,
      "outputs": [
        {
          "output_type": "stream",
          "name": "stdout",
          "text": [
            "[9 4 9 9 1 6 4 6 8 7]\n",
            "--------------------------------------------------\n",
            "[1 4 4 6 6 7 8 9 9 9]\n",
            "--------------------------------------------------\n",
            "6.5\n"
          ]
        }
      ]
    },
    {
      "cell_type": "markdown",
      "source": [
        "# 22. Mean, Variance and Standard Deviation\n"
      ],
      "metadata": {
        "id": "ih13EaX0TSGk"
      }
    },
    {
      "cell_type": "code",
      "source": [
        "np.random.seed(3)\n",
        "arr = np.random.randint(1,10,10)\n",
        "print(arr)\n",
        "print('-'*50)\n",
        "print(\"The mean of the array is: \", arr.mean())\n",
        "print(\"The Variance of the array is: \", arr.var())\n",
        "print(\"The Standard Deviation of the array is: \", arr.std())"
      ],
      "metadata": {
        "colab": {
          "base_uri": "https://localhost:8080/"
        },
        "id": "bhG8j0JpSeIO",
        "outputId": "122aa488-f1c4-4959-974d-e36d74b3d208"
      },
      "execution_count": 41,
      "outputs": [
        {
          "output_type": "stream",
          "name": "stdout",
          "text": [
            "[9 4 9 9 1 6 4 6 8 7]\n",
            "--------------------------------------------------\n",
            "The mean of the array is:  6.3\n",
            "The Variance of the array is:  6.410000000000001\n",
            "The Standard Deviation of the array is:  2.5317977802344327\n"
          ]
        }
      ]
    },
    {
      "cell_type": "markdown",
      "source": [
        "# 23. Filtering a Numpy Array"
      ],
      "metadata": {
        "id": "SZ7eV2EnU3Tz"
      }
    },
    {
      "cell_type": "code",
      "source": [
        "arr = np.arange(1, 10)\n",
        "print(arr)\n",
        "print('-'*50)\n",
        "\n",
        "print(arr > 5)\n",
        "print(arr[arr > 5])\n",
        "\n"
      ],
      "metadata": {
        "colab": {
          "base_uri": "https://localhost:8080/"
        },
        "id": "KU_0ZdVETvWr",
        "outputId": "5ff78f80-2f7b-4c60-ca12-5a33e76ed8bc"
      },
      "execution_count": 42,
      "outputs": [
        {
          "output_type": "stream",
          "name": "stdout",
          "text": [
            "[1 2 3 4 5 6 7 8 9]\n",
            "--------------------------------------------------\n",
            "[False False False False False  True  True  True  True]\n",
            "[6 7 8 9]\n"
          ]
        }
      ]
    },
    {
      "cell_type": "code",
      "source": [
        "arr2 = arr[arr > 5]\n",
        "print(arr2)"
      ],
      "metadata": {
        "colab": {
          "base_uri": "https://localhost:8080/"
        },
        "id": "z89ANyBeVBN4",
        "outputId": "34661052-4d7a-4a62-e279-d55a12eccca9"
      },
      "execution_count": 43,
      "outputs": [
        {
          "output_type": "stream",
          "name": "stdout",
          "text": [
            "[6 7 8 9]\n"
          ]
        }
      ]
    },
    {
      "cell_type": "code",
      "source": [
        "arr[arr > 5] = 10\n",
        "print(arr)"
      ],
      "metadata": {
        "colab": {
          "base_uri": "https://localhost:8080/"
        },
        "id": "5wzpc5_uVt4i",
        "outputId": "53720001-bd00-4cd8-c2ca-7645667365d3"
      },
      "execution_count": 44,
      "outputs": [
        {
          "output_type": "stream",
          "name": "stdout",
          "text": [
            "[ 1  2  3  4  5 10 10 10 10]\n"
          ]
        }
      ]
    },
    {
      "cell_type": "markdown",
      "source": [
        "# Transposing Function"
      ],
      "metadata": {
        "id": "1XK3c3dPWI3Q"
      }
    },
    {
      "cell_type": "markdown",
      "source": [
        "#### Coverting Rows into columns and columns into rows"
      ],
      "metadata": {
        "id": "vwh_GEB2WOv1"
      }
    },
    {
      "cell_type": "code",
      "source": [
        "arr = np.random.randint(1,20,(3,5))\n",
        "print(arr)\n",
        "print('-'*50)\n",
        "\n",
        "print(\"Transpose of the array is : \")\n",
        "print( arr.T)\n"
      ],
      "metadata": {
        "colab": {
          "base_uri": "https://localhost:8080/"
        },
        "id": "IjBym4m2V8OZ",
        "outputId": "44c0b523-431a-4777-a206-1fd338a040df"
      },
      "execution_count": 45,
      "outputs": [
        {
          "output_type": "stream",
          "name": "stdout",
          "text": [
            "[[ 1 13  8 15 18]\n",
            " [ 3  3  2  6  9]\n",
            " [15  2 11  8 12]]\n",
            "--------------------------------------------------\n",
            "Transpose of the array is : \n",
            "[[ 1  3 15]\n",
            " [13  3  2]\n",
            " [ 8  2 11]\n",
            " [15  6  8]\n",
            " [18  9 12]]\n"
          ]
        }
      ]
    },
    {
      "cell_type": "markdown",
      "source": [
        "# 25. Where Function"
      ],
      "metadata": {
        "id": "7GPEwqTlWyZk"
      }
    },
    {
      "cell_type": "markdown",
      "source": [
        "The numpy.where() function is used to return elements based on a condition.\n",
        "\n",
        "Syntax:\n",
        "\n",
        "**numpy.where(condition, [x, y])**\n",
        "\n",
        "Parameters:\n",
        "\n",
        "* condition: A boolean array or condition.\n",
        "\n",
        "* x: Values to choose when the condition is True.\n",
        "\n",
        "* y: Values to choose when the condition is False.\n",
        "\n",
        "\n",
        "\n",
        "Returns:\n",
        "\n",
        "* **If only condition is given:** returns indices where the condition is *True*.\n",
        "\n",
        "* **If x and y are given:** returns elements from x where condition is True, and from y where it's *False*."
      ],
      "metadata": {
        "id": "xHsOGYGuZ6h0"
      }
    },
    {
      "cell_type": "code",
      "source": [
        "arr = np.random.randint(1,100,10)\n",
        "arr"
      ],
      "metadata": {
        "colab": {
          "base_uri": "https://localhost:8080/"
        },
        "id": "Y6_0o0TNWaRo",
        "outputId": "566568c2-f921-472f-efc5-abe730420313"
      },
      "execution_count": 46,
      "outputs": [
        {
          "output_type": "execute_result",
          "data": {
            "text/plain": [
              "array([34, 80, 49, 38, 21, 95, 50, 22, 79, 29])"
            ]
          },
          "metadata": {},
          "execution_count": 46
        }
      ]
    },
    {
      "cell_type": "code",
      "source": [
        "print(np.where(arr %2 ==0 ,'even',arr))\n",
        "print(np.where(arr %2 !=0 ,'odd',arr))\n",
        "\n",
        "print('-'*50)\n",
        "\n",
        "arr1 = np.where(arr %2 ==0 ,'even',arr)\n",
        "arr1 = np.where(arr %2 !=0 ,'odd',arr1)\n",
        "\n",
        "print(arr1)"
      ],
      "metadata": {
        "colab": {
          "base_uri": "https://localhost:8080/"
        },
        "id": "BPP1gnKza66T",
        "outputId": "bdf6ce0b-d685-45be-8097-6ee1917ba9c6"
      },
      "execution_count": 53,
      "outputs": [
        {
          "output_type": "stream",
          "name": "stdout",
          "text": [
            "['even' 'even' '49' 'even' '21' '95' 'even' 'even' '79' '29']\n",
            "['34' '80' 'odd' '38' 'odd' 'odd' '50' '22' 'odd' 'odd']\n",
            "--------------------------------------------------\n",
            "['even' 'even' 'odd' 'even' 'odd' 'odd' 'even' 'even' 'odd' 'odd']\n"
          ]
        }
      ]
    },
    {
      "cell_type": "markdown",
      "source": [
        "# Merging Arrays\n"
      ],
      "metadata": {
        "id": "kkSpDyjNevAG"
      }
    },
    {
      "cell_type": "markdown",
      "source": [
        "#### **a) Concatenate**"
      ],
      "metadata": {
        "id": "BziyvoRtey6h"
      }
    },
    {
      "cell_type": "code",
      "source": [
        "arr1 = np.random.randint(1,10,(2,4))\n",
        "arr2 = np.random.randint(1,10,(2,4))\n",
        "\n",
        "print(arr1)\n",
        "print('-'*50)\n",
        "\n",
        "print(arr2)\n",
        "print('-'*50)\n",
        "\n",
        "print(np.concatenate((arr1, arr2), axis = 0))\n",
        "print('-'*50)\n",
        "\n",
        "\n",
        "print(np.concatenate((arr1, arr2), axis = 1))\n",
        "print('-'*50)"
      ],
      "metadata": {
        "colab": {
          "base_uri": "https://localhost:8080/"
        },
        "id": "9TYIKqLYbYwQ",
        "outputId": "bc94b96e-3900-4eed-f137-24ea4a6b4cfa"
      },
      "execution_count": 61,
      "outputs": [
        {
          "output_type": "stream",
          "name": "stdout",
          "text": [
            "[[5 1 9 5]\n",
            " [8 9 6 7]]\n",
            "--------------------------------------------------\n",
            "[[8 4 6 2]\n",
            " [9 3 9 5]]\n",
            "--------------------------------------------------\n",
            "[[5 1 9 5]\n",
            " [8 9 6 7]\n",
            " [8 4 6 2]\n",
            " [9 3 9 5]]\n",
            "--------------------------------------------------\n",
            "[[5 1 9 5 8 4 6 2]\n",
            " [8 9 6 7 9 3 9 5]]\n",
            "--------------------------------------------------\n"
          ]
        }
      ]
    },
    {
      "cell_type": "markdown",
      "source": [
        "#### b) Vstack and Hstack"
      ],
      "metadata": {
        "id": "RdtKydyqjS4p"
      }
    },
    {
      "cell_type": "code",
      "source": [
        "arr1 = np.random.randint(1,10,(2,4))\n",
        "arr2 = np.random.randint(1,10,(2,4))\n",
        "\n",
        "print(arr1)\n",
        "print('-'*50)\n",
        "\n",
        "print(arr2)\n",
        "print('-'*50)\n",
        "\n",
        "print(np.hstack((arr1,arr2)))\n",
        "print('-'*50)\n",
        "\n",
        "print(np.vstack((arr1,arr2)))\n",
        "print('-'*50)"
      ],
      "metadata": {
        "colab": {
          "base_uri": "https://localhost:8080/"
        },
        "id": "b0UHpqUIfFpT",
        "outputId": "0dbf6d46-f148-4e38-e311-f51516aa09fd"
      },
      "execution_count": 66,
      "outputs": [
        {
          "output_type": "stream",
          "name": "stdout",
          "text": [
            "[[8 7 1 2]\n",
            " [8 1 4 8]]\n",
            "--------------------------------------------------\n",
            "[[4 6 7 2]\n",
            " [6 4 7 9]]\n",
            "--------------------------------------------------\n",
            "[[8 7 1 2 4 6 7 2]\n",
            " [8 1 4 8 6 4 7 9]]\n",
            "--------------------------------------------------\n",
            "[[8 7 1 2]\n",
            " [8 1 4 8]\n",
            " [4 6 7 2]\n",
            " [6 4 7 9]]\n",
            "--------------------------------------------------\n"
          ]
        }
      ]
    },
    {
      "cell_type": "markdown",
      "source": [
        "#27. Splitting Arrays"
      ],
      "metadata": {
        "id": "0g13w-5ruqv8"
      }
    },
    {
      "cell_type": "code",
      "source": [
        "arr = np.random.randint(1,10,(4,4))\n",
        "arr"
      ],
      "metadata": {
        "colab": {
          "base_uri": "https://localhost:8080/"
        },
        "id": "AOtStxdhtqkj",
        "outputId": "78047001-af39-4651-abe5-a633401583cb"
      },
      "execution_count": 67,
      "outputs": [
        {
          "output_type": "execute_result",
          "data": {
            "text/plain": [
              "array([[6, 7, 8, 1],\n",
              "       [3, 2, 7, 3],\n",
              "       [3, 6, 8, 2],\n",
              "       [5, 8, 4, 2]])"
            ]
          },
          "metadata": {},
          "execution_count": 67
        }
      ]
    },
    {
      "cell_type": "code",
      "source": [
        "np.vsplit(arr,2)"
      ],
      "metadata": {
        "colab": {
          "base_uri": "https://localhost:8080/"
        },
        "id": "2RG5mWhFu0Qb",
        "outputId": "5229c4c7-81c9-47a1-9599-e52de0dd5d6b"
      },
      "execution_count": 68,
      "outputs": [
        {
          "output_type": "execute_result",
          "data": {
            "text/plain": [
              "[array([[6, 7, 8, 1],\n",
              "        [3, 2, 7, 3]]),\n",
              " array([[3, 6, 8, 2],\n",
              "        [5, 8, 4, 2]])]"
            ]
          },
          "metadata": {},
          "execution_count": 68
        }
      ]
    },
    {
      "cell_type": "code",
      "source": [
        "np.hsplit(arr,2)"
      ],
      "metadata": {
        "colab": {
          "base_uri": "https://localhost:8080/"
        },
        "id": "27Ki4hZTu6Q6",
        "outputId": "24848de6-9232-4454-ff77-725403853c15"
      },
      "execution_count": 69,
      "outputs": [
        {
          "output_type": "execute_result",
          "data": {
            "text/plain": [
              "[array([[6, 7],\n",
              "        [3, 2],\n",
              "        [3, 6],\n",
              "        [5, 8]]),\n",
              " array([[8, 1],\n",
              "        [7, 3],\n",
              "        [8, 2],\n",
              "        [4, 2]])]"
            ]
          },
          "metadata": {},
          "execution_count": 69
        }
      ]
    },
    {
      "cell_type": "code",
      "source": [],
      "metadata": {
        "id": "3m_u9dLeu8-u"
      },
      "execution_count": null,
      "outputs": []
    }
  ]
}