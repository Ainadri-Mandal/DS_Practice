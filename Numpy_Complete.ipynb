{
  "nbformat": 4,
  "nbformat_minor": 0,
  "metadata": {
    "colab": {
      "provenance": [],
      "authorship_tag": "ABX9TyPPyx9BU65pdmC0Q9Uh7Col"
    },
    "kernelspec": {
      "name": "python3",
      "display_name": "Python 3"
    },
    "language_info": {
      "name": "python"
    }
  },
  "cells": [
    {
      "cell_type": "code",
      "execution_count": 1,
      "metadata": {
        "id": "kM-qa_w0GP3i"
      },
      "outputs": [],
      "source": [
        "import numpy as np"
      ]
    },
    {
      "cell_type": "markdown",
      "source": [
        "# 1. Converting a List into np Array"
      ],
      "metadata": {
        "id": "pUjLJLszG1sX"
      }
    },
    {
      "cell_type": "code",
      "source": [
        "lst = [1,2,3,4]\n",
        "print(type(lst))\n",
        "arr = np.array(lst)\n",
        "print(type(arr))\n",
        "arr = np.array(lst, ndmin = 2)   #ndmin states how many dimensionsion we want in array\n",
        "print(arr)"
      ],
      "metadata": {
        "colab": {
          "base_uri": "https://localhost:8080/"
        },
        "id": "z4jyHxsKGyXl",
        "outputId": "4a9cda93-4416-43e9-9769-5d957d9e6563"
      },
      "execution_count": 2,
      "outputs": [
        {
          "output_type": "stream",
          "name": "stdout",
          "text": [
            "<class 'list'>\n",
            "<class 'numpy.ndarray'>\n",
            "[[1 2 3 4]]\n"
          ]
        }
      ]
    },
    {
      "cell_type": "code",
      "source": [
        "arr = np.array(lst, ndmin = 1)   #ndmin states how many dimensionsion we want in array\n",
        "arr"
      ],
      "metadata": {
        "colab": {
          "base_uri": "https://localhost:8080/"
        },
        "id": "CBrc-YSuG-T1",
        "outputId": "248ae319-e2af-4147-b8a6-d070b8ab01b5"
      },
      "execution_count": 3,
      "outputs": [
        {
          "output_type": "execute_result",
          "data": {
            "text/plain": [
              "array([1, 2, 3, 4])"
            ]
          },
          "metadata": {},
          "execution_count": 3
        }
      ]
    },
    {
      "cell_type": "code",
      "source": [
        "arr = np.array(lst, ndmin = 2)\n",
        "arr"
      ],
      "metadata": {
        "colab": {
          "base_uri": "https://localhost:8080/"
        },
        "id": "do00OfE5HAhv",
        "outputId": "051f61e4-862f-4110-be6a-29012458df18"
      },
      "execution_count": 4,
      "outputs": [
        {
          "output_type": "execute_result",
          "data": {
            "text/plain": [
              "array([[1, 2, 3, 4]])"
            ]
          },
          "metadata": {},
          "execution_count": 4
        }
      ]
    },
    {
      "cell_type": "markdown",
      "source": [
        "# 2. Arange Functions"
      ],
      "metadata": {
        "id": "3AfxHKAmIREz"
      }
    },
    {
      "cell_type": "markdown",
      "source": [
        "##### The arange (start, stop, step, dtype = ): returns an array with evenly spaced elements as per the interval.\n",
        "##### The interval mentioned is half-opened i.e. [start, stop]"
      ],
      "metadata": {
        "id": "2hFt7Oh5IWvf"
      }
    },
    {
      "cell_type": "code",
      "source": [
        "arr = np.arange(1,10,2)\n",
        "arr"
      ],
      "metadata": {
        "colab": {
          "base_uri": "https://localhost:8080/"
        },
        "id": "v5Lne0LVH2pZ",
        "outputId": "98f53634-cb68-43e5-f907-113c63dbb9ab"
      },
      "execution_count": 5,
      "outputs": [
        {
          "output_type": "execute_result",
          "data": {
            "text/plain": [
              "array([1, 3, 5, 7, 9])"
            ]
          },
          "metadata": {},
          "execution_count": 5
        }
      ]
    },
    {
      "cell_type": "markdown",
      "source": [
        "# 3. Multidimensional array"
      ],
      "metadata": {
        "id": "rnL7u4PvGgYO"
      }
    },
    {
      "cell_type": "code",
      "source": [
        "arr = np.array([[1,2,3],[4,5,6],[7,8,9]])\n",
        "arr"
      ],
      "metadata": {
        "colab": {
          "base_uri": "https://localhost:8080/"
        },
        "id": "t8Btw2irGX0c",
        "outputId": "c4e2431c-4d45-4cbf-96bf-0b4809b1bd96"
      },
      "execution_count": 6,
      "outputs": [
        {
          "output_type": "execute_result",
          "data": {
            "text/plain": [
              "array([[1, 2, 3],\n",
              "       [4, 5, 6],\n",
              "       [7, 8, 9]])"
            ]
          },
          "metadata": {},
          "execution_count": 6
        }
      ]
    },
    {
      "cell_type": "markdown",
      "source": [
        "# 4. Size Function"
      ],
      "metadata": {
        "id": "-iLqqNaNHK4n"
      }
    },
    {
      "cell_type": "markdown",
      "source": [
        "####In Python, numpy.size() function count the no. of elements along a given axis"
      ],
      "metadata": {
        "id": "-IRk8jUmHuJs"
      }
    },
    {
      "cell_type": "code",
      "source": [
        "arr = np.array([[1,2,3],[4,5,6],[7,8,9],[1,2,3]])\n",
        "print('Total no. of elements in the array: ',arr.size)\n",
        "print('Total no. of  rows: ',np.size(arr,0))   ## For rows\n",
        "print('Total no. of  columns: ',np.size(arr,1))  ## For columns\n",
        "print()\n",
        "arr"
      ],
      "metadata": {
        "colab": {
          "base_uri": "https://localhost:8080/"
        },
        "id": "tztdGdvqHD7y",
        "outputId": "7ac3e079-acb1-4216-fd6f-53ec0031e0fd"
      },
      "execution_count": 7,
      "outputs": [
        {
          "output_type": "stream",
          "name": "stdout",
          "text": [
            "Total no. of elements in the array:  12\n",
            "Total no. of  rows:  4\n",
            "Total no. of  columns:  3\n",
            "\n"
          ]
        },
        {
          "output_type": "execute_result",
          "data": {
            "text/plain": [
              "array([[1, 2, 3],\n",
              "       [4, 5, 6],\n",
              "       [7, 8, 9],\n",
              "       [1, 2, 3]])"
            ]
          },
          "metadata": {},
          "execution_count": 7
        }
      ]
    },
    {
      "cell_type": "markdown",
      "source": [
        "#5. Shape Function"
      ],
      "metadata": {
        "id": "7JFVGi6SHWzI"
      }
    },
    {
      "cell_type": "markdown",
      "source": [
        "#### Shape of an array can be defined as the number of elements in each dimension. Dimension is the number of indices or subscripts, that we require in order to specify an individual element of an array"
      ],
      "metadata": {
        "id": "HGyMiJzMJEuU"
      }
    },
    {
      "cell_type": "code",
      "source": [
        "arr = np.array([[1,2,3],[4,5,6],[7,8,9],[1,2,3]])\n",
        "\n",
        "print(\"Without shape function: \",(np.size(arr,0),np.size(arr,1)))\n",
        "\n",
        "print(\"With shape function: \",arr.shape)\n"
      ],
      "metadata": {
        "colab": {
          "base_uri": "https://localhost:8080/"
        },
        "id": "TTwnHIa6HVZY",
        "outputId": "6f24402d-e54f-4caf-efc4-09d6a0035849"
      },
      "execution_count": 8,
      "outputs": [
        {
          "output_type": "stream",
          "name": "stdout",
          "text": [
            "Without shape function:  (4, 3)\n",
            "With shape function:  (4, 3)\n"
          ]
        }
      ]
    },
    {
      "cell_type": "markdown",
      "source": [
        "#6. Dtype Function"
      ],
      "metadata": {
        "id": "edh_ODS9KMKj"
      }
    },
    {
      "cell_type": "code",
      "source": [
        "arr1 = np.array([1,2,3,4])\n",
        "arr1.dtype"
      ],
      "metadata": {
        "colab": {
          "base_uri": "https://localhost:8080/"
        },
        "id": "L9c-V7f9J8Xd",
        "outputId": "bb00dbf0-4b50-47e6-c316-d0d3845a9b37"
      },
      "execution_count": 9,
      "outputs": [
        {
          "output_type": "execute_result",
          "data": {
            "text/plain": [
              "dtype('int64')"
            ]
          },
          "metadata": {},
          "execution_count": 9
        }
      ]
    },
    {
      "cell_type": "markdown",
      "source": [
        "# 7. Ndim function\n",
        "#### np.ndarray.ndim() function return the no. of dimensions of an array"
      ],
      "metadata": {
        "id": "K7BcpBIr6xJA"
      }
    },
    {
      "cell_type": "code",
      "source": [
        "arr1 = np.array([1,2,3,1,2,3,4])\n",
        "print(arr1.ndim)\n",
        "arr2 = np.array([[1,2,3],[4,5,6],[7,8,9],[1,2,3]])\n",
        "print(arr2.ndim)\n",
        "\n",
        "arr3 = np.array(arr1, ndmin = 3)\n",
        "print(arr3)"
      ],
      "metadata": {
        "colab": {
          "base_uri": "https://localhost:8080/"
        },
        "id": "GPYw7yUfKotc",
        "outputId": "53019ea6-091c-427b-b755-89f7cd308453"
      },
      "execution_count": 10,
      "outputs": [
        {
          "output_type": "stream",
          "name": "stdout",
          "text": [
            "1\n",
            "2\n",
            "[[[1 2 3 1 2 3 4]]]\n"
          ]
        }
      ]
    },
    {
      "cell_type": "markdown",
      "source": [
        "#8. Zeros Function\n",
        "\n",
        "#### The numpy.zeros() function returns a new array of given shape and type, with zeros. Syntax:\n",
        "\n",
        "#### numpy.zeros(shape, dtype = None)"
      ],
      "metadata": {
        "id": "sXlHWnvy8ECn"
      }
    },
    {
      "cell_type": "code",
      "source": [
        "arr = np.zeros(shape = (3,4), dtype = int)\n",
        "arr"
      ],
      "metadata": {
        "colab": {
          "base_uri": "https://localhost:8080/"
        },
        "id": "vOXJm1ko7ZYU",
        "outputId": "788ef447-2521-408f-d923-6b5aa1793ff0"
      },
      "execution_count": 11,
      "outputs": [
        {
          "output_type": "execute_result",
          "data": {
            "text/plain": [
              "array([[0, 0, 0, 0],\n",
              "       [0, 0, 0, 0],\n",
              "       [0, 0, 0, 0]])"
            ]
          },
          "metadata": {},
          "execution_count": 11
        }
      ]
    },
    {
      "cell_type": "markdown",
      "source": [
        "#9. Ones Function\n",
        "\n",
        "#### The numpy.ones() function returns a new array of given shape and type, with ones. Syntax:\n",
        "\n",
        "#### numpy.ones(shape, dtype = None)"
      ],
      "metadata": {
        "id": "uyrGbReB9Kt-"
      }
    },
    {
      "cell_type": "code",
      "source": [
        "arr = np.ones(shape = (3,4), dtype = int)\n",
        "arr"
      ],
      "metadata": {
        "colab": {
          "base_uri": "https://localhost:8080/"
        },
        "id": "22jOIjLE75-1",
        "outputId": "c7103695-6729-4aab-9177-f3d291670391"
      },
      "execution_count": 12,
      "outputs": [
        {
          "output_type": "execute_result",
          "data": {
            "text/plain": [
              "array([[1, 1, 1, 1],\n",
              "       [1, 1, 1, 1],\n",
              "       [1, 1, 1, 1]])"
            ]
          },
          "metadata": {},
          "execution_count": 12
        }
      ]
    },
    {
      "cell_type": "markdown",
      "source": [
        "# 9. Eye Function\n",
        "##### The eye tool returns a 2-D array with 1's as the diagonal and 0's elsewhere. The diagonal and 0's elsewhere. The diagonal can be main, upper, or lower depending on the optional parameter k."
      ],
      "metadata": {
        "id": "ePqT98Ik9ZhV"
      }
    },
    {
      "cell_type": "code",
      "source": [
        "np.eye(4, dtype = int)"
      ],
      "metadata": {
        "colab": {
          "base_uri": "https://localhost:8080/"
        },
        "id": "NXfbX0YG9WdP",
        "outputId": "52a670f4-a7f7-4e25-f9e7-4541414b735e"
      },
      "execution_count": 13,
      "outputs": [
        {
          "output_type": "execute_result",
          "data": {
            "text/plain": [
              "array([[1, 0, 0, 0],\n",
              "       [0, 1, 0, 0],\n",
              "       [0, 0, 1, 0],\n",
              "       [0, 0, 0, 1]])"
            ]
          },
          "metadata": {},
          "execution_count": 13
        }
      ]
    },
    {
      "cell_type": "markdown",
      "source": [
        "# 10. Empty Function\n",
        "#### return an empty array of given shape and type"
      ],
      "metadata": {
        "id": "cHaZsUzp-YEE"
      }
    },
    {
      "cell_type": "code",
      "source": [
        "np.empty(shape = (5,5), dtype = int)"
      ],
      "metadata": {
        "colab": {
          "base_uri": "https://localhost:8080/"
        },
        "id": "VuIG-WTV-M39",
        "outputId": "d691665a-2408-4eaf-ea21-fad118c56036"
      },
      "execution_count": 14,
      "outputs": [
        {
          "output_type": "execute_result",
          "data": {
            "text/plain": [
              "array([[          966734393,                   0,                 156,\n",
              "                         -1,                 227],\n",
              "       [      1099511627776,    1956031185813504,   23362852573609984,\n",
              "            688297119449385, -432345564211642368],\n",
              "       [8028844404304588607, 3414407380873273699, 3329125974329817456,\n",
              "        3275369725494767921, 8315165955120652656],\n",
              "       [8026311120873159215, 7592892154190590061, 8750545063139109230,\n",
              "        7815263158108162298,   72057594129301093],\n",
              "       [        66353889280,   72321481140405232, 8214848299122819329,\n",
              "         182395784908505091,  613619177301082248]])"
            ]
          },
          "metadata": {},
          "execution_count": 14
        }
      ]
    },
    {
      "cell_type": "markdown",
      "source": [
        "# 11. Random Functions\n",
        "\n"
      ],
      "metadata": {
        "id": "6oQUCf2CCNlp"
      }
    },
    {
      "cell_type": "markdown",
      "source": [
        "### a) The numpy.random.rand() function creates an array of specified shape and fills it woth random values"
      ],
      "metadata": {
        "id": "5hOO2wefDfzg"
      }
    },
    {
      "cell_type": "code",
      "source": [
        "np.random.rand(3,4)"
      ],
      "metadata": {
        "colab": {
          "base_uri": "https://localhost:8080/"
        },
        "id": "DQNbdmOt-rzE",
        "outputId": "2f3b6b31-5f6c-4633-dc74-f6607c809568"
      },
      "execution_count": 15,
      "outputs": [
        {
          "output_type": "execute_result",
          "data": {
            "text/plain": [
              "array([[0.45560591, 0.52698253, 0.82717979, 0.96353566],\n",
              "       [0.27186033, 0.9585373 , 0.1026011 , 0.48241221],\n",
              "       [0.72672341, 0.46660665, 0.42350269, 0.31373593]])"
            ]
          },
          "metadata": {},
          "execution_count": 15
        }
      ]
    },
    {
      "cell_type": "markdown",
      "source": [
        "### b) np.random.randint\n",
        "is one of the function for doing random sampling in numpy. It returns an array of specified shape and fills with random int from low(inclusive) to high(exclusive), i.e. in the interval"
      ],
      "metadata": {
        "id": "ORr0w55mC_0F"
      }
    },
    {
      "cell_type": "code",
      "source": [
        "np.random.randint(low = 1,high = 6, size = 15)     # (start, end, no. of values to print)"
      ],
      "metadata": {
        "colab": {
          "base_uri": "https://localhost:8080/"
        },
        "id": "AGq8q2GjC5EV",
        "outputId": "8fc49f08-2662-4da4-d978-7b5cc6ab5e4c"
      },
      "execution_count": 16,
      "outputs": [
        {
          "output_type": "execute_result",
          "data": {
            "text/plain": [
              "array([4, 2, 3, 2, 1, 3, 5, 3, 1, 1, 2, 4, 5, 4, 4])"
            ]
          },
          "metadata": {},
          "execution_count": 16
        }
      ]
    },
    {
      "cell_type": "code",
      "source": [
        "np.random.randint( 1, 6, 8)"
      ],
      "metadata": {
        "colab": {
          "base_uri": "https://localhost:8080/"
        },
        "id": "EYgI3rhVDmy-",
        "outputId": "d31d697d-4d23-4b73-9fd3-bff4ea176634"
      },
      "execution_count": 17,
      "outputs": [
        {
          "output_type": "execute_result",
          "data": {
            "text/plain": [
              "array([1, 2, 2, 3, 1, 4, 1, 1])"
            ]
          },
          "metadata": {},
          "execution_count": 17
        }
      ]
    },
    {
      "cell_type": "markdown",
      "source": [
        "### c) np.random.randn\n",
        "The numpy.random.randn() function creates an array of specified shape and fills it with random number vaues as per *standard normal distribution*"
      ],
      "metadata": {
        "id": "mIyyjoUHF0vh"
      }
    },
    {
      "cell_type": "code",
      "source": [
        "np.random.randn(20)"
      ],
      "metadata": {
        "colab": {
          "base_uri": "https://localhost:8080/"
        },
        "id": "GBlTkNkfFYdW",
        "outputId": "1d066c70-dfef-4346-956f-f5d0f264de00"
      },
      "execution_count": 18,
      "outputs": [
        {
          "output_type": "execute_result",
          "data": {
            "text/plain": [
              "array([-0.83930867,  0.11058182,  0.87575264,  0.3320458 , -2.47388935,\n",
              "        1.28608254,  0.03772773,  0.62270817,  0.19467452, -0.17715617,\n",
              "        0.05679678,  0.61753131, -0.31515339, -1.29092535, -0.04927774,\n",
              "        1.21548754, -0.01524722,  1.30477958,  0.55667893, -0.42101533])"
            ]
          },
          "metadata": {},
          "execution_count": 18
        }
      ]
    },
    {
      "cell_type": "code",
      "source": [
        "import matplotlib.pyplot as plt\n",
        "%matplotlib inline\n",
        "plt.hist(np.random.randn(100), bins = 15);\n"
      ],
      "metadata": {
        "colab": {
          "base_uri": "https://localhost:8080/",
          "height": 430
        },
        "id": "hHAZjDUzGXmf",
        "outputId": "0224748a-537a-4061-9c78-2d2849149ba9"
      },
      "execution_count": 19,
      "outputs": [
        {
          "output_type": "display_data",
          "data": {
            "text/plain": [
              "<Figure size 640x480 with 1 Axes>"
            ],
            "image/png": "[encoded data removed]"
          },
          "metadata": {}
        }
      ]
    },
    {
      "cell_type": "markdown",
      "source": [
        "# 12. Reshape Function - will not alter the original data\n",
        "\n",
        "The numpy.reshape() function shapes an array without changing the data of the array. *(It Should be noted that the product of the rows and columns should be same.)*"
      ],
      "metadata": {
        "id": "bV8yp5ptJY75"
      }
    },
    {
      "cell_type": "code",
      "source": [
        "arr = np.random.randint(1, 15, (3,4))\n",
        "print(arr)\n",
        "print(arr.shape)\n",
        "print(arr.reshape(4,3))\n",
        "print(arr.reshape(6,2))"
      ],
      "metadata": {
        "colab": {
          "base_uri": "https://localhost:8080/"
        },
        "id": "wVa019jEIuRG",
        "outputId": "021ade21-9e4b-403a-e171-9cdee896b0ee"
      },
      "execution_count": 20,
      "outputs": [
        {
          "output_type": "stream",
          "name": "stdout",
          "text": [
            "[[ 6 12  9  9]\n",
            " [ 3 14  9  8]\n",
            " [11  7  6 13]]\n",
            "(3, 4)\n",
            "[[ 6 12  9]\n",
            " [ 9  3 14]\n",
            " [ 9  8 11]\n",
            " [ 7  6 13]]\n",
            "[[ 6 12]\n",
            " [ 9  9]\n",
            " [ 3 14]\n",
            " [ 9  8]\n",
            " [11  7]\n",
            " [ 6 13]]\n"
          ]
        }
      ]
    },
    {
      "cell_type": "markdown",
      "source": [
        "# Linspace Function\n",
        "\n",
        "The numpy.linspace() function returns number spaces evenly w.r.t interval. Similar to numpy.arange() function but instead of step it uses sample number.\n",
        "\n",
        "Parameters:\n",
        "\n",
        "\n",
        "* -> start: [Optional] start of Interval range, By default start = 0\n",
        "* -> stop: end of interval range\n",
        "* -> restep: If True, return (samples,step), By deafault restep = False\n",
        "* -> num: [int, Optional] No. of Samples to generate\n",
        "* -> dtype: type of Output array\n",
        "\n"
      ],
      "metadata": {
        "id": "IcRx1K7_K3YJ"
      }
    },
    {
      "cell_type": "code",
      "source": [
        "np.linspace(1,10,5)"
      ],
      "metadata": {
        "colab": {
          "base_uri": "https://localhost:8080/"
        },
        "id": "YM0q1e2iKSQ1",
        "outputId": "2626f2e3-30e3-465c-ac42-8c27cdf03680"
      },
      "execution_count": 21,
      "outputs": [
        {
          "output_type": "execute_result",
          "data": {
            "text/plain": [
              "array([ 1.  ,  3.25,  5.5 ,  7.75, 10.  ])"
            ]
          },
          "metadata": {},
          "execution_count": 21
        }
      ]
    },
    {
      "cell_type": "markdown",
      "source": [
        "# 14. Flatten Function\n",
        "\n",
        "ndarray.flatten() function return a copy of the array collapsed into on dimension"
      ],
      "metadata": {
        "id": "m04Gn5RUUl8I"
      }
    },
    {
      "cell_type": "code",
      "source": [
        "arr = np.random.randint(1, 15, (3,4))\n",
        "print(arr.shape)\n",
        "print(arr)\n",
        "arr = arr.flatten()\n",
        "print(arr)\n",
        "print(arr.shape)\n"
      ],
      "metadata": {
        "colab": {
          "base_uri": "https://localhost:8080/"
        },
        "id": "PgMyKlurUPYZ",
        "outputId": "073219a7-13ed-407b-ee29-94baacf55a9d"
      },
      "execution_count": 22,
      "outputs": [
        {
          "output_type": "stream",
          "name": "stdout",
          "text": [
            "(3, 4)\n",
            "[[10 14 10  3]\n",
            " [ 5  6  8 12]\n",
            " [ 6  7  1  1]]\n",
            "[10 14 10  3  5  6  8 12  6  7  1  1]\n",
            "(12,)\n"
          ]
        }
      ]
    },
    {
      "cell_type": "markdown",
      "source": [
        "# 15. Logspace Function\n",
        "\n",
        "The numpy.logspace() function returns number spaces eveny w.r.t interval on a log scale\n",
        "\n",
        "Parameters:\n",
        "\n",
        "\n",
        "* -> start: [float] start (base ** start) of interval range.\n",
        "* -> stop: [float] end (base ** stop) of interval range\n",
        "* -> endpoint: [Boolean, optional] If True, return (samples,step), By deafault restep = False\n",
        "* -> num: [int, Optional] Base of log scale, By default equals 10.0\n",
        "* -> dtype: type of Output array"
      ],
      "metadata": {
        "id": "sZ8DVzsfVRXe"
      }
    },
    {
      "cell_type": "code",
      "source": [
        "np.logspace(2,4,10)\n",
        "\n",
        "# to define the base of the log or log base\n",
        "\n",
        "np.logspace(2,4,10, base = 2)"
      ],
      "metadata": {
        "colab": {
          "base_uri": "https://localhost:8080/"
        },
        "id": "jQSk5W6BVBcO",
        "outputId": "4c0a995b-1326-4d56-f07a-ae4977d79164"
      },
      "execution_count": 23,
      "outputs": [
        {
          "output_type": "execute_result",
          "data": {
            "text/plain": [
              "array([ 4.        ,  4.66611616,  5.44316   ,  6.34960421,  7.4069977 ,\n",
              "        8.64047791, 10.0793684 , 11.75787594, 13.71590373, 16.        ])"
            ]
          },
          "metadata": {},
          "execution_count": 23
        }
      ]
    },
    {
      "cell_type": "markdown",
      "source": [
        "# 16. Copy Function"
      ],
      "metadata": {
        "id": "GpGLhJB3XxOB"
      }
    },
    {
      "cell_type": "code",
      "source": [
        "arr1 = np.random.randint(1, 15,10)\n",
        "\n",
        "arr2 = arr1\n",
        "\n",
        "print(arr1, id(arr1))\n",
        "print(arr2, id(arr2))\n",
        "\n",
        "print('-'*50)\n",
        "\n",
        "arr1 = np.random.randint(1, 15,10)\n",
        "\n",
        "arr2 = arr1.copy()\n",
        "\n",
        "print(arr1, id(arr1))\n",
        "print(arr2, id(arr2))\n"
      ],
      "metadata": {
        "colab": {
          "base_uri": "https://localhost:8080/"
        },
        "id": "vcxmhKVPZtpr",
        "outputId": "878a0ead-d2ce-4ad8-cade-b90c9e971e09"
      },
      "execution_count": 24,
      "outputs": [
        {
          "output_type": "stream",
          "name": "stdout",
          "text": [
            "[ 3 10 11  8  6  7  2  3  3  8] 132056367471888\n",
            "[ 3 10 11  8  6  7  2  3  3  8] 132056367471888\n",
            "--------------------------------------------------\n",
            "[ 6 11  4  9  1  9  3  8  4  6] 132056367471984\n",
            "[ 6 11  4  9  1  9  3  8  4  6] 132056624032496\n"
          ]
        }
      ]
    },
    {
      "cell_type": "markdown",
      "source": [
        "#17. arr.max() , arr.min(), arr.sum() functions\n"
      ],
      "metadata": {
        "id": "FZFgHe9Cg9gV"
      }
    },
    {
      "cell_type": "code",
      "source": [
        "arr = np.random.randint(1, 15, (3,4))\n",
        "print(arr)\n",
        "print('Max: ', arr.max())\n",
        "print('Min: ', arr.min())\n",
        "print('Sum: ', arr.sum())\n"
      ],
      "metadata": {
        "colab": {
          "base_uri": "https://localhost:8080/"
        },
        "id": "hgYyeS_YYES6",
        "outputId": "26269321-d0ca-47b5-c8f5-bae923155308"
      },
      "execution_count": 25,
      "outputs": [
        {
          "output_type": "stream",
          "name": "stdout",
          "text": [
            "[[ 9  3  6 13]\n",
            " [ 4 14 13 13]\n",
            " [ 6  3  4 13]]\n",
            "Max:  14\n",
            "Min:  3\n",
            "Sum:  101\n"
          ]
        }
      ]
    },
    {
      "cell_type": "markdown",
      "source": [
        "Using axis function to find the max and min\n",
        "\n",
        "\n",
        "\n",
        "*  Axis = 0 for column\n",
        "* Axis = 1 for rows\n",
        "\n"
      ],
      "metadata": {
        "id": "mwMOPlZdh2On"
      }
    },
    {
      "cell_type": "code",
      "source": [
        "print(\"For columns: \")\n",
        "arr = np.random.randint(1, 15, (3,4))\n",
        "print(arr)\n",
        "print('Max: ', arr.max(axis = 0))\n",
        "print('Min: ', arr.min(axis = 0))\n",
        "print('Sum: ', arr.sum(axis = 0))"
      ],
      "metadata": {
        "colab": {
          "base_uri": "https://localhost:8080/"
        },
        "id": "QYBx9OSlhM8w",
        "outputId": "f5b14b87-d23a-4d2f-d6c4-2b7cc30e178f"
      },
      "execution_count": 26,
      "outputs": [
        {
          "output_type": "stream",
          "name": "stdout",
          "text": [
            "For columns: \n",
            "[[ 8 10  5 13]\n",
            " [14 14 10 13]\n",
            " [11  4  5  7]]\n",
            "Max:  [14 14 10 13]\n",
            "Min:  [8 4 5 7]\n",
            "Sum:  [33 28 20 33]\n"
          ]
        }
      ]
    },
    {
      "cell_type": "code",
      "source": [
        "print(\"For rows: \")\n",
        "arr = np.random.randint(1, 15, (3,4))\n",
        "print(arr)\n",
        "print('Max: ', arr.max(axis = 1))\n",
        "print('Min: ', arr.min(axis = 1))\n",
        "print('Sum: ', arr.sum(axis = 1))"
      ],
      "metadata": {
        "colab": {
          "base_uri": "https://localhost:8080/"
        },
        "id": "U0PkuORniXfp",
        "outputId": "1ae9e75d-d252-4909-8be6-261d6c936208"
      },
      "execution_count": 27,
      "outputs": [
        {
          "output_type": "stream",
          "name": "stdout",
          "text": [
            "For rows: \n",
            "[[13  3 13  6]\n",
            " [12 14  2 14]\n",
            " [ 7  8  5 11]]\n",
            "Max:  [13 14 11]\n",
            "Min:  [3 2 5]\n",
            "Sum:  [35 42 31]\n"
          ]
        }
      ]
    },
    {
      "cell_type": "markdown",
      "source": [
        "# Seed Function\n",
        "\n",
        "#### random() function is used to generate random numbers in Python. Not actually random, rather this is used to generate pseudo-random numbers. That implies that these randomly generated numbers can be determined. random() function generates numbers for some values. This value is also called seed value.\n",
        "\n",
        "Syntax: random.seed(l, version)\n",
        "\n",
        "Parameter:\n",
        "\n",
        "\n",
        "*   l : Any seed value used to produce a random number\n",
        "*   version: A integer used to specify how to convert l in integer.\n",
        "\n"
      ],
      "metadata": {
        "id": "Do-oQ4-oixSQ"
      }
    },
    {
      "cell_type": "code",
      "source": [
        "np.random.seed(3)\n",
        "arr= np.random.randint(1,10,(3,5))\n",
        "print(arr)\n",
        "print('-'*50)\n"
      ],
      "metadata": {
        "id": "CntRrN4mipwr",
        "colab": {
          "base_uri": "https://localhost:8080/"
        },
        "outputId": "280382e1-51a3-4644-a0dc-ee3faaef8f90"
      },
      "execution_count": 28,
      "outputs": [
        {
          "output_type": "stream",
          "name": "stdout",
          "text": [
            "[[9 4 9 9 1]\n",
            " [6 4 6 8 7]\n",
            " [1 5 8 9 2]]\n",
            "--------------------------------------------------\n"
          ]
        }
      ]
    },
    {
      "cell_type": "markdown",
      "source": [
        "# 19. Sorting Function\n",
        "\n",
        "numpy.sort()\n",
        "\n",
        "Parameters:\n",
        "\n",
        "\n",
        "*   arr : Array to be sorted\n",
        "*   axis: Axis along which we need array to be sorted\n",
        "*   order: This arguments specifies which fiels to be compared first.\n",
        "*   kind: which typeof sorting algorithm like: *mergesort* etc.\n",
        "\n",
        "\n"
      ],
      "metadata": {
        "id": "Jq-DLT1dMzzf"
      }
    },
    {
      "cell_type": "code",
      "source": [
        "np.random.seed(3)\n",
        "arr= np.random.randint(1,10,(3,5))\n",
        "print(arr)\n",
        "print('-'*50)\n",
        "\n",
        "print(np.sort(arr))   # by default it is sorting by rows i.e. axis = 1\n",
        "print('-'*50)\n",
        "print(np.sort(arr,axis = 0))\n",
        "\n",
        "print('-'*50)\n",
        "\n",
        "arr = np.reshape(np.sort(arr.flatten()), arr.shape)\n",
        "print(arr)\n",
        "print('-'*50)"
      ],
      "metadata": {
        "colab": {
          "base_uri": "https://localhost:8080/"
        },
        "id": "oPcxrIVPKvaS",
        "outputId": "95a9abd8-5586-4603-99bf-f7f9c4ac6572"
      },
      "execution_count": 29,
      "outputs": [
        {
          "output_type": "stream",
          "name": "stdout",
          "text": [
            "[[9 4 9 9 1]\n",
            " [6 4 6 8 7]\n",
            " [1 5 8 9 2]]\n",
            "--------------------------------------------------\n",
            "[[1 4 9 9 9]\n",
            " [4 6 6 7 8]\n",
            " [1 2 5 8 9]]\n",
            "--------------------------------------------------\n",
            "[[1 4 6 8 1]\n",
            " [6 4 8 9 2]\n",
            " [9 5 9 9 7]]\n",
            "--------------------------------------------------\n",
            "[[1 1 2 4 4]\n",
            " [5 6 6 7 8]\n",
            " [8 9 9 9 9]]\n",
            "--------------------------------------------------\n"
          ]
        }
      ]
    },
    {
      "cell_type": "code",
      "source": [
        "print(np.sort(arr,axis = 0, kind = 'mergesort'))"
      ],
      "metadata": {
        "id": "q_W8rhHeNhr8",
        "colab": {
          "base_uri": "https://localhost:8080/"
        },
        "outputId": "1f983cce-2526-4924-fbe6-a29728b441ad"
      },
      "execution_count": 31,
      "outputs": [
        {
          "output_type": "stream",
          "name": "stdout",
          "text": [
            "[[1 1 2 4 4]\n",
            " [5 6 6 7 8]\n",
            " [8 9 9 9 9]]\n"
          ]
        }
      ]
    },
    {
      "cell_type": "markdown",
      "source": [
        "#20. Mathematical Operations"
      ],
      "metadata": {
        "id": "bTCbnaqMODCF"
      }
    },
    {
      "cell_type": "markdown",
      "source": [
        "#### a) Addition"
      ],
      "metadata": {
        "id": "eJpd1FkSOzcq"
      }
    },
    {
      "cell_type": "code",
      "source": [
        "np.random.seed(3)\n",
        "arr= np.random.randint(1,10,(3,5))\n",
        "print(arr)\n",
        "print('-'*50)\n",
        "\n",
        "print(arr + 1)"
      ],
      "metadata": {
        "colab": {
          "base_uri": "https://localhost:8080/"
        },
        "id": "ioH4KdmmNgqB",
        "outputId": "ef67222b-df96-409b-a5aa-986e15b90bf5"
      },
      "execution_count": 32,
      "outputs": [
        {
          "output_type": "stream",
          "name": "stdout",
          "text": [
            "[[9 4 9 9 1]\n",
            " [6 4 6 8 7]\n",
            " [1 5 8 9 2]]\n",
            "--------------------------------------------------\n",
            "[[10  5 10 10  2]\n",
            " [ 7  5  7  9  8]\n",
            " [ 2  6  9 10  3]]\n"
          ]
        }
      ]
    },
    {
      "cell_type": "markdown",
      "source": [
        "#### b) Subtraction"
      ],
      "metadata": {
        "id": "Z6iXjajkO9vo"
      }
    },
    {
      "cell_type": "code",
      "source": [
        "np.random.seed(3)\n",
        "arr= np.random.randint(1,10,(3,5))\n",
        "print(arr)\n",
        "print('-'*50)\n",
        "\n",
        "print(arr - 1)"
      ],
      "metadata": {
        "colab": {
          "base_uri": "https://localhost:8080/"
        },
        "id": "Wd-XUME3PCEG",
        "outputId": "ac23a422-65ee-478a-e796-b6e6dd9676b1"
      },
      "execution_count": 33,
      "outputs": [
        {
          "output_type": "stream",
          "name": "stdout",
          "text": [
            "[[9 4 9 9 1]\n",
            " [6 4 6 8 7]\n",
            " [1 5 8 9 2]]\n",
            "--------------------------------------------------\n",
            "[[8 3 8 8 0]\n",
            " [5 3 5 7 6]\n",
            " [0 4 7 8 1]]\n"
          ]
        }
      ]
    },
    {
      "cell_type": "markdown",
      "source": [
        "#### c) Multiplication"
      ],
      "metadata": {
        "id": "LmTu_SpaPC5X"
      }
    },
    {
      "cell_type": "code",
      "source": [
        "np.random.seed(3)\n",
        "arr= np.random.randint(1,10,(3,5))\n",
        "print(arr)\n",
        "print('-'*50)\n",
        "\n",
        "print(arr * 2)"
      ],
      "metadata": {
        "colab": {
          "base_uri": "https://localhost:8080/"
        },
        "id": "4r0r31VXPHIh",
        "outputId": "420b02ae-c4cd-4bcf-deea-f18fb68ad060"
      },
      "execution_count": 34,
      "outputs": [
        {
          "output_type": "stream",
          "name": "stdout",
          "text": [
            "[[9 4 9 9 1]\n",
            " [6 4 6 8 7]\n",
            " [1 5 8 9 2]]\n",
            "--------------------------------------------------\n",
            "[[18  8 18 18  2]\n",
            " [12  8 12 16 14]\n",
            " [ 2 10 16 18  4]]\n"
          ]
        }
      ]
    },
    {
      "cell_type": "markdown",
      "source": [
        "#### d) Division"
      ],
      "metadata": {
        "id": "2UqBbjpkPHkD"
      }
    },
    {
      "cell_type": "code",
      "source": [
        "np.random.seed(3)\n",
        "arr= np.random.randint(1,10,(3,5))\n",
        "print(arr)\n",
        "print('-'*50)\n",
        "\n",
        "print(arr / 2)"
      ],
      "metadata": {
        "colab": {
          "base_uri": "https://localhost:8080/"
        },
        "id": "anY4vmnnPL95",
        "outputId": "7fb78859-8da9-490b-eb61-dd22ea8db813"
      },
      "execution_count": 35,
      "outputs": [
        {
          "output_type": "stream",
          "name": "stdout",
          "text": [
            "[[9 4 9 9 1]\n",
            " [6 4 6 8 7]\n",
            " [1 5 8 9 2]]\n",
            "--------------------------------------------------\n",
            "[[4.5 2.  4.5 4.5 0.5]\n",
            " [3.  2.  3.  4.  3.5]\n",
            " [0.5 2.5 4.  4.5 1. ]]\n"
          ]
        }
      ]
    },
    {
      "cell_type": "markdown",
      "source": [
        "#### e) Matrix Multiplication"
      ],
      "metadata": {
        "id": "aFxUEXQlPMXH"
      }
    },
    {
      "cell_type": "code",
      "source": [
        "np.random.seed(3)\n",
        "arr1 = np.random.randint(1,10,(2,2))\n",
        "arr2 = np.random.randint(1,10,(2,2))\n",
        "arr1"
      ],
      "metadata": {
        "colab": {
          "base_uri": "https://localhost:8080/"
        },
        "id": "HnRThvd-PRwe",
        "outputId": "d8034b8f-56dc-4d1f-e8aa-f00e775c64bc"
      },
      "execution_count": 36,
      "outputs": [
        {
          "output_type": "execute_result",
          "data": {
            "text/plain": [
              "array([[9, 4],\n",
              "       [9, 9]])"
            ]
          },
          "metadata": {},
          "execution_count": 36
        }
      ]
    },
    {
      "cell_type": "code",
      "source": [
        "arr2"
      ],
      "metadata": {
        "colab": {
          "base_uri": "https://localhost:8080/"
        },
        "id": "jmck5XKUQVS9",
        "outputId": "523047c2-94b4-4fc2-d27a-9b5724567ef9"
      },
      "execution_count": 37,
      "outputs": [
        {
          "output_type": "execute_result",
          "data": {
            "text/plain": [
              "array([[1, 6],\n",
              "       [4, 6]])"
            ]
          },
          "metadata": {},
          "execution_count": 37
        }
      ]
    },
    {
      "cell_type": "code",
      "source": [
        "arr1.dot(arr2)"
      ],
      "metadata": {
        "colab": {
          "base_uri": "https://localhost:8080/"
        },
        "id": "eIL-pepsQWFg",
        "outputId": "69f33f76-bde3-4436-c637-73690cf6de38"
      },
      "execution_count": 38,
      "outputs": [
        {
          "output_type": "execute_result",
          "data": {
            "text/plain": [
              "array([[ 25,  78],\n",
              "       [ 45, 108]])"
            ]
          },
          "metadata": {},
          "execution_count": 38
        }
      ]
    },
    {
      "cell_type": "markdown",
      "source": [
        "#### f) Power"
      ],
      "metadata": {
        "id": "QzAbmuTIQhfB"
      }
    },
    {
      "cell_type": "code",
      "source": [
        "np.random.seed(3)\n",
        "arr= np.random.randint(1,10,(3,5))\n",
        "print(arr)\n",
        "print('-'*50)\n",
        "\n",
        "print(arr ** 2)"
      ],
      "metadata": {
        "colab": {
          "base_uri": "https://localhost:8080/"
        },
        "id": "d7hf-sreQdhI",
        "outputId": "943850e3-a2c1-41b3-fdff-edddcb59826f"
      },
      "execution_count": 39,
      "outputs": [
        {
          "output_type": "stream",
          "name": "stdout",
          "text": [
            "[[9 4 9 9 1]\n",
            " [6 4 6 8 7]\n",
            " [1 5 8 9 2]]\n",
            "--------------------------------------------------\n",
            "[[81 16 81 81  1]\n",
            " [36 16 36 64 49]\n",
            " [ 1 25 64 81  4]]\n"
          ]
        }
      ]
    },
    {
      "cell_type": "markdown",
      "source": [
        "# 21. Percentile Function\n",
        "\n",
        "#### np.perecentile() function used to compute the nth percentile of given data (array elements) along the specified axis."
      ],
      "metadata": {
        "id": "3GOszjZHQ0T3"
      }
    },
    {
      "cell_type": "code",
      "source": [
        "np.random.seed(3)\n",
        "arr = np.random.randint(1,10,10)\n",
        "print(arr)\n",
        "print('-'*50)\n",
        "\n",
        "arr = np.sort(arr)\n",
        "print(arr)\n",
        "print('-'*50)\n",
        "\n",
        "print(np.percentile(arr, 50))"
      ],
      "metadata": {
        "colab": {
          "base_uri": "https://localhost:8080/"
        },
        "id": "wKcVP1vUQwzs",
        "outputId": "fb197280-d072-4dc2-ba57-fee4a0ac589d"
      },
      "execution_count": 43,
      "outputs": [
        {
          "output_type": "stream",
          "name": "stdout",
          "text": [
            "[9 4 9 9 1 6 4 6 8 7]\n",
            "--------------------------------------------------\n",
            "[1 4 4 6 6 7 8 9 9 9]\n",
            "--------------------------------------------------\n",
            "6.5\n"
          ]
        }
      ]
    },
    {
      "cell_type": "markdown",
      "source": [
        "# 22. Mean, Variance and Standard Deviation\n"
      ],
      "metadata": {
        "id": "ih13EaX0TSGk"
      }
    },
    {
      "cell_type": "code",
      "source": [
        "np.random.seed(3)\n",
        "arr = np.random.randint(1,10,10)\n",
        "print(arr)\n",
        "print('-'*50)\n",
        "print(\"The mean of the array is: \", arr.mean())\n",
        "print(\"The Variance of the array is: \", arr.var())\n",
        "print(\"The Standard Deviation of the array is: \", arr.std())"
      ],
      "metadata": {
        "colab": {
          "base_uri": "https://localhost:8080/"
        },
        "id": "bhG8j0JpSeIO",
        "outputId": "b2201984-2de7-42b2-df05-d77b6a637747"
      },
      "execution_count": 45,
      "outputs": [
        {
          "output_type": "stream",
          "name": "stdout",
          "text": [
            "[9 4 9 9 1 6 4 6 8 7]\n",
            "--------------------------------------------------\n",
            "The mean of the array is:  6.3\n",
            "The Variance of the array is:  6.410000000000001\n",
            "The Standard Deviation of the array is:  2.5317977802344327\n"
          ]
        }
      ]
    },
    {
      "cell_type": "code",
      "source": [],
      "metadata": {
        "id": "KU_0ZdVETvWr"
      },
      "execution_count": null,
      "outputs": []
    }
  ]
}