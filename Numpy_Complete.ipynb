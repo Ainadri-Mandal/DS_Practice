{
  "nbformat": 4,
  "nbformat_minor": 0,
  "metadata": {
    "colab": {
      "provenance": [],
      "authorship_tag": "ABX9TyOhDl7ffgC78Xb9BQV52A4S"
    },
    "kernelspec": {
      "name": "python3",
      "display_name": "Python 3"
    },
    "language_info": {
      "name": "python"
    }
  },
  "cells": [
    {
      "cell_type": "code",
      "execution_count": 1,
      "metadata": {
        "id": "kM-qa_w0GP3i"
      },
      "outputs": [],
      "source": [
        "import numpy as np"
      ]
    },
    {
      "cell_type": "markdown",
      "source": [
        "# 1. Converting a List into np Array"
      ],
      "metadata": {
        "id": "pUjLJLszG1sX"
      }
    },
    {
      "cell_type": "code",
      "source": [
        "lst = [1,2,3,4]\n",
        "print(type(lst))\n",
        "arr = np.array(lst)\n",
        "print(type(arr))\n",
        "arr = np.array(lst, ndmin = 2)   #ndmin states how many dimensionsion we want in array\n",
        "print(arr)"
      ],
      "metadata": {
        "colab": {
          "base_uri": "https://localhost:8080/"
        },
        "id": "z4jyHxsKGyXl",
        "outputId": "2b9ed06a-6e41-4759-f150-fc2619d496fe"
      },
      "execution_count": 2,
      "outputs": [
        {
          "output_type": "stream",
          "name": "stdout",
          "text": [
            "<class 'list'>\n",
            "<class 'numpy.ndarray'>\n",
            "[[1 2 3 4]]\n"
          ]
        }
      ]
    },
    {
      "cell_type": "code",
      "source": [
        "arr = np.array(lst, ndmin = 1)   #ndmin states how many dimensionsion we want in array\n",
        "arr"
      ],
      "metadata": {
        "colab": {
          "base_uri": "https://localhost:8080/"
        },
        "id": "CBrc-YSuG-T1",
        "outputId": "53e48ac4-98bd-4037-f456-e104bd94d41e"
      },
      "execution_count": 3,
      "outputs": [
        {
          "output_type": "execute_result",
          "data": {
            "text/plain": [
              "array([1, 2, 3, 4])"
            ]
          },
          "metadata": {},
          "execution_count": 3
        }
      ]
    },
    {
      "cell_type": "code",
      "source": [
        "arr = np.array(lst, ndmin = 2)\n",
        "arr"
      ],
      "metadata": {
        "colab": {
          "base_uri": "https://localhost:8080/"
        },
        "id": "do00OfE5HAhv",
        "outputId": "d6c4072f-6855-49a1-bccb-f523b253fca2"
      },
      "execution_count": 4,
      "outputs": [
        {
          "output_type": "execute_result",
          "data": {
            "text/plain": [
              "array([[1, 2, 3, 4]])"
            ]
          },
          "metadata": {},
          "execution_count": 4
        }
      ]
    },
    {
      "cell_type": "markdown",
      "source": [
        "# 2. Arange Functions"
      ],
      "metadata": {
        "id": "3AfxHKAmIREz"
      }
    },
    {
      "cell_type": "markdown",
      "source": [
        "##### The arange (start, stop, step, dtype = ): returns an array with evenly spaced elements as per the interval.\n",
        "##### The interval mentioned is half-opened i.e. [start, stop]"
      ],
      "metadata": {
        "id": "2hFt7Oh5IWvf"
      }
    },
    {
      "cell_type": "code",
      "source": [
        "arr = np.arange(1,10,2)\n",
        "arr"
      ],
      "metadata": {
        "colab": {
          "base_uri": "https://localhost:8080/"
        },
        "id": "v5Lne0LVH2pZ",
        "outputId": "8ae5b04c-e618-43c9-b49a-42c84d2f5246"
      },
      "execution_count": 5,
      "outputs": [
        {
          "output_type": "execute_result",
          "data": {
            "text/plain": [
              "array([1, 3, 5, 7, 9])"
            ]
          },
          "metadata": {},
          "execution_count": 5
        }
      ]
    },
    {
      "cell_type": "markdown",
      "source": [
        "# 3. Multidimensional array"
      ],
      "metadata": {
        "id": "rnL7u4PvGgYO"
      }
    },
    {
      "cell_type": "code",
      "source": [
        "arr = np.array([[1,2,3],[4,5,6],[7,8,9]])\n",
        "arr"
      ],
      "metadata": {
        "colab": {
          "base_uri": "https://localhost:8080/"
        },
        "id": "t8Btw2irGX0c",
        "outputId": "54c61e98-4fba-4e6e-857e-c0e80a56e127"
      },
      "execution_count": 6,
      "outputs": [
        {
          "output_type": "execute_result",
          "data": {
            "text/plain": [
              "array([[1, 2, 3],\n",
              "       [4, 5, 6],\n",
              "       [7, 8, 9]])"
            ]
          },
          "metadata": {},
          "execution_count": 6
        }
      ]
    },
    {
      "cell_type": "markdown",
      "source": [
        "# 4. Size Function"
      ],
      "metadata": {
        "id": "-iLqqNaNHK4n"
      }
    },
    {
      "cell_type": "markdown",
      "source": [
        "####In Python, numpy.size() function count the no. of elements along a given axis"
      ],
      "metadata": {
        "id": "-IRk8jUmHuJs"
      }
    },
    {
      "cell_type": "code",
      "source": [
        "arr = np.array([[1,2,3],[4,5,6],[7,8,9],[1,2,3]])\n",
        "print('Total no. of elements in the array: ',arr.size)\n",
        "print('Total no. of  rows: ',np.size(arr,0))   ## For rows\n",
        "print('Total no. of  columns: ',np.size(arr,1))  ## For columns\n",
        "print()\n",
        "arr"
      ],
      "metadata": {
        "colab": {
          "base_uri": "https://localhost:8080/"
        },
        "id": "tztdGdvqHD7y",
        "outputId": "8eb7c481-3749-4ce6-f759-2a2db413c6f1"
      },
      "execution_count": 7,
      "outputs": [
        {
          "output_type": "stream",
          "name": "stdout",
          "text": [
            "Total no. of elements in the array:  12\n",
            "Total no. of  rows:  4\n",
            "Total no. of  columns:  3\n",
            "\n"
          ]
        },
        {
          "output_type": "execute_result",
          "data": {
            "text/plain": [
              "array([[1, 2, 3],\n",
              "       [4, 5, 6],\n",
              "       [7, 8, 9],\n",
              "       [1, 2, 3]])"
            ]
          },
          "metadata": {},
          "execution_count": 7
        }
      ]
    },
    {
      "cell_type": "markdown",
      "source": [
        "#5. Shape Function"
      ],
      "metadata": {
        "id": "7JFVGi6SHWzI"
      }
    },
    {
      "cell_type": "markdown",
      "source": [
        "#### Shape of an array can be defined as the number of elements in each dimension. Dimension is the number of indices or subscripts, that we require in order to specify an individual element of an array"
      ],
      "metadata": {
        "id": "HGyMiJzMJEuU"
      }
    },
    {
      "cell_type": "code",
      "source": [
        "arr = np.array([[1,2,3],[4,5,6],[7,8,9],[1,2,3]])\n",
        "\n",
        "print(\"Without shape function: \",(np.size(arr,0),np.size(arr,1)))\n",
        "\n",
        "print(\"With shape function: \",arr.shape)\n"
      ],
      "metadata": {
        "colab": {
          "base_uri": "https://localhost:8080/"
        },
        "id": "TTwnHIa6HVZY",
        "outputId": "384df3a9-e6f6-4825-dd93-1871784fcd0e"
      },
      "execution_count": 8,
      "outputs": [
        {
          "output_type": "stream",
          "name": "stdout",
          "text": [
            "Without shape function:  (4, 3)\n",
            "With shape function:  (4, 3)\n"
          ]
        }
      ]
    },
    {
      "cell_type": "markdown",
      "source": [
        "#6. Dtype Function"
      ],
      "metadata": {
        "id": "edh_ODS9KMKj"
      }
    },
    {
      "cell_type": "code",
      "source": [
        "arr1 = np.array([1,2,3,4])\n",
        "arr1.dtype"
      ],
      "metadata": {
        "colab": {
          "base_uri": "https://localhost:8080/"
        },
        "id": "L9c-V7f9J8Xd",
        "outputId": "3f9f324e-ea35-4083-f850-1e8074c010c8"
      },
      "execution_count": 9,
      "outputs": [
        {
          "output_type": "execute_result",
          "data": {
            "text/plain": [
              "dtype('int64')"
            ]
          },
          "metadata": {},
          "execution_count": 9
        }
      ]
    },
    {
      "cell_type": "markdown",
      "source": [
        "# 7. Ndim function\n",
        "#### np.ndarray.ndim() function return the no. of dimensions of an array"
      ],
      "metadata": {
        "id": "K7BcpBIr6xJA"
      }
    },
    {
      "cell_type": "code",
      "source": [
        "arr1 = np.array([1,2,3,1,2,3,4])\n",
        "print(arr1.ndim)\n",
        "arr2 = np.array([[1,2,3],[4,5,6],[7,8,9],[1,2,3]])\n",
        "print(arr2.ndim)\n",
        "\n",
        "arr3 = np.array(arr1, ndmin = 3)\n",
        "print(arr3)"
      ],
      "metadata": {
        "colab": {
          "base_uri": "https://localhost:8080/"
        },
        "id": "GPYw7yUfKotc",
        "outputId": "d0b7caec-4289-455a-bf61-a6b14a3cf132"
      },
      "execution_count": 10,
      "outputs": [
        {
          "output_type": "stream",
          "name": "stdout",
          "text": [
            "1\n",
            "2\n",
            "[[[1 2 3 1 2 3 4]]]\n"
          ]
        }
      ]
    },
    {
      "cell_type": "markdown",
      "source": [
        "#8. Zeros Function\n",
        "\n",
        "#### The numpy.zeros() function returns a new array of given shape and type, with zeros. Syntax:\n",
        "\n",
        "#### numpy.zeros(shape, dtype = None)"
      ],
      "metadata": {
        "id": "sXlHWnvy8ECn"
      }
    },
    {
      "cell_type": "code",
      "source": [
        "arr = np.zeros(shape = (3,4), dtype = int)\n",
        "arr"
      ],
      "metadata": {
        "colab": {
          "base_uri": "https://localhost:8080/"
        },
        "id": "vOXJm1ko7ZYU",
        "outputId": "bdbd944e-684e-42bb-ce25-3dee95a2099a"
      },
      "execution_count": 11,
      "outputs": [
        {
          "output_type": "execute_result",
          "data": {
            "text/plain": [
              "array([[0, 0, 0, 0],\n",
              "       [0, 0, 0, 0],\n",
              "       [0, 0, 0, 0]])"
            ]
          },
          "metadata": {},
          "execution_count": 11
        }
      ]
    },
    {
      "cell_type": "markdown",
      "source": [
        "#9. Ones Function\n",
        "\n",
        "#### The numpy.ones() function returns a new array of given shape and type, with ones. Syntax:\n",
        "\n",
        "#### numpy.ones(shape, dtype = None)"
      ],
      "metadata": {
        "id": "uyrGbReB9Kt-"
      }
    },
    {
      "cell_type": "code",
      "source": [
        "arr = np.ones(shape = (3,4), dtype = int)\n",
        "arr"
      ],
      "metadata": {
        "colab": {
          "base_uri": "https://localhost:8080/"
        },
        "id": "22jOIjLE75-1",
        "outputId": "243c0c16-d274-466c-f9e4-61ad50ea8611"
      },
      "execution_count": 12,
      "outputs": [
        {
          "output_type": "execute_result",
          "data": {
            "text/plain": [
              "array([[1, 1, 1, 1],\n",
              "       [1, 1, 1, 1],\n",
              "       [1, 1, 1, 1]])"
            ]
          },
          "metadata": {},
          "execution_count": 12
        }
      ]
    },
    {
      "cell_type": "markdown",
      "source": [
        "# 9. Eye Function\n",
        "##### The eye tool returns a 2-D array with 1's as the diagonal and 0's elsewhere. The diagonal and 0's elsewhere. The diagonal can be main, upper, or lower depending on the optional parameter k."
      ],
      "metadata": {
        "id": "ePqT98Ik9ZhV"
      }
    },
    {
      "cell_type": "code",
      "source": [
        "np.eye(4, dtype = int)"
      ],
      "metadata": {
        "colab": {
          "base_uri": "https://localhost:8080/"
        },
        "id": "NXfbX0YG9WdP",
        "outputId": "43eea66b-80dd-427c-ebed-7316f081d3e2"
      },
      "execution_count": 13,
      "outputs": [
        {
          "output_type": "execute_result",
          "data": {
            "text/plain": [
              "array([[1, 0, 0, 0],\n",
              "       [0, 1, 0, 0],\n",
              "       [0, 0, 1, 0],\n",
              "       [0, 0, 0, 1]])"
            ]
          },
          "metadata": {},
          "execution_count": 13
        }
      ]
    },
    {
      "cell_type": "markdown",
      "source": [
        "# 10. Empty Function\n",
        "#### return an empty array of given shape and type"
      ],
      "metadata": {
        "id": "cHaZsUzp-YEE"
      }
    },
    {
      "cell_type": "code",
      "source": [
        "np.empty(shape = (5,5), dtype = int)"
      ],
      "metadata": {
        "colab": {
          "base_uri": "https://localhost:8080/"
        },
        "id": "VuIG-WTV-M39",
        "outputId": "e75b5388-42eb-4e51-f2f0-c42a244f10be"
      },
      "execution_count": 14,
      "outputs": [
        {
          "output_type": "execute_result",
          "data": {
            "text/plain": [
              "array([[    41574580,            0,            0,            0,\n",
              "        502511173749],\n",
              "       [261993005068,   4294967467,            0,            0,\n",
              "        502511173749],\n",
              "       [261993005068,           86,            0,            0,\n",
              "        511101108343],\n",
              "       [167503724559,   4294967447,            0,            0,\n",
              "        511101108343],\n",
              "       [167503724559,            1,            0,            0,\n",
              "        511101108224]])"
            ]
          },
          "metadata": {},
          "execution_count": 14
        }
      ]
    },
    {
      "cell_type": "markdown",
      "source": [
        "# 11. Random Functions\n",
        "\n"
      ],
      "metadata": {
        "id": "6oQUCf2CCNlp"
      }
    },
    {
      "cell_type": "markdown",
      "source": [
        "### a) The numpy.random.rand() function creates an array of specified shape and fills it woth random values"
      ],
      "metadata": {
        "id": "5hOO2wefDfzg"
      }
    },
    {
      "cell_type": "code",
      "source": [
        "np.random.rand(3,4)"
      ],
      "metadata": {
        "colab": {
          "base_uri": "https://localhost:8080/"
        },
        "id": "DQNbdmOt-rzE",
        "outputId": "19d35e5f-efec-46db-bf62-ceb2ed2bbfd5"
      },
      "execution_count": 15,
      "outputs": [
        {
          "output_type": "execute_result",
          "data": {
            "text/plain": [
              "array([[0.33803528, 0.62336759, 0.01860901, 0.15405612],\n",
              "       [0.26324087, 0.40729568, 0.89579793, 0.02732373],\n",
              "       [0.73583046, 0.888343  , 0.08737569, 0.42520772]])"
            ]
          },
          "metadata": {},
          "execution_count": 15
        }
      ]
    },
    {
      "cell_type": "markdown",
      "source": [
        "### b) np.random.randint\n",
        "is one of the function for doing random sampling in numpy. It returns an array of specified shape and fills with random int from low(inclusive) to high(exclusive), i.e. in the interval"
      ],
      "metadata": {
        "id": "ORr0w55mC_0F"
      }
    },
    {
      "cell_type": "code",
      "source": [
        "np.random.randint(low = 1,high = 6, size = 15)     # (start, end, no. of values to print)"
      ],
      "metadata": {
        "colab": {
          "base_uri": "https://localhost:8080/"
        },
        "id": "AGq8q2GjC5EV",
        "outputId": "ae61bda7-599f-4013-b0cc-d615880fa73e"
      },
      "execution_count": 16,
      "outputs": [
        {
          "output_type": "execute_result",
          "data": {
            "text/plain": [
              "array([5, 4, 4, 2, 1, 2, 2, 1, 2, 5, 2, 3, 4, 3, 5])"
            ]
          },
          "metadata": {},
          "execution_count": 16
        }
      ]
    },
    {
      "cell_type": "code",
      "source": [
        "np.random.randint( 1, 6, 8)"
      ],
      "metadata": {
        "colab": {
          "base_uri": "https://localhost:8080/"
        },
        "id": "EYgI3rhVDmy-",
        "outputId": "d694a364-fd18-46ba-fdb7-3b4aa9b08e97"
      },
      "execution_count": 17,
      "outputs": [
        {
          "output_type": "execute_result",
          "data": {
            "text/plain": [
              "array([2, 5, 1, 4, 4, 3, 1, 1])"
            ]
          },
          "metadata": {},
          "execution_count": 17
        }
      ]
    },
    {
      "cell_type": "markdown",
      "source": [
        "### c) np.random.randn\n",
        "The numpy.random.randn() function creates an array of specified shape and fills it with random number vaues as per *standard normal distribution*"
      ],
      "metadata": {
        "id": "mIyyjoUHF0vh"
      }
    },
    {
      "cell_type": "code",
      "source": [
        "np.random.randn(20)"
      ],
      "metadata": {
        "colab": {
          "base_uri": "https://localhost:8080/"
        },
        "id": "GBlTkNkfFYdW",
        "outputId": "bcf92805-bba8-41cb-973f-6abd0e472987"
      },
      "execution_count": 18,
      "outputs": [
        {
          "output_type": "execute_result",
          "data": {
            "text/plain": [
              "array([ 0.1636764 , -0.77307807, -0.83635866,  1.30494086, -0.44624695,\n",
              "       -0.07428746, -1.20847232,  0.04308397,  0.15472915,  1.99998255,\n",
              "       -1.72482525, -1.29283388,  0.70819504, -0.37839246,  0.34451533,\n",
              "       -1.68612597,  0.94582678, -0.28959936,  0.19084107, -0.20218666])"
            ]
          },
          "metadata": {},
          "execution_count": 18
        }
      ]
    },
    {
      "cell_type": "code",
      "source": [
        "import matplotlib.pyplot as plt\n",
        "%matplotlib inline\n",
        "plt.hist(np.random.randn(100), bins = 15);\n"
      ],
      "metadata": {
        "colab": {
          "base_uri": "https://localhost:8080/",
          "height": 430
        },
        "id": "hHAZjDUzGXmf",
        "outputId": "aeae05bf-a838-46cf-f746-cb43bc2e018c"
      },
      "execution_count": 19,
      "outputs": [
        {
          "output_type": "display_data",
          "data": {
            "text/plain": [
              "<Figure size 640x480 with 1 Axes>"
            ],
            "image/png": "[encoded data removed]"
          },
          "metadata": {}
        }
      ]
    },
    {
      "cell_type": "markdown",
      "source": [
        "# 12. Reshape Function - will not alter the original data\n",
        "\n",
        "The numpy.reshape() function shapes an array without changing the data of the array. *(It Should be noted that the product of the rows and columns should be same.)*"
      ],
      "metadata": {
        "id": "bV8yp5ptJY75"
      }
    },
    {
      "cell_type": "code",
      "source": [
        "arr = np.random.randint(1, 15, (3,4))\n",
        "print(arr)\n",
        "print(arr.shape)\n",
        "print(arr.reshape(4,3))\n",
        "print(arr.reshape(6,2))"
      ],
      "metadata": {
        "colab": {
          "base_uri": "https://localhost:8080/"
        },
        "id": "wVa019jEIuRG",
        "outputId": "92a7ab15-6b8e-44f3-a026-ba4501f94c1f"
      },
      "execution_count": 20,
      "outputs": [
        {
          "output_type": "stream",
          "name": "stdout",
          "text": [
            "[[ 5  9 10 10]\n",
            " [11 12  5  3]\n",
            " [14  6  5  2]]\n",
            "(3, 4)\n",
            "[[ 5  9 10]\n",
            " [10 11 12]\n",
            " [ 5  3 14]\n",
            " [ 6  5  2]]\n",
            "[[ 5  9]\n",
            " [10 10]\n",
            " [11 12]\n",
            " [ 5  3]\n",
            " [14  6]\n",
            " [ 5  2]]\n"
          ]
        }
      ]
    },
    {
      "cell_type": "markdown",
      "source": [
        "# Linspace Function\n",
        "\n",
        "The numpy.linspace() function returns number spaces evenly w.r.t interval. Similar to numpy.arange() function but instead of step it uses sample number.\n",
        "\n",
        "Parameters:\n",
        "\n",
        "\n",
        "* -> start: [Optional] start of Interval range, By default start = 0\n",
        "* -> stop: end of interval range\n",
        "* -> restep: If True, return (samples,step), By deafault restep = False\n",
        "* -> num: [int, Optional] No. of Samples to generate\n",
        "* -> dtype: type of Output array\n",
        "\n"
      ],
      "metadata": {
        "id": "IcRx1K7_K3YJ"
      }
    },
    {
      "cell_type": "code",
      "source": [
        "np.linspace(1,10,5)"
      ],
      "metadata": {
        "colab": {
          "base_uri": "https://localhost:8080/"
        },
        "id": "YM0q1e2iKSQ1",
        "outputId": "db4ca887-f000-4507-82e2-d4774c7b29a9"
      },
      "execution_count": 21,
      "outputs": [
        {
          "output_type": "execute_result",
          "data": {
            "text/plain": [
              "array([ 1.  ,  3.25,  5.5 ,  7.75, 10.  ])"
            ]
          },
          "metadata": {},
          "execution_count": 21
        }
      ]
    },
    {
      "cell_type": "markdown",
      "source": [
        "# 14. Flatten Function\n",
        "\n",
        "ndarray.flatten() function return a copy of the array collapsed into on dimension"
      ],
      "metadata": {
        "id": "m04Gn5RUUl8I"
      }
    },
    {
      "cell_type": "code",
      "source": [
        "arr = np.random.randint(1, 15, (3,4))\n",
        "print(arr.shape)\n",
        "print(arr)\n",
        "arr = arr.flatten()\n",
        "print(arr)\n",
        "print(arr.shape)\n"
      ],
      "metadata": {
        "colab": {
          "base_uri": "https://localhost:8080/"
        },
        "id": "PgMyKlurUPYZ",
        "outputId": "c53644b5-1fb4-4303-d3a8-de621c17c84e"
      },
      "execution_count": 22,
      "outputs": [
        {
          "output_type": "stream",
          "name": "stdout",
          "text": [
            "(3, 4)\n",
            "[[ 9 11 10 11]\n",
            " [10  2  2  8]\n",
            " [ 2  8 10  6]]\n",
            "[ 9 11 10 11 10  2  2  8  2  8 10  6]\n",
            "(12,)\n"
          ]
        }
      ]
    },
    {
      "cell_type": "markdown",
      "source": [
        "# 15. Logspace Function\n",
        "\n",
        "The numpy.logspace() function returns number spaces eveny w.r.t interval on a log scale\n",
        "\n",
        "Parameters:\n",
        "\n",
        "\n",
        "* -> start: [float] start (base ** start) of interval range.\n",
        "* -> stop: [float] end (base ** stop) of interval range\n",
        "* -> endpoint: [Boolean, optional] If True, return (samples,step), By deafault restep = False\n",
        "* -> num: [int, Optional] Base of log scale, By default equals 10.0\n",
        "* -> dtype: type of Output array"
      ],
      "metadata": {
        "id": "sZ8DVzsfVRXe"
      }
    },
    {
      "cell_type": "code",
      "source": [
        "np.logspace(2,4,10)\n",
        "\n",
        "# to define the base of the log or log base\n",
        "\n",
        "np.logspace(2,4,10, base = 2)"
      ],
      "metadata": {
        "colab": {
          "base_uri": "https://localhost:8080/"
        },
        "id": "jQSk5W6BVBcO",
        "outputId": "cd82c244-5d49-439d-d496-7302b738f768"
      },
      "execution_count": 23,
      "outputs": [
        {
          "output_type": "execute_result",
          "data": {
            "text/plain": [
              "array([ 4.        ,  4.66611616,  5.44316   ,  6.34960421,  7.4069977 ,\n",
              "        8.64047791, 10.0793684 , 11.75787594, 13.71590373, 16.        ])"
            ]
          },
          "metadata": {},
          "execution_count": 23
        }
      ]
    },
    {
      "cell_type": "markdown",
      "source": [
        "# 16. Copy Function"
      ],
      "metadata": {
        "id": "GpGLhJB3XxOB"
      }
    },
    {
      "cell_type": "code",
      "source": [
        "arr1 = np.random.randint(1, 15,10)\n",
        "\n",
        "arr2 = arr1\n",
        "\n",
        "print(arr1, id(arr1))\n",
        "print(arr2, id(arr2))\n",
        "\n",
        "print('-'*50)\n",
        "\n",
        "arr1 = np.random.randint(1, 15,10)\n",
        "\n",
        "arr2 = arr1.copy()\n",
        "\n",
        "print(arr1, id(arr1))\n",
        "print(arr2, id(arr2))\n"
      ],
      "metadata": {
        "colab": {
          "base_uri": "https://localhost:8080/"
        },
        "id": "vcxmhKVPZtpr",
        "outputId": "6a77be42-edb2-40a5-eea0-85d7f3bfc143"
      },
      "execution_count": 24,
      "outputs": [
        {
          "output_type": "stream",
          "name": "stdout",
          "text": [
            "[11  6 14 12  7  9 13  6  5  9] 139816959490640\n",
            "[11  6 14 12  7  9 13  6  5  9] 139816959490640\n",
            "--------------------------------------------------\n",
            "[ 6 13  2  5  7 11  3  7  3  2] 139816959486992\n",
            "[ 6 13  2  5  7 11  3  7  3  2] 139816959285392\n"
          ]
        }
      ]
    },
    {
      "cell_type": "markdown",
      "source": [
        "#17. arr.max() , arr.min(), arr.sum() functions\n"
      ],
      "metadata": {
        "id": "FZFgHe9Cg9gV"
      }
    },
    {
      "cell_type": "code",
      "source": [
        "arr = np.random.randint(1, 15, (3,4))\n",
        "print(arr)\n",
        "print('Max: ', arr.max())\n",
        "print('Min: ', arr.min())\n",
        "print('Sum: ', arr.sum())\n"
      ],
      "metadata": {
        "colab": {
          "base_uri": "https://localhost:8080/"
        },
        "id": "hgYyeS_YYES6",
        "outputId": "8196f48c-d4d9-422c-9b0f-43bfde9174ae"
      },
      "execution_count": 25,
      "outputs": [
        {
          "output_type": "stream",
          "name": "stdout",
          "text": [
            "[[ 1  2 12  1]\n",
            " [ 8  3  8  7]\n",
            " [ 4  5  8  1]]\n",
            "Max:  12\n",
            "Min:  1\n",
            "Sum:  60\n"
          ]
        }
      ]
    },
    {
      "cell_type": "markdown",
      "source": [
        "Using axis function to find the max and min\n",
        "\n",
        "\n",
        "\n",
        "*  Axis = 0 for column\n",
        "* Axis = 1 for rows\n",
        "\n"
      ],
      "metadata": {
        "id": "mwMOPlZdh2On"
      }
    },
    {
      "cell_type": "code",
      "source": [
        "print(\"For columns: \")\n",
        "arr = np.random.randint(1, 15, (3,4))\n",
        "print(arr)\n",
        "print('Max: ', arr.max(axis = 0))\n",
        "print('Min: ', arr.min(axis = 0))\n",
        "print('Sum: ', arr.sum(axis = 0))"
      ],
      "metadata": {
        "colab": {
          "base_uri": "https://localhost:8080/"
        },
        "id": "QYBx9OSlhM8w",
        "outputId": "7d8512f7-eaf7-402a-a097-d5a7cf2f86d0"
      },
      "execution_count": 26,
      "outputs": [
        {
          "output_type": "stream",
          "name": "stdout",
          "text": [
            "For columns: \n",
            "[[10  1  8  2]\n",
            " [ 2  2  2  9]\n",
            " [10 12  7 13]]\n",
            "Max:  [10 12  8 13]\n",
            "Min:  [2 1 2 2]\n",
            "Sum:  [22 15 17 24]\n"
          ]
        }
      ]
    },
    {
      "cell_type": "code",
      "source": [
        "print(\"For rows: \")\n",
        "arr = np.random.randint(1, 15, (3,4))\n",
        "print(arr)\n",
        "print('Max: ', arr.max(axis = 1))\n",
        "print('Min: ', arr.min(axis = 1))\n",
        "print('Sum: ', arr.sum(axis = 1))"
      ],
      "metadata": {
        "colab": {
          "base_uri": "https://localhost:8080/"
        },
        "id": "U0PkuORniXfp",
        "outputId": "e4c6b082-fbf7-40be-efad-3ca44b8815d1"
      },
      "execution_count": 27,
      "outputs": [
        {
          "output_type": "stream",
          "name": "stdout",
          "text": [
            "For rows: \n",
            "[[14 11  2  9]\n",
            " [13 11  6  9]\n",
            " [ 1 11  8 14]]\n",
            "Max:  [14 13 14]\n",
            "Min:  [2 6 1]\n",
            "Sum:  [36 39 34]\n"
          ]
        }
      ]
    },
    {
      "cell_type": "markdown",
      "source": [
        "# Seed Function\n",
        "\n",
        "#### random() function is used to generate random numbers in Python. Not actually random, rather this is used to generate pseudo-random numbers. That implies that these randomly generated numbers can be determined. random() function generates numbers for some values. This value is also called seed value.\n",
        "\n",
        "Syntax: random.seed(l, version)\n",
        "\n",
        "Parameter:\n",
        "\n",
        "\n",
        "*   l : Any seed value used to produce a random number\n",
        "*   version: A integer used to specify how to convert l in integer.\n",
        "\n"
      ],
      "metadata": {
        "id": "Do-oQ4-oixSQ"
      }
    },
    {
      "cell_type": "code",
      "source": [
        "np.random.seed(3)\n",
        "arr= np.random.randint(1,10,(3,5))\n",
        "print(arr)\n",
        "print('-'*50)\n"
      ],
      "metadata": {
        "id": "CntRrN4mipwr",
        "colab": {
          "base_uri": "https://localhost:8080/"
        },
        "outputId": "8d97d6f9-f12c-44fa-929a-18a180832df8"
      },
      "execution_count": 28,
      "outputs": [
        {
          "output_type": "stream",
          "name": "stdout",
          "text": [
            "[[9 4 9 9 1]\n",
            " [6 4 6 8 7]\n",
            " [1 5 8 9 2]]\n",
            "--------------------------------------------------\n"
          ]
        }
      ]
    },
    {
      "cell_type": "markdown",
      "source": [
        "# 19. Sorting Function\n",
        "\n",
        "numpy.sort()\n",
        "\n",
        "Parameters:\n",
        "\n",
        "\n",
        "*   arr : Array to be sorted\n",
        "*   axis: Axis along which we need array to be sorted\n",
        "*   order: This arguments specifies which fiels to be compared first.\n",
        "*   kind: which typeof sorting algorithm like: *mergesort* etc.\n",
        "\n",
        "\n"
      ],
      "metadata": {
        "id": "Jq-DLT1dMzzf"
      }
    },
    {
      "cell_type": "code",
      "source": [
        "np.random.seed(3)\n",
        "arr= np.random.randint(1,10,(3,5))\n",
        "print(arr)\n",
        "print('-'*50)\n",
        "\n",
        "print(np.sort(arr))   # by default it is sorting by rows i.e. axis = 1\n",
        "print('-'*50)\n",
        "print(np.sort(arr,axis = 0))\n",
        "\n",
        "print('-'*50)\n",
        "\n",
        "arr = np.reshape(np.sort(arr.flatten()), arr.shape)\n",
        "print(arr)\n",
        "print('-'*50)"
      ],
      "metadata": {
        "colab": {
          "base_uri": "https://localhost:8080/"
        },
        "id": "oPcxrIVPKvaS",
        "outputId": "91bc315f-12a5-493e-f427-0263550a3105"
      },
      "execution_count": 34,
      "outputs": [
        {
          "output_type": "stream",
          "name": "stdout",
          "text": [
            "[[9 4 9 9 1]\n",
            " [6 4 6 8 7]\n",
            " [1 5 8 9 2]]\n",
            "--------------------------------------------------\n",
            "[[1 4 9 9 9]\n",
            " [4 6 6 7 8]\n",
            " [1 2 5 8 9]]\n",
            "--------------------------------------------------\n",
            "[[1 4 6 8 1]\n",
            " [6 4 8 9 2]\n",
            " [9 5 9 9 7]]\n",
            "--------------------------------------------------\n",
            "[[1 1 2 4 4]\n",
            " [5 6 6 7 8]\n",
            " [8 9 9 9 9]]\n",
            "--------------------------------------------------\n"
          ]
        }
      ]
    },
    {
      "cell_type": "code",
      "source": [],
      "metadata": {
        "id": "q_W8rhHeNhr8"
      },
      "execution_count": 29,
      "outputs": []
    }
  ]
}