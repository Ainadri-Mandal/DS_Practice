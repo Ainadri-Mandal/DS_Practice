{
 "cells": [
  {
   "cell_type": "code",
   "execution_count": 1,
   "id": "8ecca76c-76da-49b0-9384-0b9eccab51e7",
   "metadata": {},
   "outputs": [],
   "source": [
    "import os"
   ]
  },
  {
   "cell_type": "code",
   "execution_count": 9,
   "id": "7f9786c2-096d-4d0a-9ace-9c20fe71386d",
   "metadata": {},
   "outputs": [
    {
     "data": {
      "text/plain": [
       "'C:\\\\Users\\\\Ainadri\\\\Data Science Practice'"
      ]
     },
     "execution_count": 9,
     "metadata": {},
     "output_type": "execute_result"
    }
   ],
   "source": [
    "os.getcwd()  # Gives current working directory\n",
    "\n",
    "# This the OS library command"
   ]
  },
  {
   "cell_type": "code",
   "execution_count": 13,
   "id": "828edaf0-c13e-4b60-836a-9ac98391a240",
   "metadata": {},
   "outputs": [
    {
     "data": {
      "text/plain": [
       "'C:\\\\Users\\\\Ainadri\\\\Data Science Practice'"
      ]
     },
     "execution_count": 13,
     "metadata": {},
     "output_type": "execute_result"
    }
   ],
   "source": [
    "pwd    # this is the terminal command"
   ]
  },
  {
   "cell_type": "code",
   "execution_count": null,
   "id": "52a09cdb-e077-4894-b671-a68e28227193",
   "metadata": {},
   "outputs": [],
   "source": [
    "os.chdir(\"\")"
   ]
  }
 ],
 "metadata": {
  "kernelspec": {
   "display_name": "Python 3 (ipykernel)",
   "language": "python",
   "name": "python3"
  },
  "language_info": {
   "codemirror_mode": {
    "name": "ipython",
    "version": 3
   },
   "file_extension": ".py",
   "mimetype": "text/x-python",
   "name": "python",
   "nbconvert_exporter": "python",
   "pygments_lexer": "ipython3",
   "version": "3.13.5"
  }
 },
 "nbformat": 4,
 "nbformat_minor": 5
}
