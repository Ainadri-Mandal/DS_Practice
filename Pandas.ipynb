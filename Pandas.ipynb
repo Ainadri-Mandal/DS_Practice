{
  "nbformat": 4,
  "nbformat_minor": 0,
  "metadata": {
    "colab": {
      "provenance": [],
      "mount_file_id": "1y45b2XiPVT03BjQQcbnHk7mi8VJKMpBN",
      "authorship_tag": "ABX9TyMnPOQMQ8C1tXpAjFdhYmHW"
    },
    "kernelspec": {
      "name": "python3",
      "display_name": "Python 3"
    },
    "language_info": {
      "name": "python"
    }
  },
  "cells": [
    {
      "cell_type": "code",
      "execution_count": 1,
      "metadata": {
        "id": "bbxoEvPU5rFV",
        "colab": {
          "base_uri": "https://localhost:8080/"
        },
        "outputId": "778607c2-9404-48e6-f8bf-1f47c0faae99"
      },
      "outputs": [
        {
          "output_type": "stream",
          "name": "stdout",
          "text": [
            "Requirement already satisfied: pandas in /usr/local/lib/python3.11/dist-packages (2.2.2)\n",
            "Requirement already satisfied: numpy>=1.23.2 in /usr/local/lib/python3.11/dist-packages (from pandas) (2.0.2)\n",
            "Requirement already satisfied: python-dateutil>=2.8.2 in /usr/local/lib/python3.11/dist-packages (from pandas) (2.9.0.post0)\n",
            "Requirement already satisfied: pytz>=2020.1 in /usr/local/lib/python3.11/dist-packages (from pandas) (2025.2)\n",
            "Requirement already satisfied: tzdata>=2022.7 in /usr/local/lib/python3.11/dist-packages (from pandas) (2025.2)\n",
            "Requirement already satisfied: six>=1.5 in /usr/local/lib/python3.11/dist-packages (from python-dateutil>=2.8.2->pandas) (1.17.0)\n"
          ]
        }
      ],
      "source": [
        "!pip install pandas"
      ]
    },
    {
      "cell_type": "code",
      "source": [
        "import pandas as pd\n",
        "import numpy as np"
      ],
      "metadata": {
        "id": "Mvc3lgkWXnHe"
      },
      "execution_count": 8,
      "outputs": []
    },
    {
      "cell_type": "markdown",
      "source": [
        "#1. Working with Pandas Series"
      ],
      "metadata": {
        "id": "j1UWugNVXynl"
      }
    },
    {
      "cell_type": "markdown",
      "source": [
        "#### a) Creating Series\n",
        "\n",
        "A Pandas Series is a one-dimensional labeled array capable of holding any data type (integers, strings, floats, etc.). It is similar to a column in a spreadsheet or a database table, with labels (called the index) associated with each value, allowing for intuitive data alignment and access. Series are foundational in pandas, serving as the building blocks for more complex data structures like DataFrames."
      ],
      "metadata": {
        "id": "A11KDp7SX5Ae"
      }
    },
    {
      "cell_type": "markdown",
      "source": [
        "**Series Through list**"
      ],
      "metadata": {
        "id": "ZfME1uBeYSeu"
      }
    },
    {
      "cell_type": "code",
      "source": [
        "pd.__version__"
      ],
      "metadata": {
        "colab": {
          "base_uri": "https://localhost:8080/",
          "height": 36
        },
        "id": "mFLOCk1yXxwh",
        "outputId": "8bcfb431-82d1-4995-aa9b-c35eb7c5620b"
      },
      "execution_count": 4,
      "outputs": [
        {
          "output_type": "execute_result",
          "data": {
            "text/plain": [
              "'2.2.2'"
            ],
            "application/vnd.google.colaboratory.intrinsic+json": {
              "type": "string"
            }
          },
          "metadata": {},
          "execution_count": 4
        }
      ]
    },
    {
      "cell_type": "code",
      "source": [
        "lst = [1,2,3,4,5]\n",
        "print(pd.Series(lst))"
      ],
      "metadata": {
        "colab": {
          "base_uri": "https://localhost:8080/"
        },
        "id": "pr5HnzaoYb7O",
        "outputId": "9259c90b-34c3-4ddb-8cc8-2dd9786658f1"
      },
      "execution_count": 7,
      "outputs": [
        {
          "output_type": "stream",
          "name": "stdout",
          "text": [
            "0    1\n",
            "1    2\n",
            "2    3\n",
            "3    4\n",
            "4    5\n",
            "dtype: int64\n"
          ]
        }
      ]
    },
    {
      "cell_type": "markdown",
      "source": [
        "**Series through Numpy Array**"
      ],
      "metadata": {
        "id": "Tu4drw9MY__W"
      }
    },
    {
      "cell_type": "code",
      "source": [
        "arr = np.array([1,2,3,4,5])\n",
        "\n",
        "print(pd.Series(arr))\n"
      ],
      "metadata": {
        "colab": {
          "base_uri": "https://localhost:8080/"
        },
        "id": "6wBRUIwbYvfM",
        "outputId": "84345bf1-9cdd-446a-cd15-7882ccf9d286"
      },
      "execution_count": 11,
      "outputs": [
        {
          "output_type": "stream",
          "name": "stdout",
          "text": [
            "0    1\n",
            "1    2\n",
            "2    3\n",
            "3    4\n",
            "4    5\n",
            "dtype: int64\n"
          ]
        }
      ]
    },
    {
      "cell_type": "markdown",
      "source": [
        "**Giving Index from my end**"
      ],
      "metadata": {
        "id": "RImmTSadao5n"
      }
    },
    {
      "cell_type": "code",
      "source": [
        "print(pd.Series(index = [1,2,3,4,5], data = ['Ainadri', 'Ana', 'Soumya', 'Subhankar', 'Ritesh']))"
      ],
      "metadata": {
        "colab": {
          "base_uri": "https://localhost:8080/"
        },
        "id": "aLQmFIo6ZJ0u",
        "outputId": "d1f694c9-f362-4d4a-bb30-4ecc065be141"
      },
      "execution_count": 15,
      "outputs": [
        {
          "output_type": "stream",
          "name": "stdout",
          "text": [
            "1      Ainadri\n",
            "2          Ana\n",
            "3       Soumya\n",
            "4    Subhankar\n",
            "5       Ritesh\n",
            "dtype: object\n"
          ]
        }
      ]
    },
    {
      "cell_type": "markdown",
      "source": [
        "**Series Through dictionary values**"
      ],
      "metadata": {
        "id": "kOCRMrBFbf9p"
      }
    },
    {
      "cell_type": "code",
      "source": [
        "steps = {'day_1': 4000, 'day_2': 4200,'day_3': 4400,'day_4': 4700}\n",
        "print(pd.Series(steps))"
      ],
      "metadata": {
        "colab": {
          "base_uri": "https://localhost:8080/"
        },
        "id": "zvrh9sTebNY6",
        "outputId": "cdf3756b-213a-481d-cf79-c3ba54590c7e"
      },
      "execution_count": 16,
      "outputs": [
        {
          "output_type": "stream",
          "name": "stdout",
          "text": [
            "day_1    4000\n",
            "day_2    4200\n",
            "day_3    4400\n",
            "day_4    4700\n",
            "dtype: int64\n"
          ]
        }
      ]
    },
    {
      "cell_type": "markdown",
      "source": [
        "**Using `repeat()` function along with creating a series**"
      ],
      "metadata": {
        "id": "0AvREHRMcvxL"
      }
    },
    {
      "cell_type": "code",
      "source": [
        "pd.Series(5).repeat(3)"
      ],
      "metadata": {
        "colab": {
          "base_uri": "https://localhost:8080/",
          "height": 178
        },
        "id": "SkSxSAnNcgvo",
        "outputId": "e2b80b1b-2974-4d87-9954-1c9c0ae393e1"
      },
      "execution_count": 18,
      "outputs": [
        {
          "output_type": "execute_result",
          "data": {
            "text/plain": [
              "0    5\n",
              "0    5\n",
              "0    5\n",
              "dtype: int64"
            ],
            "text/html": [
              "<div>\n",
              "<style scoped>\n",
              "    .dataframe tbody tr th:only-of-type {\n",
              "        vertical-align: middle;\n",
              "    }\n",
              "\n",
              "    .dataframe tbody tr th {\n",
              "        vertical-align: top;\n",
              "    }\n",
              "\n",
              "    .dataframe thead th {\n",
              "        text-align: right;\n",
              "    }\n",
              "</style>\n",
              "<table border=\"1\" class=\"dataframe\">\n",
              "  <thead>\n",
              "    <tr style=\"text-align: right;\">\n",
              "      <th></th>\n",
              "      <th>0</th>\n",
              "    </tr>\n",
              "  </thead>\n",
              "  <tbody>\n",
              "    <tr>\n",
              "      <th>0</th>\n",
              "      <td>5</td>\n",
              "    </tr>\n",
              "    <tr>\n",
              "      <th>0</th>\n",
              "      <td>5</td>\n",
              "    </tr>\n",
              "    <tr>\n",
              "      <th>0</th>\n",
              "      <td>5</td>\n",
              "    </tr>\n",
              "  </tbody>\n",
              "</table>\n",
              "</div><br><label><b>dtype:</b> int64</label>"
            ]
          },
          "metadata": {},
          "execution_count": 18
        }
      ]
    },
    {
      "cell_type": "markdown",
      "source": [
        "We can use the `reset()` function to make the index accurate"
      ],
      "metadata": {
        "id": "G-1DhqxddJVE"
      }
    },
    {
      "cell_type": "code",
      "source": [
        "pd.Series(5).repeat(3).reset_index(drop = True)  #the drop=True is used to discard the old index after calling reset_index().\n",
        "\n"
      ],
      "metadata": {
        "colab": {
          "base_uri": "https://localhost:8080/",
          "height": 178
        },
        "id": "rR_Sxb2lc-VZ",
        "outputId": "dd3cc27b-22b5-46fd-b3e9-1afe07b2657d"
      },
      "execution_count": 21,
      "outputs": [
        {
          "output_type": "execute_result",
          "data": {
            "text/plain": [
              "0    5\n",
              "1    5\n",
              "2    5\n",
              "dtype: int64"
            ],
            "text/html": [
              "<div>\n",
              "<style scoped>\n",
              "    .dataframe tbody tr th:only-of-type {\n",
              "        vertical-align: middle;\n",
              "    }\n",
              "\n",
              "    .dataframe tbody tr th {\n",
              "        vertical-align: top;\n",
              "    }\n",
              "\n",
              "    .dataframe thead th {\n",
              "        text-align: right;\n",
              "    }\n",
              "</style>\n",
              "<table border=\"1\" class=\"dataframe\">\n",
              "  <thead>\n",
              "    <tr style=\"text-align: right;\">\n",
              "      <th></th>\n",
              "      <th>0</th>\n",
              "    </tr>\n",
              "  </thead>\n",
              "  <tbody>\n",
              "    <tr>\n",
              "      <th>0</th>\n",
              "      <td>5</td>\n",
              "    </tr>\n",
              "    <tr>\n",
              "      <th>1</th>\n",
              "      <td>5</td>\n",
              "    </tr>\n",
              "    <tr>\n",
              "      <th>2</th>\n",
              "      <td>5</td>\n",
              "    </tr>\n",
              "  </tbody>\n",
              "</table>\n",
              "</div><br><label><b>dtype:</b> int64</label>"
            ]
          },
          "metadata": {},
          "execution_count": 21
        }
      ]
    },
    {
      "cell_type": "code",
      "source": [
        "s = pd.Series([10,20]).repeat([5,3]).reset_index(drop = True)\n",
        "s"
      ],
      "metadata": {
        "colab": {
          "base_uri": "https://localhost:8080/",
          "height": 335
        },
        "id": "sQpuF6HmdefY",
        "outputId": "7a5cedeb-33ee-478d-d098-90f698f305cf"
      },
      "execution_count": 22,
      "outputs": [
        {
          "output_type": "execute_result",
          "data": {
            "text/plain": [
              "0    10\n",
              "1    10\n",
              "2    10\n",
              "3    10\n",
              "4    10\n",
              "5    20\n",
              "6    20\n",
              "7    20\n",
              "dtype: int64"
            ],
            "text/html": [
              "<div>\n",
              "<style scoped>\n",
              "    .dataframe tbody tr th:only-of-type {\n",
              "        vertical-align: middle;\n",
              "    }\n",
              "\n",
              "    .dataframe tbody tr th {\n",
              "        vertical-align: top;\n",
              "    }\n",
              "\n",
              "    .dataframe thead th {\n",
              "        text-align: right;\n",
              "    }\n",
              "</style>\n",
              "<table border=\"1\" class=\"dataframe\">\n",
              "  <thead>\n",
              "    <tr style=\"text-align: right;\">\n",
              "      <th></th>\n",
              "      <th>0</th>\n",
              "    </tr>\n",
              "  </thead>\n",
              "  <tbody>\n",
              "    <tr>\n",
              "      <th>0</th>\n",
              "      <td>10</td>\n",
              "    </tr>\n",
              "    <tr>\n",
              "      <th>1</th>\n",
              "      <td>10</td>\n",
              "    </tr>\n",
              "    <tr>\n",
              "      <th>2</th>\n",
              "      <td>10</td>\n",
              "    </tr>\n",
              "    <tr>\n",
              "      <th>3</th>\n",
              "      <td>10</td>\n",
              "    </tr>\n",
              "    <tr>\n",
              "      <th>4</th>\n",
              "      <td>10</td>\n",
              "    </tr>\n",
              "    <tr>\n",
              "      <th>5</th>\n",
              "      <td>20</td>\n",
              "    </tr>\n",
              "    <tr>\n",
              "      <th>6</th>\n",
              "      <td>20</td>\n",
              "    </tr>\n",
              "    <tr>\n",
              "      <th>7</th>\n",
              "      <td>20</td>\n",
              "    </tr>\n",
              "  </tbody>\n",
              "</table>\n",
              "</div><br><label><b>dtype:</b> int64</label>"
            ]
          },
          "metadata": {},
          "execution_count": 22
        }
      ]
    },
    {
      "cell_type": "markdown",
      "source": [
        "**Accesing elements**"
      ],
      "metadata": {
        "id": "ypcS5uLrgfAK"
      }
    },
    {
      "cell_type": "code",
      "source": [
        "print(s[0])"
      ],
      "metadata": {
        "colab": {
          "base_uri": "https://localhost:8080/"
        },
        "id": "slYNsaU8gVEO",
        "outputId": "8492597a-5fb9-473e-b3bc-dc5227773cef"
      },
      "execution_count": 24,
      "outputs": [
        {
          "output_type": "stream",
          "name": "stdout",
          "text": [
            "10\n"
          ]
        }
      ]
    },
    {
      "cell_type": "code",
      "source": [
        "print(s[-1:])"
      ],
      "metadata": {
        "colab": {
          "base_uri": "https://localhost:8080/"
        },
        "id": "MoPOwgtlgXbD",
        "outputId": "d384e11b-82b6-4b01-aacf-399219475c0a"
      },
      "execution_count": 29,
      "outputs": [
        {
          "output_type": "stream",
          "name": "stdout",
          "text": [
            "7    20\n",
            "dtype: int64\n"
          ]
        }
      ]
    },
    {
      "cell_type": "markdown",
      "source": [
        "#### b) Aggregate function on pandas Series"
      ],
      "metadata": {
        "id": "Jq3H4e0ZhNCo"
      }
    },
    {
      "cell_type": "markdown",
      "source": [
        "Aggregate functions on a Pandas Series perform summary computations, such as calculating statistics like sum, mean, median, min, max, count, and standard deviation."
      ],
      "metadata": {
        "id": "mzhPd2KNh3IC"
      }
    },
    {
      "cell_type": "code",
      "source": [
        "sr = pd.Series([1,2,3,4,5,6,7])\n",
        "print(sr.agg(['min', 'max', 'sum', 'mean', 'median','count']))"
      ],
      "metadata": {
        "colab": {
          "base_uri": "https://localhost:8080/"
        },
        "id": "Eclkpld1gnU1",
        "outputId": "b20cbe0a-bdac-44be-cf79-fa121bc7aa2e"
      },
      "execution_count": 38,
      "outputs": [
        {
          "output_type": "stream",
          "name": "stdout",
          "text": [
            "min        1.0\n",
            "max        7.0\n",
            "sum       28.0\n",
            "mean       4.0\n",
            "median     4.0\n",
            "count      7.0\n",
            "dtype: float64\n"
          ]
        }
      ]
    },
    {
      "cell_type": "markdown",
      "source": [
        "#### c) Series absolute function\n",
        "\n",
        "The absolute function on a Pandas Series, accessed using .abs(), returns a new Series with the absolute (non-negative) values of each element. It is commonly used to eliminate negative signs from numerical data, enabling easier comparison, analysis, or aggregation without regard to direction.\n",
        "\n"
      ],
      "metadata": {
        "id": "FJ9-oIX2jm40"
      }
    },
    {
      "cell_type": "code",
      "source": [
        "sr = pd.Series([1,-2,-3,-4,-5,6,7])\n",
        "print(sr.abs())"
      ],
      "metadata": {
        "colab": {
          "base_uri": "https://localhost:8080/"
        },
        "id": "9_BduoXoiJh8",
        "outputId": "c1d5a516-0c0f-4516-db1e-e72f4dd8d861"
      },
      "execution_count": 40,
      "outputs": [
        {
          "output_type": "stream",
          "name": "stdout",
          "text": [
            "0    1\n",
            "1    2\n",
            "2    3\n",
            "3    4\n",
            "4    5\n",
            "5    6\n",
            "6    7\n",
            "dtype: int64\n"
          ]
        }
      ]
    },
    {
      "cell_type": "markdown",
      "source": [
        "#### d) Concatenating Series\n",
        "\n",
        "Appending in Pandas Series is the process of combining two or more Series objects into a single Series, typically done using the `pd.concat()`. It preserves the original indices unless reset, allowing for flexible data stacking.\n",
        "\n",
        "Syntax: `pd.concat([series1, series2])`"
      ],
      "metadata": {
        "id": "y2Ei-tBokuk-"
      }
    },
    {
      "cell_type": "code",
      "source": [
        "sr1 = pd.Series([1,2,3,4,5,6,7])\n",
        "sr2 = pd.Series([1,-2,-5,6,7])\n",
        "print(pd.concat([sr1,sr2]).reset_index(drop = True))"
      ],
      "metadata": {
        "colab": {
          "base_uri": "https://localhost:8080/"
        },
        "id": "bLzzEMUZkgvl",
        "outputId": "12c9615d-8a2f-44e6-e297-e2b22abdcc56"
      },
      "execution_count": 44,
      "outputs": [
        {
          "output_type": "stream",
          "name": "stdout",
          "text": [
            "0     1\n",
            "1     2\n",
            "2     3\n",
            "3     4\n",
            "4     5\n",
            "5     6\n",
            "6     7\n",
            "7     1\n",
            "8    -2\n",
            "9    -5\n",
            "10    6\n",
            "11    7\n",
            "dtype: int64\n"
          ]
        }
      ]
    },
    {
      "cell_type": "markdown",
      "source": [
        "#### e) Astype function\n",
        "\n",
        "The `.astype()` function in Pandas is used to convert the data type of a Series to a specified type, such as int, float, str, or even custom types.\n",
        "\n",
        "Syntax: `series.astype(dtype)`"
      ],
      "metadata": {
        "id": "uOVV1LRBm3qR"
      }
    },
    {
      "cell_type": "code",
      "source": [
        "print(type(sr1[1]))"
      ],
      "metadata": {
        "colab": {
          "base_uri": "https://localhost:8080/"
        },
        "id": "J-POwOmVnb0a",
        "outputId": "b2c2749a-e3ab-4036-f34c-feea109f6f1d"
      },
      "execution_count": 50,
      "outputs": [
        {
          "output_type": "stream",
          "name": "stdout",
          "text": [
            "<class 'numpy.int64'>\n"
          ]
        }
      ]
    },
    {
      "cell_type": "code",
      "source": [
        "sr2 = pd.Series([1,-2,-5,6,7])\n",
        "\n",
        "sr2.astype('float')"
      ],
      "metadata": {
        "colab": {
          "base_uri": "https://localhost:8080/",
          "height": 241
        },
        "id": "X6ZiUDSomYEm",
        "outputId": "7dd49be0-2eb2-4ff2-ae5e-5ba71a5c7820"
      },
      "execution_count": 47,
      "outputs": [
        {
          "output_type": "execute_result",
          "data": {
            "text/plain": [
              "0    1.0\n",
              "1   -2.0\n",
              "2   -5.0\n",
              "3    6.0\n",
              "4    7.0\n",
              "dtype: float64"
            ],
            "text/html": [
              "<div>\n",
              "<style scoped>\n",
              "    .dataframe tbody tr th:only-of-type {\n",
              "        vertical-align: middle;\n",
              "    }\n",
              "\n",
              "    .dataframe tbody tr th {\n",
              "        vertical-align: top;\n",
              "    }\n",
              "\n",
              "    .dataframe thead th {\n",
              "        text-align: right;\n",
              "    }\n",
              "</style>\n",
              "<table border=\"1\" class=\"dataframe\">\n",
              "  <thead>\n",
              "    <tr style=\"text-align: right;\">\n",
              "      <th></th>\n",
              "      <th>0</th>\n",
              "    </tr>\n",
              "  </thead>\n",
              "  <tbody>\n",
              "    <tr>\n",
              "      <th>0</th>\n",
              "      <td>1.0</td>\n",
              "    </tr>\n",
              "    <tr>\n",
              "      <th>1</th>\n",
              "      <td>-2.0</td>\n",
              "    </tr>\n",
              "    <tr>\n",
              "      <th>2</th>\n",
              "      <td>-5.0</td>\n",
              "    </tr>\n",
              "    <tr>\n",
              "      <th>3</th>\n",
              "      <td>6.0</td>\n",
              "    </tr>\n",
              "    <tr>\n",
              "      <th>4</th>\n",
              "      <td>7.0</td>\n",
              "    </tr>\n",
              "  </tbody>\n",
              "</table>\n",
              "</div><br><label><b>dtype:</b> float64</label>"
            ]
          },
          "metadata": {},
          "execution_count": 47
        }
      ]
    },
    {
      "cell_type": "markdown",
      "source": [
        "#### f) Between function\n",
        "The `.between()` function in Pandas is used to check whether each element in a Series lies between two boundary values, inclusive by default. It returns a Boolean Series\n",
        "\n",
        "Syntax: `series.between(lower, upper, inclusive='both')`\n",
        "\n",
        "* `lower`: lower bound\n",
        "\n",
        "* `upper`: upper bound\n",
        "\n",
        "* `inclusive`: `'both'` (default), `'left'`, `'right'`, or `'neither'`"
      ],
      "metadata": {
        "id": "c1pgt9GEnxCo"
      }
    },
    {
      "cell_type": "code",
      "source": [
        "sr1 = pd.Series([1,2,3,4,5,9])\n",
        "sr1.between(4,11)"
      ],
      "metadata": {
        "colab": {
          "base_uri": "https://localhost:8080/",
          "height": 272
        },
        "id": "3rYsf_KNnYQ1",
        "outputId": "297be13d-e355-463a-98e5-ea6f2a904ed1"
      },
      "execution_count": 53,
      "outputs": [
        {
          "output_type": "execute_result",
          "data": {
            "text/plain": [
              "0    False\n",
              "1    False\n",
              "2    False\n",
              "3     True\n",
              "4     True\n",
              "5     True\n",
              "dtype: bool"
            ],
            "text/html": [
              "<div>\n",
              "<style scoped>\n",
              "    .dataframe tbody tr th:only-of-type {\n",
              "        vertical-align: middle;\n",
              "    }\n",
              "\n",
              "    .dataframe tbody tr th {\n",
              "        vertical-align: top;\n",
              "    }\n",
              "\n",
              "    .dataframe thead th {\n",
              "        text-align: right;\n",
              "    }\n",
              "</style>\n",
              "<table border=\"1\" class=\"dataframe\">\n",
              "  <thead>\n",
              "    <tr style=\"text-align: right;\">\n",
              "      <th></th>\n",
              "      <th>0</th>\n",
              "    </tr>\n",
              "  </thead>\n",
              "  <tbody>\n",
              "    <tr>\n",
              "      <th>0</th>\n",
              "      <td>False</td>\n",
              "    </tr>\n",
              "    <tr>\n",
              "      <th>1</th>\n",
              "      <td>False</td>\n",
              "    </tr>\n",
              "    <tr>\n",
              "      <th>2</th>\n",
              "      <td>False</td>\n",
              "    </tr>\n",
              "    <tr>\n",
              "      <th>3</th>\n",
              "      <td>True</td>\n",
              "    </tr>\n",
              "    <tr>\n",
              "      <th>4</th>\n",
              "      <td>True</td>\n",
              "    </tr>\n",
              "    <tr>\n",
              "      <th>5</th>\n",
              "      <td>True</td>\n",
              "    </tr>\n",
              "  </tbody>\n",
              "</table>\n",
              "</div><br><label><b>dtype:</b> bool</label>"
            ]
          },
          "metadata": {},
          "execution_count": 53
        }
      ]
    },
    {
      "cell_type": "markdown",
      "source": [
        "#### g) All string functions can be used to extract or modify texts in a series\n",
        "\n",
        "* Upper and Lower Function\n",
        "* Len Function\n",
        "* Strip Function\n",
        "* Split Function\n",
        "* Contains Function\n",
        "* Replace Function\n",
        "* Count Function\n",
        "* Stratswith and Endswith Function\n",
        "* Find Function"
      ],
      "metadata": {
        "id": "HQpbDW3LqsY3"
      }
    },
    {
      "cell_type": "code",
      "source": [
        "ser = pd.Series(['  Eshant Das  ', '  Data Science  ', '  Hello World  ', '  Artificial Intelligence    ', '   Machine Learning  '])\n"
      ],
      "metadata": {
        "id": "scStBc20qWzh"
      },
      "execution_count": 66,
      "outputs": []
    },
    {
      "cell_type": "markdown",
      "source": [
        "Upper and Lower Function"
      ],
      "metadata": {
        "id": "k0ClNe1SsT_Q"
      }
    },
    {
      "cell_type": "code",
      "source": [
        "print(ser.str.upper())\n",
        "\n",
        "print('-' * 30 )\n",
        "\n",
        "print(ser.str.lower())"
      ],
      "metadata": {
        "colab": {
          "base_uri": "https://localhost:8080/"
        },
        "id": "PIq6n8C3sS-p",
        "outputId": "6a8d4ec2-8410-4ca1-a5a4-c5152adcdced"
      },
      "execution_count": 67,
      "outputs": [
        {
          "output_type": "stream",
          "name": "stdout",
          "text": [
            "0                     ESHANT DAS  \n",
            "1                   DATA SCIENCE  \n",
            "2                    HELLO WORLD  \n",
            "3      ARTIFICIAL INTELLIGENCE    \n",
            "4               MACHINE LEARNING  \n",
            "dtype: object\n",
            "------------------------------\n",
            "0                     eshant das  \n",
            "1                   data science  \n",
            "2                    hello world  \n",
            "3      artificial intelligence    \n",
            "4               machine learning  \n",
            "dtype: object\n"
          ]
        }
      ]
    },
    {
      "cell_type": "markdown",
      "source": [
        "`len()`"
      ],
      "metadata": {
        "id": "3QPxT7-_s4Ko"
      }
    },
    {
      "cell_type": "code",
      "source": [
        "for i in ser:\n",
        "  print(i , len(i))\n"
      ],
      "metadata": {
        "colab": {
          "base_uri": "https://localhost:8080/"
        },
        "id": "qu8jpU9wsXjf",
        "outputId": "cd85ff68-68cf-4c8e-b9c2-d2bf79a0cd8b"
      },
      "execution_count": 68,
      "outputs": [
        {
          "output_type": "stream",
          "name": "stdout",
          "text": [
            "  Eshant Das   14\n",
            "  Data Science   16\n",
            "  Hello World   15\n",
            "  Artificial Intelligence     29\n",
            "   Machine Learning   21\n"
          ]
        }
      ]
    },
    {
      "cell_type": "markdown",
      "source": [
        "`strip()`"
      ],
      "metadata": {
        "id": "Qz2kzCtSvDjc"
      }
    },
    {
      "cell_type": "code",
      "source": [
        "print(ser)"
      ],
      "metadata": {
        "colab": {
          "base_uri": "https://localhost:8080/"
        },
        "id": "jVuoEuIsvi7-",
        "outputId": "7039e2f9-57c1-4456-c99f-9208acafb4e1"
      },
      "execution_count": 70,
      "outputs": [
        {
          "output_type": "stream",
          "name": "stdout",
          "text": [
            "0                     Eshant Das  \n",
            "1                   Data Science  \n",
            "2                    Hello World  \n",
            "3      Artificial Intelligence    \n",
            "4               Machine Learning  \n",
            "dtype: object\n"
          ]
        }
      ]
    },
    {
      "cell_type": "code",
      "source": [
        "print(ser.str.strip())"
      ],
      "metadata": {
        "colab": {
          "base_uri": "https://localhost:8080/"
        },
        "id": "ZXLEn9LrtBmu",
        "outputId": "1e542be5-c247-412b-b550-4cfa922de17d"
      },
      "execution_count": 69,
      "outputs": [
        {
          "output_type": "stream",
          "name": "stdout",
          "text": [
            "0                 Eshant Das\n",
            "1               Data Science\n",
            "2                Hello World\n",
            "3    Artificial Intelligence\n",
            "4           Machine Learning\n",
            "dtype: object\n"
          ]
        }
      ]
    },
    {
      "cell_type": "code",
      "source": [],
      "metadata": {
        "id": "MUb9C_9svZ0n"
      },
      "execution_count": null,
      "outputs": []
    }
  ]
}