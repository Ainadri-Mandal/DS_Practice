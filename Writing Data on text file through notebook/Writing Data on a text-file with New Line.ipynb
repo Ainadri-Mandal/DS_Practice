{
 "cells": [
  {
   "cell_type": "markdown",
   "id": "2d7e8a1c-eee3-403c-8224-649855bc7b34",
   "metadata": {},
   "source": [
    "# Writing Data on a text-file with New Line"
   ]
  },
  {
   "cell_type": "code",
   "execution_count": 3,
   "id": "040a28a4-cd24-45b2-8812-cb3df99ec499",
   "metadata": {},
   "outputs": [
    {
     "name": "stdin",
     "output_type": "stream",
     "text": [
      "Enter your text:  hello Bello everyonee\n"
     ]
    }
   ],
   "source": [
    "file = open(\"Data.txt\", \"a\")\n",
    "user_input = input(\"Enter your text: \")\n",
    "file.write(user_input + \".\\n\")\n",
    "file.close()"
   ]
  },
  {
   "cell_type": "code",
   "execution_count": 2,
   "id": "b93d2e73-0728-4b17-baa6-e5cada7e3bcf",
   "metadata": {},
   "outputs": [
    {
     "name": "stdin",
     "output_type": "stream",
     "text": [
      "Enter your text:  hello Bello everyonee\n"
     ]
    }
   ],
   "source": [
    "fd = open(\"Data.txt\", \"a\")\n",
    "txt = input(\"Enter your text: \")\n",
    "txt = txt + '.\\n'\n",
    "fd.write(txt)\n",
    "fd.close()"
   ]
  },
  {
   "cell_type": "code",
   "execution_count": null,
   "id": "d20d0f27-5d1e-4456-9603-e91d1d0aa913",
   "metadata": {},
   "outputs": [],
   "source": []
  }
 ],
 "metadata": {
  "kernelspec": {
   "display_name": "Python 3 (ipykernel)",
   "language": "python",
   "name": "python3"
  },
  "language_info": {
   "codemirror_mode": {
    "name": "ipython",
    "version": 3
   },
   "file_extension": ".py",
   "mimetype": "text/x-python",
   "name": "python",
   "nbconvert_exporter": "python",
   "pygments_lexer": "ipython3",
   "version": "3.13.5"
  }
 },
 "nbformat": 4,
 "nbformat_minor": 5
}
