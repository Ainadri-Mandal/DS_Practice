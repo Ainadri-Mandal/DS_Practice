{
 "cells": [
  {
   "cell_type": "markdown",
   "id": "2d7e8a1c-eee3-403c-8224-649855bc7b34",
   "metadata": {},
   "source": [
    "# Writing Data on a text-file with New Line"
   ]
  },
  {
   "cell_type": "code",
   "execution_count": 2,
   "id": "040a28a4-cd24-45b2-8812-cb3df99ec499",
   "metadata": {},
   "outputs": [
    {
     "name": "stdin",
     "output_type": "stream",
     "text": [
      "Enter your text:  hello hello hello mic testing 1234\n"
     ]
    }
   ],
   "source": [
    "file = open(\"Data.txt\", \"a\")\n",
    "user_input = input(\"Enter your text: \")\n",
    "file.write(user_input + \".\\n\")\n",
    "file.close()"
   ]
  }
 ],
 "metadata": {
  "kernelspec": {
   "display_name": "Python 3 (ipykernel)",
   "language": "python",
   "name": "python3"
  },
  "language_info": {
   "codemirror_mode": {
    "name": "ipython",
    "version": 3
   },
   "file_extension": ".py",
   "mimetype": "text/x-python",
   "name": "python",
   "nbconvert_exporter": "python",
   "pygments_lexer": "ipython3",
   "version": "3.13.5"
  }
 },
 "nbformat": 4,
 "nbformat_minor": 5
}
