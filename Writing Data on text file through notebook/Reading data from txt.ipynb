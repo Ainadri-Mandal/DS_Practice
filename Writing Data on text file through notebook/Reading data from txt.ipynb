{
 "cells": [
  {
   "cell_type": "markdown",
   "id": "954c0cd6-2506-42b4-bffa-3a2617026801",
   "metadata": {},
   "source": [
    "# Reading data from txt"
   ]
  },
  {
   "cell_type": "code",
   "execution_count": 4,
   "id": "4dc750f2-46c7-4a17-818d-6b05a55655d7",
   "metadata": {},
   "outputs": [],
   "source": [
    "fd = open('Text.txt', 'r')\n",
    "txt = fd.read()\n",
    "fd.close()"
   ]
  },
  {
   "cell_type": "code",
   "execution_count": 17,
   "id": "21096e6b-90a0-4283-8e21-70751e02e8ec",
   "metadata": {},
   "outputs": [
    {
     "data": {
      "text/plain": [
       "'Hello I an Ainadri.\\n\\nLorem ipsum is typically a corrupted version of De finibus bonorum et malorum, a 1st-century BC text by the Roman statesman and philosopher Cicero, with words altered, added, and removed to make it nonsensical and improper Latin. The first two words are the truncation of dolorem ipsum (\"pain itself\").\\n\\nVersions of the Lorem ipsum text have been used in typesetting since the 1960s, when advertisements for Letraset transfer sheets popularized it.[1] Lorem ipsum was introduced to the digital world in the mid-1980s, when Aldus employed it in graphic and word-processing templates for its desktop publishing program PageMaker. Other popular word processors, including Pages and Microsoft Word, have since adopted Lorem ipsum,[2] as have many LaTeX packages,[3][4][5] web content managers such as Joomla! and WordPress, and CSS libraries such as Semantic UI.'"
      ]
     },
     "execution_count": 17,
     "metadata": {},
     "output_type": "execute_result"
    }
   ],
   "source": [
    "txt"
   ]
  },
  {
   "cell_type": "code",
   "execution_count": 16,
   "id": "0155b412-c0a5-43f3-935f-b57f6b6617bb",
   "metadata": {
    "scrolled": true
   },
   "outputs": [
    {
     "name": "stdout",
     "output_type": "stream",
     "text": [
      "Hello I an Ainadri.\n",
      "\n",
      "Lorem ipsum is typically a corrupted version of De finibus bonorum et malorum, a 1st-century BC text by the Roman statesman and philosopher Cicero, with words altered, added, and removed to make it nonsensical and improper Latin. The first two words are the truncation of dolorem ipsum (\"pain itself\").\n",
      "\n",
      "Versions of the Lorem ipsum text have been used in typesetting since the 1960s, when advertisements for Letraset transfer sheets popularized it.[1] Lorem ipsum was introduced to the digital world in the mid-1980s, when Aldus employed it in graphic and word-processing templates for its desktop publishing program PageMaker. Other popular word processors, including Pages and Microsoft Word, have since adopted Lorem ipsum,[2] as have many LaTeX packages,[3][4][5] web content managers such as Joomla! and WordPress, and CSS libraries such as Semantic UI.\n"
     ]
    }
   ],
   "source": [
    "print(txt)"
   ]
  },
  {
   "cell_type": "markdown",
   "id": "2760ba0d-88ec-418e-9ffd-211bb79a5456",
   "metadata": {},
   "source": [
    "## Paragraphs"
   ]
  },
  {
   "cell_type": "code",
   "execution_count": 18,
   "id": "368ba837-b480-422a-8de4-8feb7753950c",
   "metadata": {},
   "outputs": [],
   "source": [
    "par = txt.split(\"\\n\\n\")"
   ]
  },
  {
   "cell_type": "code",
   "execution_count": 22,
   "id": "0efb318d-9271-465b-98c4-c317a13e63f3",
   "metadata": {},
   "outputs": [
    {
     "data": {
      "text/plain": [
       "['Hello I an Ainadri.',\n",
       " 'Lorem ipsum is typically a corrupted version of De finibus bonorum et malorum, a 1st-century BC text by the Roman statesman and philosopher Cicero, with words altered, added, and removed to make it nonsensical and improper Latin. The first two words are the truncation of dolorem ipsum (\"pain itself\").',\n",
       " 'Versions of the Lorem ipsum text have been used in typesetting since the 1960s, when advertisements for Letraset transfer sheets popularized it.[1] Lorem ipsum was introduced to the digital world in the mid-1980s, when Aldus employed it in graphic and word-processing templates for its desktop publishing program PageMaker. Other popular word processors, including Pages and Microsoft Word, have since adopted Lorem ipsum,[2] as have many LaTeX packages,[3][4][5] web content managers such as Joomla! and WordPress, and CSS libraries such as Semantic UI.']"
      ]
     },
     "execution_count": 22,
     "metadata": {},
     "output_type": "execute_result"
    }
   ],
   "source": [
    "par"
   ]
  },
  {
   "cell_type": "code",
   "execution_count": 24,
   "id": "cb2156bb-0cc3-467c-8835-23a33656e9ea",
   "metadata": {},
   "outputs": [
    {
     "data": {
      "text/plain": [
       "(list, 3)"
      ]
     },
     "execution_count": 24,
     "metadata": {},
     "output_type": "execute_result"
    }
   ],
   "source": [
    "type(par), len(par)"
   ]
  },
  {
   "cell_type": "code",
   "execution_count": 25,
   "id": "e19c1429-73ac-494e-8785-09bc43c5754d",
   "metadata": {},
   "outputs": [
    {
     "name": "stdout",
     "output_type": "stream",
     "text": [
      "Hello I an Ainadri.\n",
      "Lorem ipsum is typically a corrupted version of De finibus bonorum et malorum, a 1st-century BC text by the Roman statesman and philosopher Cicero, with words altered, added, and removed to make it nonsensical and improper Latin. The first two words are the truncation of dolorem ipsum (\"pain itself\").\n",
      "Versions of the Lorem ipsum text have been used in typesetting since the 1960s, when advertisements for Letraset transfer sheets popularized it.[1] Lorem ipsum was introduced to the digital world in the mid-1980s, when Aldus employed it in graphic and word-processing templates for its desktop publishing program PageMaker. Other popular word processors, including Pages and Microsoft Word, have since adopted Lorem ipsum,[2] as have many LaTeX packages,[3][4][5] web content managers such as Joomla! and WordPress, and CSS libraries such as Semantic UI.\n"
     ]
    }
   ],
   "source": [
    "for i in par:\n",
    "    print(i)"
   ]
  },
  {
   "cell_type": "markdown",
   "id": "4118dd50-afe2-4572-b2e6-6d525153c62b",
   "metadata": {},
   "source": [
    "## Lines"
   ]
  },
  {
   "cell_type": "code",
   "execution_count": 28,
   "id": "c93f0cb3-d463-4d76-9d10-24ecf65c94e1",
   "metadata": {},
   "outputs": [
    {
     "data": {
      "text/plain": [
       "['Hello I an Ainadri',\n",
       " '\\n\\nLorem ipsum is typically a corrupted version of De finibus bonorum et malorum, a 1st-century BC text by the Roman statesman and philosopher Cicero, with words altered, added, and removed to make it nonsensical and improper Latin',\n",
       " ' The first two words are the truncation of dolorem ipsum (\"pain itself\")',\n",
       " '\\n\\nVersions of the Lorem ipsum text have been used in typesetting since the 1960s, when advertisements for Letraset transfer sheets popularized it',\n",
       " '[1] Lorem ipsum was introduced to the digital world in the mid-1980s, when Aldus employed it in graphic and word-processing templates for its desktop publishing program PageMaker',\n",
       " ' Other popular word processors, including Pages and Microsoft Word, have since adopted Lorem ipsum,[2] as have many LaTeX packages,[3][4][5] web content managers such as Joomla! and WordPress, and CSS libraries such as Semantic UI',\n",
       " '']"
      ]
     },
     "execution_count": 28,
     "metadata": {},
     "output_type": "execute_result"
    }
   ],
   "source": [
    "txt.split(\".\")"
   ]
  },
  {
   "cell_type": "code",
   "execution_count": 29,
   "id": "ac567714-1442-44a8-910f-3e4bed4528d9",
   "metadata": {},
   "outputs": [
    {
     "data": {
      "text/plain": [
       "7"
      ]
     },
     "execution_count": 29,
     "metadata": {},
     "output_type": "execute_result"
    }
   ],
   "source": [
    "len(txt.split(\".\"))"
   ]
  },
  {
   "cell_type": "code",
   "execution_count": 32,
   "id": "03348e7d-4ea1-4b9b-bf7d-e1ad4b20b273",
   "metadata": {},
   "outputs": [],
   "source": [
    "lines = txt.split(\".\")"
   ]
  },
  {
   "cell_type": "code",
   "execution_count": 33,
   "id": "4bb19f2e-202d-4529-9798-b014bac237ff",
   "metadata": {},
   "outputs": [
    {
     "data": {
      "text/plain": [
       "['Hello I an Ainadri',\n",
       " '\\n\\nLorem ipsum is typically a corrupted version of De finibus bonorum et malorum, a 1st-century BC text by the Roman statesman and philosopher Cicero, with words altered, added, and removed to make it nonsensical and improper Latin',\n",
       " ' The first two words are the truncation of dolorem ipsum (\"pain itself\")',\n",
       " '\\n\\nVersions of the Lorem ipsum text have been used in typesetting since the 1960s, when advertisements for Letraset transfer sheets popularized it',\n",
       " '[1] Lorem ipsum was introduced to the digital world in the mid-1980s, when Aldus employed it in graphic and word-processing templates for its desktop publishing program PageMaker',\n",
       " ' Other popular word processors, including Pages and Microsoft Word, have since adopted Lorem ipsum,[2] as have many LaTeX packages,[3][4][5] web content managers such as Joomla! and WordPress, and CSS libraries such as Semantic UI',\n",
       " '']"
      ]
     },
     "execution_count": 33,
     "metadata": {},
     "output_type": "execute_result"
    }
   ],
   "source": [
    "lines"
   ]
  },
  {
   "cell_type": "code",
   "execution_count": 34,
   "id": "869513ed-bdf7-4a52-aee1-143c789ef2a9",
   "metadata": {},
   "outputs": [
    {
     "data": {
      "text/plain": [
       "['Hello I an Ainadri',\n",
       " '\\n\\nLorem ipsum is typically a corrupted version of De finibus bonorum et malorum, a 1st-century BC text by the Roman statesman and philosopher Cicero, with words altered, added, and removed to make it nonsensical and improper Latin',\n",
       " ' The first two words are the truncation of dolorem ipsum (\"pain itself\")',\n",
       " '\\n\\nVersions of the Lorem ipsum text have been used in typesetting since the 1960s, when advertisements for Letraset transfer sheets popularized it',\n",
       " '[1] Lorem ipsum was introduced to the digital world in the mid-1980s, when Aldus employed it in graphic and word-processing templates for its desktop publishing program PageMaker',\n",
       " ' Other popular word processors, including Pages and Microsoft Word, have since adopted Lorem ipsum,[2] as have many LaTeX packages,[3][4][5] web content managers such as Joomla! and WordPress, and CSS libraries such as Semantic UI']"
      ]
     },
     "execution_count": 34,
     "metadata": {},
     "output_type": "execute_result"
    }
   ],
   "source": [
    "lines[:-1]"
   ]
  },
  {
   "cell_type": "code",
   "execution_count": 35,
   "id": "b1190050-84b4-4e7c-966b-e34360c7c277",
   "metadata": {},
   "outputs": [
    {
     "data": {
      "text/plain": [
       "6"
      ]
     },
     "execution_count": 35,
     "metadata": {},
     "output_type": "execute_result"
    }
   ],
   "source": [
    "len(lines[:-1])"
   ]
  },
  {
   "cell_type": "markdown",
   "id": "b3e83ed8-e20a-4413-b50f-a382a5b8e73e",
   "metadata": {},
   "source": [
    "## Words"
   ]
  },
  {
   "cell_type": "code",
   "execution_count": 36,
   "id": "da0229c4-1ef9-4aa5-9786-0907767ae104",
   "metadata": {},
   "outputs": [],
   "source": [
    "words = txt.split(\" \")"
   ]
  },
  {
   "cell_type": "code",
   "execution_count": 37,
   "id": "70a7b83c-b5d5-4b97-855f-c9936d9d3b86",
   "metadata": {},
   "outputs": [
    {
     "data": {
      "text/plain": [
       "['Hello',\n",
       " 'I',\n",
       " 'an',\n",
       " 'Ainadri.\\n\\nLorem',\n",
       " 'ipsum',\n",
       " 'is',\n",
       " 'typically',\n",
       " 'a',\n",
       " 'corrupted',\n",
       " 'version',\n",
       " 'of',\n",
       " 'De',\n",
       " 'finibus',\n",
       " 'bonorum',\n",
       " 'et',\n",
       " 'malorum,',\n",
       " 'a',\n",
       " '1st-century',\n",
       " 'BC',\n",
       " 'text',\n",
       " 'by',\n",
       " 'the',\n",
       " 'Roman',\n",
       " 'statesman',\n",
       " 'and',\n",
       " 'philosopher',\n",
       " 'Cicero,',\n",
       " 'with',\n",
       " 'words',\n",
       " 'altered,',\n",
       " 'added,',\n",
       " 'and',\n",
       " 'removed',\n",
       " 'to',\n",
       " 'make',\n",
       " 'it',\n",
       " 'nonsensical',\n",
       " 'and',\n",
       " 'improper',\n",
       " 'Latin.',\n",
       " 'The',\n",
       " 'first',\n",
       " 'two',\n",
       " 'words',\n",
       " 'are',\n",
       " 'the',\n",
       " 'truncation',\n",
       " 'of',\n",
       " 'dolorem',\n",
       " 'ipsum',\n",
       " '(\"pain',\n",
       " 'itself\").\\n\\nVersions',\n",
       " 'of',\n",
       " 'the',\n",
       " 'Lorem',\n",
       " 'ipsum',\n",
       " 'text',\n",
       " 'have',\n",
       " 'been',\n",
       " 'used',\n",
       " 'in',\n",
       " 'typesetting',\n",
       " 'since',\n",
       " 'the',\n",
       " '1960s,',\n",
       " 'when',\n",
       " 'advertisements',\n",
       " 'for',\n",
       " 'Letraset',\n",
       " 'transfer',\n",
       " 'sheets',\n",
       " 'popularized',\n",
       " 'it.[1]',\n",
       " 'Lorem',\n",
       " 'ipsum',\n",
       " 'was',\n",
       " 'introduced',\n",
       " 'to',\n",
       " 'the',\n",
       " 'digital',\n",
       " 'world',\n",
       " 'in',\n",
       " 'the',\n",
       " 'mid-1980s,',\n",
       " 'when',\n",
       " 'Aldus',\n",
       " 'employed',\n",
       " 'it',\n",
       " 'in',\n",
       " 'graphic',\n",
       " 'and',\n",
       " 'word-processing',\n",
       " 'templates',\n",
       " 'for',\n",
       " 'its',\n",
       " 'desktop',\n",
       " 'publishing',\n",
       " 'program',\n",
       " 'PageMaker.',\n",
       " 'Other',\n",
       " 'popular',\n",
       " 'word',\n",
       " 'processors,',\n",
       " 'including',\n",
       " 'Pages',\n",
       " 'and',\n",
       " 'Microsoft',\n",
       " 'Word,',\n",
       " 'have',\n",
       " 'since',\n",
       " 'adopted',\n",
       " 'Lorem',\n",
       " 'ipsum,[2]',\n",
       " 'as',\n",
       " 'have',\n",
       " 'many',\n",
       " 'LaTeX',\n",
       " 'packages,[3][4][5]',\n",
       " 'web',\n",
       " 'content',\n",
       " 'managers',\n",
       " 'such',\n",
       " 'as',\n",
       " 'Joomla!',\n",
       " 'and',\n",
       " 'WordPress,',\n",
       " 'and',\n",
       " 'CSS',\n",
       " 'libraries',\n",
       " 'such',\n",
       " 'as',\n",
       " 'Semantic',\n",
       " 'UI.']"
      ]
     },
     "execution_count": 37,
     "metadata": {},
     "output_type": "execute_result"
    }
   ],
   "source": [
    "words"
   ]
  },
  {
   "cell_type": "code",
   "execution_count": 38,
   "id": "315d90fc-9da0-413e-81e4-b9a6d4b78468",
   "metadata": {},
   "outputs": [
    {
     "data": {
      "text/plain": [
       "133"
      ]
     },
     "execution_count": 38,
     "metadata": {},
     "output_type": "execute_result"
    }
   ],
   "source": [
    "len(words)"
   ]
  },
  {
   "cell_type": "markdown",
   "id": "c28f3a67-792a-4d43-b25a-e80266f31c59",
   "metadata": {},
   "source": [
    "# Advanced Text Processing"
   ]
  },
  {
   "cell_type": "code",
   "execution_count": 40,
   "id": "6bfac0be-58d6-4f43-8a90-1d13017fd02a",
   "metadata": {},
   "outputs": [
    {
     "name": "stdout",
     "output_type": "stream",
     "text": [
      "Hello I an Ainadri.\n",
      "\n",
      "Lorem ipsum is typically a corrupted version of De finibus bonorum et malorum, a 1st-century BC text by the Roman statesman and philosopher Cicero, with words altered, added, and removed to make it nonsensical and improper Latin. The first two words are the truncation of dolorem ipsum (\"pain itself\").\n",
      "\n",
      "Versions of the Lorem ipsum text have been used in typesetting since the 1960s, when advertisements for Letraset transfer sheets popularized it.[1] Lorem ipsum was introduced to the digital world in the mid-1980s, when Aldus employed it in graphic and word-processing templates for its desktop publishing program PageMaker. Other popular word processors, including Pages and Microsoft Word, have since adopted Lorem ipsum,[2] as have many LaTeX packages,[3][4][5] web content managers such as Joomla! and WordPress, and CSS libraries such as Semantic UI.\n"
     ]
    }
   ],
   "source": [
    "print(txt)"
   ]
  },
  {
   "cell_type": "code",
   "execution_count": 45,
   "id": "e632ff75-03ab-4caf-bab2-009b94026976",
   "metadata": {},
   "outputs": [
    {
     "name": "stdout",
     "output_type": "stream",
     "text": [
      "Hello I an Ainadri.\n",
      "\n",
      "Lorem ipsum is typically a corrupted version of De finibus bonorum et malorum, a 1st-century BC text by the Roman statesman and philosopher Cicero, with words altered, added, and removed to make it nonsensical and improper Latin. The first two words are the truncation of dolorem ipsum (\"pain itself\").\n",
      "\n",
      "Versions of the Lorem ipsum text have been used in typesetting since the 1960s, when advertisements for Letraset transfer sheets popularized it. Lorem ipsum was introduced to the digital world in the mid-1980s, when Aldus employed it in graphic and word-processing templates for its desktop publishing program PageMaker. Other popular word processors, including Pages and Microsoft Word, have since adopted Lorem ipsum,[2] as have many LaTeX packages,[3][4][5] web content managers such as Joomla! and WordPress, and CSS libraries such as Semantic UI.\n"
     ]
    }
   ],
   "source": [
    "# To remove the unnecessary numbers from the text\n",
    "print(txt.replace('[1]',''))"
   ]
  },
  {
   "cell_type": "code",
   "execution_count": 5,
   "id": "e6e6ef9e-420d-49e2-aa11-217d1f993c8f",
   "metadata": {},
   "outputs": [],
   "source": [
    "for i in range(1, 6):\n",
    "    pattern = '['+ str(i)+ ']'\n",
    "    txt = txt.replace(pattern,'')"
   ]
  },
  {
   "cell_type": "code",
   "execution_count": 6,
   "id": "c9fc5c5e-1335-4d51-bfec-6b74f09659da",
   "metadata": {},
   "outputs": [
    {
     "name": "stdout",
     "output_type": "stream",
     "text": [
      "Hello I an Ainadri.\n",
      "\n",
      "Lorem ipsum is typically a corrupted version of De finibus bonorum et malorum, a 1st-century BC text by the Roman statesman and philosopher Cicero, with words altered, added, and removed to make it nonsensical and improper Latin. The first two words are the truncation of dolorem ipsum (\"pain itself\").\n",
      "\n",
      "Versions of the Lorem ipsum text have been used in typesetting since the 1960s, when advertisements for Letraset transfer sheets popularized it. Lorem ipsum was introduced to the digital world in the mid-1980s, when Aldus employed it in graphic and word-processing templates for its desktop publishing program PageMaker. Other popular word processors, including Pages and Microsoft Word, have since adopted Lorem ipsum, as have many LaTeX packages, web content managers such as Joomla! and WordPress, and CSS libraries such as Semantic UI.\n"
     ]
    }
   ],
   "source": [
    "print(txt)"
   ]
  },
  {
   "cell_type": "code",
   "execution_count": 7,
   "id": "61fec348-2089-43e3-9318-0c35cd70c737",
   "metadata": {},
   "outputs": [],
   "source": [
    "for i in \"!@#$%^\":\n",
    "    txt = txt.replace(i, \"\")"
   ]
  },
  {
   "cell_type": "code",
   "execution_count": 8,
   "id": "1b5ca6ff-a480-4f47-a8e5-2f538eb80dd0",
   "metadata": {},
   "outputs": [
    {
     "name": "stdout",
     "output_type": "stream",
     "text": [
      "Hello I an Ainadri.\n",
      "\n",
      "Lorem ipsum is typically a corrupted version of De finibus bonorum et malorum, a 1st-century BC text by the Roman statesman and philosopher Cicero, with words altered, added, and removed to make it nonsensical and improper Latin. The first two words are the truncation of dolorem ipsum (\"pain itself\").\n",
      "\n",
      "Versions of the Lorem ipsum text have been used in typesetting since the 1960s, when advertisements for Letraset transfer sheets popularized it. Lorem ipsum was introduced to the digital world in the mid-1980s, when Aldus employed it in graphic and word-processing templates for its desktop publishing program PageMaker. Other popular word processors, including Pages and Microsoft Word, have since adopted Lorem ipsum, as have many LaTeX packages, web content managers such as Joomla and WordPress, and CSS libraries such as Semantic UI.\n"
     ]
    }
   ],
   "source": [
    "print(txt)"
   ]
  },
  {
   "cell_type": "code",
   "execution_count": null,
   "id": "00e33c46-5557-45ad-8317-c1caafd6be18",
   "metadata": {},
   "outputs": [],
   "source": []
  }
 ],
 "metadata": {
  "kernelspec": {
   "display_name": "Python 3 (ipykernel)",
   "language": "python",
   "name": "python3"
  },
  "language_info": {
   "codemirror_mode": {
    "name": "ipython",
    "version": 3
   },
   "file_extension": ".py",
   "mimetype": "text/x-python",
   "name": "python",
   "nbconvert_exporter": "python",
   "pygments_lexer": "ipython3",
   "version": "3.13.5"
  }
 },
 "nbformat": 4,
 "nbformat_minor": 5
}
