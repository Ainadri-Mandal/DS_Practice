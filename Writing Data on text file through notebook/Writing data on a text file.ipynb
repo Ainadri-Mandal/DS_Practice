{
 "cells": [
  {
   "cell_type": "code",
   "execution_count": 2,
   "id": "2baf4356-40fd-44d5-99cb-6329b4e5d677",
   "metadata": {},
   "outputs": [],
   "source": [
    "fd = open(\"Data.txt\", 'w')\n",
    "fd.write(\"Hello everyone. Ainadri this side.\")\n",
    "fd.close()"
   ]
  },
  {
   "cell_type": "code",
   "execution_count": null,
   "id": "f91fcf57-94de-48e6-9473-b9b93056d085",
   "metadata": {},
   "outputs": [],
   "source": []
  }
 ],
 "metadata": {
  "kernelspec": {
   "display_name": "Python 3 (ipykernel)",
   "language": "python",
   "name": "python3"
  },
  "language_info": {
   "codemirror_mode": {
    "name": "ipython",
    "version": 3
   },
   "file_extension": ".py",
   "mimetype": "text/x-python",
   "name": "python",
   "nbconvert_exporter": "python",
   "pygments_lexer": "ipython3",
   "version": "3.13.5"
  }
 },
 "nbformat": 4,
 "nbformat_minor": 5
}
