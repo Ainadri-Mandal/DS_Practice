{
  "nbformat": 4,
  "nbformat_minor": 0,
  "metadata": {
    "colab": {
      "provenance": [],
      "authorship_tag": "ABX9TyNqYhDTpHt/Di/rkscpy6ds",
      "include_colab_link": true
    },
    "kernelspec": {
      "name": "python3",
      "display_name": "Python 3"
    },
    "language_info": {
      "name": "python"
    }
  },
  "cells": [
    {
      "cell_type": "markdown",
      "metadata": {
        "id": "view-in-github",
        "colab_type": "text"
      },
      "source": [
        "<a href=\"https://colab.research.google.com/github/Ainadri-Mandal/DS_Practice/blob/main/Array_Sorting.ipynb\" target=\"_parent\"><img src=\"https://colab.research.google.com/assets/colab-badge.svg\" alt=\"Open In Colab\"/></a>"
      ]
    },
    {
      "cell_type": "markdown",
      "source": [
        "# Array Sorting"
      ],
      "metadata": {
        "id": "fse_BvRwpA64"
      }
    },
    {
      "cell_type": "code",
      "source": [
        "import numpy as np"
      ],
      "metadata": {
        "id": "cnAeyrrrpEqm"
      },
      "execution_count": 61,
      "outputs": []
    },
    {
      "cell_type": "code",
      "source": [
        "arr = np.array([[6,7,5,3,9],[2,4,6,8,1],[1,3,5,7,9]])\n",
        "arr"
      ],
      "metadata": {
        "colab": {
          "base_uri": "https://localhost:8080/"
        },
        "id": "pTrecZYUpYEG",
        "outputId": "c03567b0-a275-4028-d31f-4ae837b26560"
      },
      "execution_count": 62,
      "outputs": [
        {
          "output_type": "execute_result",
          "data": {
            "text/plain": [
              "array([[6, 7, 5, 3, 9],\n",
              "       [2, 4, 6, 8, 1],\n",
              "       [1, 3, 5, 7, 9]])"
            ]
          },
          "metadata": {},
          "execution_count": 62
        }
      ]
    },
    {
      "cell_type": "code",
      "source": [
        "np.sort(arr, axis = 1, kind = 'mergesort')  #axis = 1 means it is done row wise"
      ],
      "metadata": {
        "colab": {
          "base_uri": "https://localhost:8080/"
        },
        "id": "frpTMWWIqP6N",
        "outputId": "c2a551f7-6c42-476b-a76d-69d9cc9f1105"
      },
      "execution_count": 63,
      "outputs": [
        {
          "output_type": "execute_result",
          "data": {
            "text/plain": [
              "array([[3, 5, 6, 7, 9],\n",
              "       [1, 2, 4, 6, 8],\n",
              "       [1, 3, 5, 7, 9]])"
            ]
          },
          "metadata": {},
          "execution_count": 63
        }
      ]
    },
    {
      "cell_type": "code",
      "source": [
        "np.sort(arr, axis = 0, kind = 'mergesort')   #axis = 0 means it is done column wise"
      ],
      "metadata": {
        "colab": {
          "base_uri": "https://localhost:8080/"
        },
        "id": "3wH6kFNqqozc",
        "outputId": "4ab70738-d075-40ff-e3fb-65baf61b140f"
      },
      "execution_count": 64,
      "outputs": [
        {
          "output_type": "execute_result",
          "data": {
            "text/plain": [
              "array([[1, 3, 5, 3, 1],\n",
              "       [2, 4, 5, 7, 9],\n",
              "       [6, 7, 6, 8, 9]])"
            ]
          },
          "metadata": {},
          "execution_count": 64
        }
      ]
    },
    {
      "cell_type": "code",
      "source": [
        "np.sort(arr, kind = 'mergesort')  # by default sorting is done row wise (axis = 0)"
      ],
      "metadata": {
        "colab": {
          "base_uri": "https://localhost:8080/"
        },
        "id": "EFi-JmKsq0d7",
        "outputId": "71e274f0-57ac-4714-9906-ff87331a5fb4"
      },
      "execution_count": 65,
      "outputs": [
        {
          "output_type": "execute_result",
          "data": {
            "text/plain": [
              "array([[3, 5, 6, 7, 9],\n",
              "       [1, 2, 4, 6, 8],\n",
              "       [1, 3, 5, 7, 9]])"
            ]
          },
          "metadata": {},
          "execution_count": 65
        }
      ]
    },
    {
      "cell_type": "code",
      "source": [
        "# sort along the first axis\n",
        "a = np.array([[12, 15], [10, 1]])\n",
        "arr1 = np.sort(a, axis = 0)\n",
        "print (\"Along first axis : \\n\", arr1)\n",
        "\n",
        "\n",
        "# sort along the last axis\n",
        "a = np.array([[10, 15], [12, 1]])\n",
        "arr2 = np.sort(a, axis = -1)\n",
        "print (\"\\nAlong last axis : \\n\", arr2)\n",
        "\n",
        "\n",
        "a = np.array([[12, 15], [10, 1]])\n",
        "arr1 = np.sort(a, axis = None)\n",
        "print (\"\\nAlong none axis : \\n\", arr1)"
      ],
      "metadata": {
        "colab": {
          "base_uri": "https://localhost:8080/"
        },
        "id": "UrVwJO3rrc9C",
        "outputId": "b66c67c1-e0eb-4304-81c4-378299493ed0"
      },
      "execution_count": 66,
      "outputs": [
        {
          "output_type": "stream",
          "name": "stdout",
          "text": [
            "Along first axis : \n",
            " [[10  1]\n",
            " [12 15]]\n",
            "\n",
            "Along last axis : \n",
            " [[10 15]\n",
            " [ 1 12]]\n",
            "\n",
            "Along none axis : \n",
            " [ 1 10 12 15]\n"
          ]
        }
      ]
    },
    {
      "cell_type": "code",
      "source": [
        "arr = np.array([[7,3,8,6,4], [7,2,9,8,6],[5,4,2,3,1]])\n",
        "print(\"Using Merge Sort: \",np.sort(arr , axis = 0, kind = 'mergesort'))\n",
        "print()\n",
        "print(\"Using Quick Sort: \",np.sort(arr , axis = 1, kind = 'quicksort'))\n",
        "print()\n",
        "print(\"Using Heap Sort: \",np.sort(arr , kind = 'heapsort'))"
      ],
      "metadata": {
        "colab": {
          "base_uri": "https://localhost:8080/"
        },
        "id": "bdc8IybIFrhZ",
        "outputId": "9e1ccd88-9a64-4ea4-e8f2-522144219aaa"
      },
      "execution_count": 67,
      "outputs": [
        {
          "output_type": "stream",
          "name": "stdout",
          "text": [
            "Using Merge Sort:  [[5 2 2 3 1]\n",
            " [7 3 8 6 4]\n",
            " [7 4 9 8 6]]\n",
            "\n",
            "Using Quick Sort:  [[3 4 6 7 8]\n",
            " [2 6 7 8 9]\n",
            " [1 2 3 4 5]]\n",
            "\n",
            "Using Heap Sort:  [[3 4 6 7 8]\n",
            " [2 6 7 8 9]\n",
            " [1 2 3 4 5]]\n"
          ]
        }
      ]
    },
    {
      "cell_type": "markdown",
      "source": [
        "# Array Merging"
      ],
      "metadata": {
        "id": "WRCzwJSRGzkj"
      }
    },
    {
      "cell_type": "code",
      "source": [
        "arr1 = np.array([[1,2,3,4], [5,6,7,8]])\n",
        "arr2 = np.array([[8,7,6,5], [4,3,2,1]])"
      ],
      "metadata": {
        "id": "Km_vw9wKF4oh"
      },
      "execution_count": 68,
      "outputs": []
    },
    {
      "cell_type": "code",
      "source": [
        "arr1"
      ],
      "metadata": {
        "colab": {
          "base_uri": "https://localhost:8080/"
        },
        "id": "pT6yNgjLHMx7",
        "outputId": "77344a4e-b6b5-4571-d130-03607f94c300"
      },
      "execution_count": 69,
      "outputs": [
        {
          "output_type": "execute_result",
          "data": {
            "text/plain": [
              "array([[1, 2, 3, 4],\n",
              "       [5, 6, 7, 8]])"
            ]
          },
          "metadata": {},
          "execution_count": 69
        }
      ]
    },
    {
      "cell_type": "code",
      "source": [
        "arr2"
      ],
      "metadata": {
        "colab": {
          "base_uri": "https://localhost:8080/"
        },
        "id": "cWkPvW5HHOoM",
        "outputId": "cf4ac448-f85a-48af-ba05-37dde565bb01"
      },
      "execution_count": 70,
      "outputs": [
        {
          "output_type": "execute_result",
          "data": {
            "text/plain": [
              "array([[8, 7, 6, 5],\n",
              "       [4, 3, 2, 1]])"
            ]
          },
          "metadata": {},
          "execution_count": 70
        }
      ]
    },
    {
      "cell_type": "markdown",
      "source": [
        "## Concatenating the arrays"
      ],
      "metadata": {
        "id": "OQZWME4DHSWB"
      }
    },
    {
      "cell_type": "code",
      "source": [
        "print(\"Stacking arr1 on arr2 vertically: \",np.vstack((arr1,arr2))) #used to stack arrays vertically, stacking rows on top of each other.\n",
        "print(\"Stacking arr2 on arr1 vertically: \",np.vstack((arr2,arr1)))\n",
        "print(\"Stacking arr1 on arr1 vertically: \",np.vstack((arr1,arr1)))"
      ],
      "metadata": {
        "colab": {
          "base_uri": "https://localhost:8080/"
        },
        "id": "yAjA0RfXHPYt",
        "outputId": "9f4e77f8-0416-459b-ae71-bec9be601b28"
      },
      "execution_count": 71,
      "outputs": [
        {
          "output_type": "stream",
          "name": "stdout",
          "text": [
            "Stacking arr1 on arr2 vertically:  [[1 2 3 4]\n",
            " [5 6 7 8]\n",
            " [8 7 6 5]\n",
            " [4 3 2 1]]\n",
            "Stacking arr2 on arr1 vertically:  [[8 7 6 5]\n",
            " [4 3 2 1]\n",
            " [1 2 3 4]\n",
            " [5 6 7 8]]\n",
            "Stacking arr1 on arr1 vertically:  [[1 2 3 4]\n",
            " [5 6 7 8]\n",
            " [1 2 3 4]\n",
            " [5 6 7 8]]\n"
          ]
        }
      ]
    },
    {
      "cell_type": "code",
      "source": [
        "np.vstack((arr2,arr1))"
      ],
      "metadata": {
        "colab": {
          "base_uri": "https://localhost:8080/"
        },
        "id": "kvpUbRFlNAzk",
        "outputId": "9960f080-b5ea-43ce-c67d-0249be75a53d"
      },
      "execution_count": 72,
      "outputs": [
        {
          "output_type": "execute_result",
          "data": {
            "text/plain": [
              "array([[8, 7, 6, 5],\n",
              "       [4, 3, 2, 1],\n",
              "       [1, 2, 3, 4],\n",
              "       [5, 6, 7, 8]])"
            ]
          },
          "metadata": {},
          "execution_count": 72
        }
      ]
    },
    {
      "cell_type": "code",
      "source": [
        "print(\"Stacking arr1 on arr2 vertically: \",np.hstack((arr1,arr2)))"
      ],
      "metadata": {
        "colab": {
          "base_uri": "https://localhost:8080/"
        },
        "id": "bDYpSVPIHfLc",
        "outputId": "db376f60-7e88-4cb3-e224-f482650abd51"
      },
      "execution_count": 73,
      "outputs": [
        {
          "output_type": "stream",
          "name": "stdout",
          "text": [
            "Stacking arr1 on arr2 vertically:  [[1 2 3 4 8 7 6 5]\n",
            " [5 6 7 8 4 3 2 1]]\n"
          ]
        }
      ]
    },
    {
      "cell_type": "code",
      "source": [
        "np.hstack((arr1,arr2))"
      ],
      "metadata": {
        "colab": {
          "base_uri": "https://localhost:8080/"
        },
        "id": "jSMIx1IJH1xn",
        "outputId": "1375bac5-501d-49e7-e4e5-6f2cacb58c09"
      },
      "execution_count": 74,
      "outputs": [
        {
          "output_type": "execute_result",
          "data": {
            "text/plain": [
              "array([[1, 2, 3, 4, 8, 7, 6, 5],\n",
              "       [5, 6, 7, 8, 4, 3, 2, 1]])"
            ]
          },
          "metadata": {},
          "execution_count": 74
        }
      ]
    },
    {
      "cell_type": "markdown",
      "source": [
        "## Using Concatenate function"
      ],
      "metadata": {
        "id": "KI9X9Um8NU0m"
      }
    },
    {
      "cell_type": "code",
      "source": [
        "arr = np.concatenate((arr1,arr2), axis = 0)\n"
      ],
      "metadata": {
        "id": "fpl-EAe8H4GE"
      },
      "execution_count": 75,
      "outputs": []
    },
    {
      "cell_type": "code",
      "source": [
        "np.concatenate((arr1,arr2), axis = 1)"
      ],
      "metadata": {
        "colab": {
          "base_uri": "https://localhost:8080/"
        },
        "id": "oZhzlTL3NjxN",
        "outputId": "ce2454b5-9ee8-481b-bac3-36711cbf56d9"
      },
      "execution_count": 76,
      "outputs": [
        {
          "output_type": "execute_result",
          "data": {
            "text/plain": [
              "array([[1, 2, 3, 4, 8, 7, 6, 5],\n",
              "       [5, 6, 7, 8, 4, 3, 2, 1]])"
            ]
          },
          "metadata": {},
          "execution_count": 76
        }
      ]
    },
    {
      "cell_type": "code",
      "source": [
        "arr"
      ],
      "metadata": {
        "colab": {
          "base_uri": "https://localhost:8080/"
        },
        "id": "2XM5YiUfNwVV",
        "outputId": "93a4f3ce-a84f-4623-e1ab-e19b4d98bb55"
      },
      "execution_count": 77,
      "outputs": [
        {
          "output_type": "execute_result",
          "data": {
            "text/plain": [
              "array([[1, 2, 3, 4],\n",
              "       [5, 6, 7, 8],\n",
              "       [8, 7, 6, 5],\n",
              "       [4, 3, 2, 1]])"
            ]
          },
          "metadata": {},
          "execution_count": 77
        }
      ]
    },
    {
      "cell_type": "code",
      "source": [
        "np.hsplit(arr, 2)"
      ],
      "metadata": {
        "colab": {
          "base_uri": "https://localhost:8080/"
        },
        "id": "y2lG__8LN6GL",
        "outputId": "ceadf96a-d983-4bf4-c7df-52e37653c27b"
      },
      "execution_count": 78,
      "outputs": [
        {
          "output_type": "execute_result",
          "data": {
            "text/plain": [
              "[array([[1, 2],\n",
              "        [5, 6],\n",
              "        [8, 7],\n",
              "        [4, 3]]),\n",
              " array([[3, 4],\n",
              "        [7, 8],\n",
              "        [6, 5],\n",
              "        [2, 1]])]"
            ]
          },
          "metadata": {},
          "execution_count": 78
        }
      ]
    },
    {
      "cell_type": "code",
      "source": [
        "np.vsplit(arr, 2)"
      ],
      "metadata": {
        "colab": {
          "base_uri": "https://localhost:8080/"
        },
        "id": "fkQqsG3EN_Jz",
        "outputId": "2fad1397-c68c-4ae0-b695-571099f81897"
      },
      "execution_count": 79,
      "outputs": [
        {
          "output_type": "execute_result",
          "data": {
            "text/plain": [
              "[array([[1, 2, 3, 4],\n",
              "        [5, 6, 7, 8]]),\n",
              " array([[8, 7, 6, 5],\n",
              "        [4, 3, 2, 1]])]"
            ]
          },
          "metadata": {},
          "execution_count": 79
        }
      ]
    },
    {
      "cell_type": "code",
      "source": [
        "arr = np.arange(4.0).reshape(2,2)\n",
        "result = np.hsplit(arr,2)\n",
        "\n",
        "print(result)"
      ],
      "metadata": {
        "colab": {
          "base_uri": "https://localhost:8080/"
        },
        "id": "J4dk8F83OeK-",
        "outputId": "bf9ca673-549b-4ac3-e8ce-1faae18b77f4"
      },
      "execution_count": 80,
      "outputs": [
        {
          "output_type": "stream",
          "name": "stdout",
          "text": [
            "[array([[0.],\n",
            "       [2.]]), array([[1.],\n",
            "       [3.]])]\n"
          ]
        }
      ]
    },
    {
      "cell_type": "markdown",
      "source": [
        "#Array Slicing"
      ],
      "metadata": {
        "id": "MRicXXJDntmy"
      }
    },
    {
      "cell_type": "code",
      "source": [
        "arr = np.array([1,2,3,4,5,6,7,8])"
      ],
      "metadata": {
        "id": "YZhysiQRolC3"
      },
      "execution_count": 81,
      "outputs": []
    },
    {
      "cell_type": "code",
      "source": [
        "arr"
      ],
      "metadata": {
        "colab": {
          "base_uri": "https://localhost:8080/"
        },
        "id": "usL_AVlook5W",
        "outputId": "91adbdcc-74ff-4a31-ac60-da748d80e4ca"
      },
      "execution_count": 82,
      "outputs": [
        {
          "output_type": "execute_result",
          "data": {
            "text/plain": [
              "array([1, 2, 3, 4, 5, 6, 7, 8])"
            ]
          },
          "metadata": {},
          "execution_count": 82
        }
      ]
    },
    {
      "cell_type": "markdown",
      "source": [
        "### Accesing elements in array"
      ],
      "metadata": {
        "id": "7IAzE5awo2lZ"
      }
    },
    {
      "cell_type": "code",
      "source": [
        "print(int(arr[0]))\n",
        "print(int(arr[1]))\n",
        "print(int(arr[-1]))"
      ],
      "metadata": {
        "colab": {
          "base_uri": "https://localhost:8080/"
        },
        "id": "QyV4_1dBoktN",
        "outputId": "2d2f7249-01ca-4d87-d207-e1e3560996c1"
      },
      "execution_count": 83,
      "outputs": [
        {
          "output_type": "stream",
          "name": "stdout",
          "text": [
            "1\n",
            "2\n",
            "8\n"
          ]
        }
      ]
    },
    {
      "cell_type": "code",
      "source": [
        "arr[ : ]"
      ],
      "metadata": {
        "colab": {
          "base_uri": "https://localhost:8080/"
        },
        "id": "xLENZRBXokg7",
        "outputId": "55e57b0e-90d1-4e96-f065-26e2d5906d16"
      },
      "execution_count": 84,
      "outputs": [
        {
          "output_type": "execute_result",
          "data": {
            "text/plain": [
              "array([1, 2, 3, 4, 5, 6, 7, 8])"
            ]
          },
          "metadata": {},
          "execution_count": 84
        }
      ]
    },
    {
      "cell_type": "code",
      "source": [
        "arr[3:]"
      ],
      "metadata": {
        "colab": {
          "base_uri": "https://localhost:8080/"
        },
        "id": "YwsMUQHTpVKZ",
        "outputId": "9fc0b76b-15f9-4592-c1ee-c121ec04b94f"
      },
      "execution_count": 85,
      "outputs": [
        {
          "output_type": "execute_result",
          "data": {
            "text/plain": [
              "array([4, 5, 6, 7, 8])"
            ]
          },
          "metadata": {},
          "execution_count": 85
        }
      ]
    },
    {
      "cell_type": "code",
      "source": [
        "arr[:-3]"
      ],
      "metadata": {
        "colab": {
          "base_uri": "https://localhost:8080/"
        },
        "id": "py3bDBtHpVFX",
        "outputId": "a0e20d10-da6c-48be-a514-4d9dd84e7244"
      },
      "execution_count": 86,
      "outputs": [
        {
          "output_type": "execute_result",
          "data": {
            "text/plain": [
              "array([1, 2, 3, 4, 5])"
            ]
          },
          "metadata": {},
          "execution_count": 86
        }
      ]
    },
    {
      "cell_type": "code",
      "source": [
        "arr[3:-3]"
      ],
      "metadata": {
        "colab": {
          "base_uri": "https://localhost:8080/"
        },
        "id": "pqduMIRvpVBT",
        "outputId": "c8d6c93c-a1a8-4e2e-9e06-ff4f57ec5f50"
      },
      "execution_count": 87,
      "outputs": [
        {
          "output_type": "execute_result",
          "data": {
            "text/plain": [
              "array([4, 5])"
            ]
          },
          "metadata": {},
          "execution_count": 87
        }
      ]
    },
    {
      "cell_type": "markdown",
      "source": [
        "## Accessing elements in 2D array"
      ],
      "metadata": {
        "id": "z4mx2zgNptkD"
      }
    },
    {
      "cell_type": "code",
      "source": [
        "arr1 = np.array([[1,2,3,4],[5,6,7,8],[8,7,6,5],[4,3,2,1]])\n"
      ],
      "metadata": {
        "id": "R90FOG63aPEq"
      },
      "execution_count": 88,
      "outputs": []
    },
    {
      "cell_type": "code",
      "source": [
        "arr1"
      ],
      "metadata": {
        "colab": {
          "base_uri": "https://localhost:8080/"
        },
        "id": "5owkuPYbof6Q",
        "outputId": "5236bccf-7383-449c-c298-7828b40bbcf8"
      },
      "execution_count": 89,
      "outputs": [
        {
          "output_type": "execute_result",
          "data": {
            "text/plain": [
              "array([[1, 2, 3, 4],\n",
              "       [5, 6, 7, 8],\n",
              "       [8, 7, 6, 5],\n",
              "       [4, 3, 2, 1]])"
            ]
          },
          "metadata": {},
          "execution_count": 89
        }
      ]
    },
    {
      "cell_type": "code",
      "source": [
        "arr1[ : , :]"
      ],
      "metadata": {
        "colab": {
          "base_uri": "https://localhost:8080/"
        },
        "id": "0D9-YufuohMd",
        "outputId": "f089edd0-199f-4f01-cf1d-15390c173705"
      },
      "execution_count": 90,
      "outputs": [
        {
          "output_type": "execute_result",
          "data": {
            "text/plain": [
              "array([[1, 2, 3, 4],\n",
              "       [5, 6, 7, 8],\n",
              "       [8, 7, 6, 5],\n",
              "       [4, 3, 2, 1]])"
            ]
          },
          "metadata": {},
          "execution_count": 90
        }
      ]
    },
    {
      "cell_type": "code",
      "source": [
        "print('Only the 1st row: ')\n",
        "arr1[ : 1, : ]"
      ],
      "metadata": {
        "colab": {
          "base_uri": "https://localhost:8080/"
        },
        "id": "EBmv7_Aqp2Eu",
        "outputId": "ee696887-dccf-4374-c932-e3b36cce9b29"
      },
      "execution_count": 91,
      "outputs": [
        {
          "output_type": "stream",
          "name": "stdout",
          "text": [
            "Only the 1st row: \n"
          ]
        },
        {
          "output_type": "execute_result",
          "data": {
            "text/plain": [
              "array([[1, 2, 3, 4]])"
            ]
          },
          "metadata": {},
          "execution_count": 91
        }
      ]
    },
    {
      "cell_type": "code",
      "source": [
        "print('Only the 1st 2 rows: ')\n",
        "arr1[ : 2, : ]"
      ],
      "metadata": {
        "colab": {
          "base_uri": "https://localhost:8080/"
        },
        "id": "Mpa1sV5JqIrp",
        "outputId": "ae869d81-33e2-40c9-d506-aa6b64809474"
      },
      "execution_count": 92,
      "outputs": [
        {
          "output_type": "stream",
          "name": "stdout",
          "text": [
            "Only the 1st 2 rows: \n"
          ]
        },
        {
          "output_type": "execute_result",
          "data": {
            "text/plain": [
              "array([[1, 2, 3, 4],\n",
              "       [5, 6, 7, 8]])"
            ]
          },
          "metadata": {},
          "execution_count": 92
        }
      ]
    },
    {
      "cell_type": "code",
      "source": [
        "print('All rows except the 1st row: ')\n",
        "arr1[1 : , : ]"
      ],
      "metadata": {
        "colab": {
          "base_uri": "https://localhost:8080/"
        },
        "id": "PPscdAFjqsIk",
        "outputId": "363b37c0-5784-48bc-b24c-134b91e63fe1"
      },
      "execution_count": 93,
      "outputs": [
        {
          "output_type": "stream",
          "name": "stdout",
          "text": [
            "All rows except the 1st row: \n"
          ]
        },
        {
          "output_type": "execute_result",
          "data": {
            "text/plain": [
              "array([[5, 6, 7, 8],\n",
              "       [8, 7, 6, 5],\n",
              "       [4, 3, 2, 1]])"
            ]
          },
          "metadata": {},
          "execution_count": 93
        }
      ]
    },
    {
      "cell_type": "code",
      "source": [
        "print('Only the 1st 2 columns: ')\n",
        "arr1[ : , : 2]"
      ],
      "metadata": {
        "colab": {
          "base_uri": "https://localhost:8080/"
        },
        "id": "k42NDmNXq6MI",
        "outputId": "403956a0-e36d-4178-cf8f-ccea524e2161"
      },
      "execution_count": 94,
      "outputs": [
        {
          "output_type": "stream",
          "name": "stdout",
          "text": [
            "Only the 1st 2 columns: \n"
          ]
        },
        {
          "output_type": "execute_result",
          "data": {
            "text/plain": [
              "array([[1, 2],\n",
              "       [5, 6],\n",
              "       [8, 7],\n",
              "       [4, 3]])"
            ]
          },
          "metadata": {},
          "execution_count": 94
        }
      ]
    },
    {
      "cell_type": "code",
      "source": [
        "arr1[1: , 1:2]"
      ],
      "metadata": {
        "colab": {
          "base_uri": "https://localhost:8080/"
        },
        "id": "MbJAxaI7rZYf",
        "outputId": "c87edf58-5dd2-4df7-8303-3eabdeae525e"
      },
      "execution_count": 95,
      "outputs": [
        {
          "output_type": "execute_result",
          "data": {
            "text/plain": [
              "array([[6],\n",
              "       [7],\n",
              "       [3]])"
            ]
          },
          "metadata": {},
          "execution_count": 95
        }
      ]
    },
    {
      "cell_type": "code",
      "source": [
        "arr1[1: , 1]"
      ],
      "metadata": {
        "colab": {
          "base_uri": "https://localhost:8080/"
        },
        "id": "p6nGjpIxre-P",
        "outputId": "9fa30e0d-3f4f-4ec2-8cf3-5c8b96411963"
      },
      "execution_count": 96,
      "outputs": [
        {
          "output_type": "execute_result",
          "data": {
            "text/plain": [
              "array([6, 7, 3])"
            ]
          },
          "metadata": {},
          "execution_count": 96
        }
      ]
    },
    {
      "cell_type": "code",
      "source": [
        "print(int(arr1[1,1]))\n",
        "print(int(arr1[2,3]))"
      ],
      "metadata": {
        "colab": {
          "base_uri": "https://localhost:8080/"
        },
        "id": "TIJmdBlK1VMZ",
        "outputId": "7ef2e2bd-df0f-400c-b1a3-22cd260f2c16"
      },
      "execution_count": 97,
      "outputs": [
        {
          "output_type": "stream",
          "name": "stdout",
          "text": [
            "6\n",
            "5\n"
          ]
        }
      ]
    },
    {
      "cell_type": "code",
      "source": [
        "arr1[1: , 1:]"
      ],
      "metadata": {
        "colab": {
          "base_uri": "https://localhost:8080/"
        },
        "id": "Ju_QCzna1jxN",
        "outputId": "04c2249d-349e-44ec-ec1b-d099499e96cb"
      },
      "execution_count": 98,
      "outputs": [
        {
          "output_type": "execute_result",
          "data": {
            "text/plain": [
              "array([[6, 7, 8],\n",
              "       [7, 6, 5],\n",
              "       [3, 2, 1]])"
            ]
          },
          "metadata": {},
          "execution_count": 98
        }
      ]
    },
    {
      "cell_type": "markdown",
      "source": [
        "# Automating using Numpy"
      ],
      "metadata": {
        "id": "QMRm337m7102"
      }
    },
    {
      "cell_type": "code",
      "source": [
        "lst =[1,2,3,4,5,6,7,8,9,10]"
      ],
      "metadata": {
        "id": "PDGsmPv17itK"
      },
      "execution_count": 99,
      "outputs": []
    },
    {
      "cell_type": "code",
      "source": [
        "# how many elements in the list are more than 5\n",
        "count = 0\n",
        "\n",
        "for i in lst:\n",
        "  if (i>5):\n",
        "    print(i)\n",
        "    count += 1\n",
        "print(\"No. of elements are: \",count)"
      ],
      "metadata": {
        "colab": {
          "base_uri": "https://localhost:8080/"
        },
        "id": "8Xz7-f5F70Op",
        "outputId": "8da0a8c3-3c0a-4f3e-ed3e-3144f498e3cf"
      },
      "execution_count": 110,
      "outputs": [
        {
          "output_type": "stream",
          "name": "stdout",
          "text": [
            "6\n",
            "7\n",
            "8\n",
            "9\n",
            "10\n",
            "No. of elements are:  5\n"
          ]
        }
      ]
    },
    {
      "cell_type": "code",
      "source": [
        "# same using Numpy arrays\n",
        "\n",
        "lst = np.array([1,2,3,4,5,6,7,8,9,10])"
      ],
      "metadata": {
        "id": "tH64ECjs8F2c"
      },
      "execution_count": 111,
      "outputs": []
    },
    {
      "cell_type": "code",
      "source": [
        "lst"
      ],
      "metadata": {
        "colab": {
          "base_uri": "https://localhost:8080/"
        },
        "id": "LmYLqwpi80XE",
        "outputId": "9931b525-9c53-444b-c63e-6272d55c0af9"
      },
      "execution_count": 112,
      "outputs": [
        {
          "output_type": "execute_result",
          "data": {
            "text/plain": [
              "array([ 1,  2,  3,  4,  5,  6,  7,  8,  9, 10])"
            ]
          },
          "metadata": {},
          "execution_count": 112
        }
      ]
    },
    {
      "cell_type": "code",
      "source": [
        "lst[lst > 5]"
      ],
      "metadata": {
        "colab": {
          "base_uri": "https://localhost:8080/"
        },
        "id": "iz7ipumH81Ix",
        "outputId": "4c040c50-6029-45eb-b75a-627aacf6aa4a"
      },
      "execution_count": 115,
      "outputs": [
        {
          "output_type": "execute_result",
          "data": {
            "text/plain": [
              "array([ 6,  7,  8,  9, 10])"
            ]
          },
          "metadata": {},
          "execution_count": 115
        }
      ]
    },
    {
      "cell_type": "code",
      "source": [
        "print('No. of elements greater than 5 are: ',len(lst[lst > 5]))\n",
        "print(\"The elements greater than 5 are: \",lst[lst > 5])"
      ],
      "metadata": {
        "colab": {
          "base_uri": "https://localhost:8080/"
        },
        "id": "_KwC8X8087ON",
        "outputId": "e76dae25-3e0e-40d0-8cd8-0e5137d49a0d"
      },
      "execution_count": 118,
      "outputs": [
        {
          "output_type": "stream",
          "name": "stdout",
          "text": [
            "No. of elements greater than 5 are:  5\n",
            "The elements greater than 5 are:  [ 6  7  8  9 10]\n"
          ]
        }
      ]
    },
    {
      "cell_type": "code",
      "source": [
        "# elements divisible by 3\n",
        "lst[lst % 3 == 0]"
      ],
      "metadata": {
        "colab": {
          "base_uri": "https://localhost:8080/"
        },
        "id": "YP0cyNxnB_Wf",
        "outputId": "2dc47988-0994-4269-9fba-52115350f516"
      },
      "execution_count": 120,
      "outputs": [
        {
          "output_type": "execute_result",
          "data": {
            "text/plain": [
              "array([3, 6, 9])"
            ]
          },
          "metadata": {},
          "execution_count": 120
        }
      ]
    },
    {
      "cell_type": "code",
      "source": [],
      "metadata": {
        "id": "fo6D-KZmCi_L"
      },
      "execution_count": null,
      "outputs": []
    }
  ]
}