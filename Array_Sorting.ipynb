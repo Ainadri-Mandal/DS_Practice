{
  "nbformat": 4,
  "nbformat_minor": 0,
  "metadata": {
    "colab": {
      "provenance": [],
      "authorship_tag": "ABX9TyO+74AAGOjKig2euvcdZSip",
      "include_colab_link": true
    },
    "kernelspec": {
      "name": "python3",
      "display_name": "Python 3"
    },
    "language_info": {
      "name": "python"
    }
  },
  "cells": [
    {
      "cell_type": "markdown",
      "metadata": {
        "id": "view-in-github",
        "colab_type": "text"
      },
      "source": [
        "<a href=\"https://colab.research.google.com/github/Ainadri-Mandal/DS_Practice/blob/main/Array_Sorting.ipynb\" target=\"_parent\"><img src=\"https://colab.research.google.com/assets/colab-badge.svg\" alt=\"Open In Colab\"/></a>"
      ]
    },
    {
      "cell_type": "markdown",
      "source": [
        "# Array Sorting"
      ],
      "metadata": {
        "id": "fse_BvRwpA64"
      }
    },
    {
      "cell_type": "code",
      "source": [
        "import numpy as np"
      ],
      "metadata": {
        "id": "cnAeyrrrpEqm"
      },
      "execution_count": 1,
      "outputs": []
    },
    {
      "cell_type": "code",
      "source": [
        "arr = np.array([[6,7,5,3,9],[2,4,6,8,1],[1,3,5,7,9]])\n",
        "arr"
      ],
      "metadata": {
        "colab": {
          "base_uri": "https://localhost:8080/"
        },
        "id": "pTrecZYUpYEG",
        "outputId": "08f14b7d-5b46-4543-e224-233096dcc358"
      },
      "execution_count": 2,
      "outputs": [
        {
          "output_type": "execute_result",
          "data": {
            "text/plain": [
              "array([[6, 7, 5, 3, 9],\n",
              "       [2, 4, 6, 8, 1],\n",
              "       [1, 3, 5, 7, 9]])"
            ]
          },
          "metadata": {},
          "execution_count": 2
        }
      ]
    },
    {
      "cell_type": "code",
      "source": [
        "np.sort(arr, axis = 1, kind = 'mergesort')  #axis = 1 means it is done row wise"
      ],
      "metadata": {
        "colab": {
          "base_uri": "https://localhost:8080/"
        },
        "id": "frpTMWWIqP6N",
        "outputId": "35ed5408-b490-4c6e-dcf2-ceb68df7fd0e"
      },
      "execution_count": 3,
      "outputs": [
        {
          "output_type": "execute_result",
          "data": {
            "text/plain": [
              "array([[3, 5, 6, 7, 9],\n",
              "       [1, 2, 4, 6, 8],\n",
              "       [1, 3, 5, 7, 9]])"
            ]
          },
          "metadata": {},
          "execution_count": 3
        }
      ]
    },
    {
      "cell_type": "code",
      "source": [
        "np.sort(arr, axis = 0, kind = 'mergesort')   #axis = 0 means it is done column wise"
      ],
      "metadata": {
        "colab": {
          "base_uri": "https://localhost:8080/"
        },
        "id": "3wH6kFNqqozc",
        "outputId": "0f743560-7bb3-4df0-8be8-3269d6bd84ba"
      },
      "execution_count": 4,
      "outputs": [
        {
          "output_type": "execute_result",
          "data": {
            "text/plain": [
              "array([[1, 3, 5, 3, 1],\n",
              "       [2, 4, 5, 7, 9],\n",
              "       [6, 7, 6, 8, 9]])"
            ]
          },
          "metadata": {},
          "execution_count": 4
        }
      ]
    },
    {
      "cell_type": "code",
      "source": [
        "np.sort(arr, kind = 'mergesort')  # by default sorting is done row wise (axis = 0)"
      ],
      "metadata": {
        "colab": {
          "base_uri": "https://localhost:8080/"
        },
        "id": "EFi-JmKsq0d7",
        "outputId": "120481c8-36a0-4bc0-eefa-ed84264f2278"
      },
      "execution_count": 5,
      "outputs": [
        {
          "output_type": "execute_result",
          "data": {
            "text/plain": [
              "array([[3, 5, 6, 7, 9],\n",
              "       [1, 2, 4, 6, 8],\n",
              "       [1, 3, 5, 7, 9]])"
            ]
          },
          "metadata": {},
          "execution_count": 5
        }
      ]
    },
    {
      "cell_type": "code",
      "source": [
        "# sort along the first axis\n",
        "a = np.array([[12, 15], [10, 1]])\n",
        "arr1 = np.sort(a, axis = 0)\n",
        "print (\"Along first axis : \\n\", arr1)\n",
        "\n",
        "\n",
        "# sort along the last axis\n",
        "a = np.array([[10, 15], [12, 1]])\n",
        "arr2 = np.sort(a, axis = -1)\n",
        "print (\"\\nAlong last axis : \\n\", arr2)\n",
        "\n",
        "\n",
        "a = np.array([[12, 15], [10, 1]])\n",
        "arr1 = np.sort(a, axis = None)\n",
        "print (\"\\nAlong none axis : \\n\", arr1)"
      ],
      "metadata": {
        "colab": {
          "base_uri": "https://localhost:8080/"
        },
        "id": "UrVwJO3rrc9C",
        "outputId": "021decd0-5517-4232-f529-563d74cbd75f"
      },
      "execution_count": 6,
      "outputs": [
        {
          "output_type": "stream",
          "name": "stdout",
          "text": [
            "Along first axis : \n",
            " [[10  1]\n",
            " [12 15]]\n",
            "\n",
            "Along last axis : \n",
            " [[10 15]\n",
            " [ 1 12]]\n",
            "\n",
            "Along none axis : \n",
            " [ 1 10 12 15]\n"
          ]
        }
      ]
    },
    {
      "cell_type": "code",
      "source": [
        "arr = np.array([[7,3,8,6,4], [7,2,9,8,6],[5,4,2,3,1]])\n",
        "print(\"Using Merge Sort: \",np.sort(arr , axis = 0, kind = 'mergesort'))\n",
        "print()\n",
        "print(\"Using Quick Sort: \",np.sort(arr , axis = 1, kind = 'quicksort'))\n",
        "print()\n",
        "print(\"Using Heap Sort: \",np.sort(arr , kind = 'heapsort'))"
      ],
      "metadata": {
        "colab": {
          "base_uri": "https://localhost:8080/"
        },
        "id": "bdc8IybIFrhZ",
        "outputId": "75f69697-4d4b-47fc-aa39-2eb40fc2f2ef"
      },
      "execution_count": 7,
      "outputs": [
        {
          "output_type": "stream",
          "name": "stdout",
          "text": [
            "Using Merge Sort:  [[5 2 2 3 1]\n",
            " [7 3 8 6 4]\n",
            " [7 4 9 8 6]]\n",
            "\n",
            "Using Quick Sort:  [[3 4 6 7 8]\n",
            " [2 6 7 8 9]\n",
            " [1 2 3 4 5]]\n",
            "\n",
            "Using Heap Sort:  [[3 4 6 7 8]\n",
            " [2 6 7 8 9]\n",
            " [1 2 3 4 5]]\n"
          ]
        }
      ]
    },
    {
      "cell_type": "markdown",
      "source": [
        "# Array Merging"
      ],
      "metadata": {
        "id": "WRCzwJSRGzkj"
      }
    },
    {
      "cell_type": "code",
      "source": [
        "arr1 = np.array([[1,2,3,4], [5,6,7,8]])\n",
        "arr2 = np.array([[8,7,6,5], [4,3,2,1]])"
      ],
      "metadata": {
        "id": "Km_vw9wKF4oh"
      },
      "execution_count": 8,
      "outputs": []
    },
    {
      "cell_type": "code",
      "source": [
        "arr1"
      ],
      "metadata": {
        "colab": {
          "base_uri": "https://localhost:8080/"
        },
        "id": "pT6yNgjLHMx7",
        "outputId": "c68ccf46-c908-4c3d-b5cc-90b00d4bb6f3"
      },
      "execution_count": 9,
      "outputs": [
        {
          "output_type": "execute_result",
          "data": {
            "text/plain": [
              "array([[1, 2, 3, 4],\n",
              "       [5, 6, 7, 8]])"
            ]
          },
          "metadata": {},
          "execution_count": 9
        }
      ]
    },
    {
      "cell_type": "code",
      "source": [
        "arr2"
      ],
      "metadata": {
        "colab": {
          "base_uri": "https://localhost:8080/"
        },
        "id": "cWkPvW5HHOoM",
        "outputId": "0ec75a7c-fcbb-4b4e-e071-c45fb5eae95c"
      },
      "execution_count": 10,
      "outputs": [
        {
          "output_type": "execute_result",
          "data": {
            "text/plain": [
              "array([[8, 7, 6, 5],\n",
              "       [4, 3, 2, 1]])"
            ]
          },
          "metadata": {},
          "execution_count": 10
        }
      ]
    },
    {
      "cell_type": "markdown",
      "source": [
        "## Concatenating the arrays"
      ],
      "metadata": {
        "id": "OQZWME4DHSWB"
      }
    },
    {
      "cell_type": "code",
      "source": [
        "print(\"Stacking arr1 on arr2 vertically: \",np.vstack((arr1,arr2))) #used to stack arrays vertically, stacking rows on top of each other.\n",
        "print(\"Stacking arr2 on arr1 vertically: \",np.vstack((arr2,arr1)))\n",
        "print(\"Stacking arr1 on arr1 vertically: \",np.vstack((arr1,arr1)))"
      ],
      "metadata": {
        "colab": {
          "base_uri": "https://localhost:8080/"
        },
        "id": "yAjA0RfXHPYt",
        "outputId": "7f9e2519-8257-42c2-b928-b3665981f71f"
      },
      "execution_count": 11,
      "outputs": [
        {
          "output_type": "stream",
          "name": "stdout",
          "text": [
            "Stacking arr1 on arr2 vertically:  [[1 2 3 4]\n",
            " [5 6 7 8]\n",
            " [8 7 6 5]\n",
            " [4 3 2 1]]\n",
            "Stacking arr2 on arr1 vertically:  [[8 7 6 5]\n",
            " [4 3 2 1]\n",
            " [1 2 3 4]\n",
            " [5 6 7 8]]\n",
            "Stacking arr1 on arr1 vertically:  [[1 2 3 4]\n",
            " [5 6 7 8]\n",
            " [1 2 3 4]\n",
            " [5 6 7 8]]\n"
          ]
        }
      ]
    },
    {
      "cell_type": "code",
      "source": [
        "np.vstack((arr2,arr1))"
      ],
      "metadata": {
        "colab": {
          "base_uri": "https://localhost:8080/"
        },
        "id": "kvpUbRFlNAzk",
        "outputId": "ffd1c26a-0062-48ad-eb6d-30b83451f1db"
      },
      "execution_count": 12,
      "outputs": [
        {
          "output_type": "execute_result",
          "data": {
            "text/plain": [
              "array([[8, 7, 6, 5],\n",
              "       [4, 3, 2, 1],\n",
              "       [1, 2, 3, 4],\n",
              "       [5, 6, 7, 8]])"
            ]
          },
          "metadata": {},
          "execution_count": 12
        }
      ]
    },
    {
      "cell_type": "code",
      "source": [
        "print(\"Stacking arr1 on arr2 vertically: \",np.hstack((arr1,arr2)))"
      ],
      "metadata": {
        "colab": {
          "base_uri": "https://localhost:8080/"
        },
        "id": "bDYpSVPIHfLc",
        "outputId": "6e61171a-31e9-4a2d-840a-64be44abcae3"
      },
      "execution_count": 13,
      "outputs": [
        {
          "output_type": "stream",
          "name": "stdout",
          "text": [
            "Stacking arr1 on arr2 vertically:  [[1 2 3 4 8 7 6 5]\n",
            " [5 6 7 8 4 3 2 1]]\n"
          ]
        }
      ]
    },
    {
      "cell_type": "code",
      "source": [
        "np.hstack((arr1,arr2))"
      ],
      "metadata": {
        "colab": {
          "base_uri": "https://localhost:8080/"
        },
        "id": "jSMIx1IJH1xn",
        "outputId": "f9de77f5-e4cd-4d38-de09-e9bf4d66b599"
      },
      "execution_count": 14,
      "outputs": [
        {
          "output_type": "execute_result",
          "data": {
            "text/plain": [
              "array([[1, 2, 3, 4, 8, 7, 6, 5],\n",
              "       [5, 6, 7, 8, 4, 3, 2, 1]])"
            ]
          },
          "metadata": {},
          "execution_count": 14
        }
      ]
    },
    {
      "cell_type": "markdown",
      "source": [
        "## Using Concatenate function"
      ],
      "metadata": {
        "id": "KI9X9Um8NU0m"
      }
    },
    {
      "cell_type": "code",
      "source": [
        "arr = np.concatenate((arr1,arr2), axis = 0)\n"
      ],
      "metadata": {
        "id": "fpl-EAe8H4GE"
      },
      "execution_count": 15,
      "outputs": []
    },
    {
      "cell_type": "code",
      "source": [
        "np.concatenate((arr1,arr2), axis = 1)"
      ],
      "metadata": {
        "colab": {
          "base_uri": "https://localhost:8080/"
        },
        "id": "oZhzlTL3NjxN",
        "outputId": "9994013d-b44a-4d31-f1a8-e7cef929663c"
      },
      "execution_count": 16,
      "outputs": [
        {
          "output_type": "execute_result",
          "data": {
            "text/plain": [
              "array([[1, 2, 3, 4, 8, 7, 6, 5],\n",
              "       [5, 6, 7, 8, 4, 3, 2, 1]])"
            ]
          },
          "metadata": {},
          "execution_count": 16
        }
      ]
    },
    {
      "cell_type": "code",
      "source": [
        "arr"
      ],
      "metadata": {
        "colab": {
          "base_uri": "https://localhost:8080/"
        },
        "id": "2XM5YiUfNwVV",
        "outputId": "5ac91fec-f6a3-49fa-be25-7608f2c292ee"
      },
      "execution_count": 17,
      "outputs": [
        {
          "output_type": "execute_result",
          "data": {
            "text/plain": [
              "array([[1, 2, 3, 4],\n",
              "       [5, 6, 7, 8],\n",
              "       [8, 7, 6, 5],\n",
              "       [4, 3, 2, 1]])"
            ]
          },
          "metadata": {},
          "execution_count": 17
        }
      ]
    },
    {
      "cell_type": "code",
      "source": [
        "np.hsplit(arr, 2)"
      ],
      "metadata": {
        "colab": {
          "base_uri": "https://localhost:8080/"
        },
        "id": "y2lG__8LN6GL",
        "outputId": "eefa5b6b-daac-49df-9399-cb6ef943c2cc"
      },
      "execution_count": 18,
      "outputs": [
        {
          "output_type": "execute_result",
          "data": {
            "text/plain": [
              "[array([[1, 2],\n",
              "        [5, 6],\n",
              "        [8, 7],\n",
              "        [4, 3]]),\n",
              " array([[3, 4],\n",
              "        [7, 8],\n",
              "        [6, 5],\n",
              "        [2, 1]])]"
            ]
          },
          "metadata": {},
          "execution_count": 18
        }
      ]
    },
    {
      "cell_type": "code",
      "source": [
        "np.vsplit(arr, 2)"
      ],
      "metadata": {
        "colab": {
          "base_uri": "https://localhost:8080/"
        },
        "id": "fkQqsG3EN_Jz",
        "outputId": "48fcd1b5-6e05-4aa2-bdba-20cceed651a8"
      },
      "execution_count": 19,
      "outputs": [
        {
          "output_type": "execute_result",
          "data": {
            "text/plain": [
              "[array([[1, 2, 3, 4],\n",
              "        [5, 6, 7, 8]]),\n",
              " array([[8, 7, 6, 5],\n",
              "        [4, 3, 2, 1]])]"
            ]
          },
          "metadata": {},
          "execution_count": 19
        }
      ]
    },
    {
      "cell_type": "code",
      "source": [
        "arr = np.arange(4.0).reshape(2,2)\n",
        "result = np.hsplit(arr,2)\n",
        "\n",
        "print(result)"
      ],
      "metadata": {
        "colab": {
          "base_uri": "https://localhost:8080/"
        },
        "id": "J4dk8F83OeK-",
        "outputId": "e974ef3d-bd66-4641-c482-037c51454800"
      },
      "execution_count": 20,
      "outputs": [
        {
          "output_type": "stream",
          "name": "stdout",
          "text": [
            "[array([[0.],\n",
            "       [2.]]), array([[1.],\n",
            "       [3.]])]\n"
          ]
        }
      ]
    },
    {
      "cell_type": "markdown",
      "source": [
        "#Array Slicing"
      ],
      "metadata": {
        "id": "MRicXXJDntmy"
      }
    },
    {
      "cell_type": "code",
      "source": [],
      "metadata": {
        "id": "R90FOG63aPEq"
      },
      "execution_count": 20,
      "outputs": []
    }
  ]
}