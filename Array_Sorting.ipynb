{
  "nbformat": 4,
  "nbformat_minor": 0,
  "metadata": {
    "colab": {
      "provenance": [],
      "authorship_tag": "ABX9TyMTNgwzTUjgxQ/p2NciHvTJ",
      "include_colab_link": true
    },
    "kernelspec": {
      "name": "python3",
      "display_name": "Python 3"
    },
    "language_info": {
      "name": "python"
    }
  },
  "cells": [
    {
      "cell_type": "markdown",
      "metadata": {
        "id": "view-in-github",
        "colab_type": "text"
      },
      "source": [
        "<a href=\"https://colab.research.google.com/github/Ainadri-Mandal/DS_Practice/blob/main/Array_Sorting.ipynb\" target=\"_parent\"><img src=\"https://colab.research.google.com/assets/colab-badge.svg\" alt=\"Open In Colab\"/></a>"
      ]
    },
    {
      "cell_type": "markdown",
      "source": [
        "# Array Sorting"
      ],
      "metadata": {
        "id": "fse_BvRwpA64"
      }
    },
    {
      "cell_type": "code",
      "source": [
        "import numpy as np"
      ],
      "metadata": {
        "id": "cnAeyrrrpEqm"
      },
      "execution_count": 1,
      "outputs": []
    },
    {
      "cell_type": "code",
      "source": [
        "arr = np.array([[6,7,5,3,9],[2,4,6,8,1],[1,3,5,7,9]])\n",
        "arr"
      ],
      "metadata": {
        "colab": {
          "base_uri": "https://localhost:8080/"
        },
        "id": "pTrecZYUpYEG",
        "outputId": "07691e9d-d33b-45a0-9812-958c1f0339ec"
      },
      "execution_count": 3,
      "outputs": [
        {
          "output_type": "execute_result",
          "data": {
            "text/plain": [
              "array([[6, 7, 5, 3, 9],\n",
              "       [2, 4, 6, 8, 1],\n",
              "       [1, 3, 5, 7, 9]])"
            ]
          },
          "metadata": {},
          "execution_count": 3
        }
      ]
    },
    {
      "cell_type": "code",
      "source": [
        "np.sort(arr, axis = 1, kind = 'mergesort')  #axis = 1 means it is done row wise"
      ],
      "metadata": {
        "colab": {
          "base_uri": "https://localhost:8080/"
        },
        "id": "frpTMWWIqP6N",
        "outputId": "3fdf6bc2-16bb-42ff-a2a0-27e27f2d0714"
      },
      "execution_count": 6,
      "outputs": [
        {
          "output_type": "execute_result",
          "data": {
            "text/plain": [
              "array([[3, 5, 6, 7, 9],\n",
              "       [1, 2, 4, 6, 8],\n",
              "       [1, 3, 5, 7, 9]])"
            ]
          },
          "metadata": {},
          "execution_count": 6
        }
      ]
    },
    {
      "cell_type": "code",
      "source": [
        "np.sort(arr, axis = 0, kind = 'mergesort')   #axis = 0 means it is done column wise"
      ],
      "metadata": {
        "colab": {
          "base_uri": "https://localhost:8080/"
        },
        "id": "3wH6kFNqqozc",
        "outputId": "d650a149-75c1-44fc-9c2d-dab21382a112"
      },
      "execution_count": 7,
      "outputs": [
        {
          "output_type": "execute_result",
          "data": {
            "text/plain": [
              "array([[1, 3, 5, 3, 1],\n",
              "       [2, 4, 5, 7, 9],\n",
              "       [6, 7, 6, 8, 9]])"
            ]
          },
          "metadata": {},
          "execution_count": 7
        }
      ]
    },
    {
      "cell_type": "code",
      "source": [
        "np.sort(arr, kind = 'mergesort')  # by default sorting is done row wise (axis = 0)"
      ],
      "metadata": {
        "colab": {
          "base_uri": "https://localhost:8080/"
        },
        "id": "EFi-JmKsq0d7",
        "outputId": "6abdec4c-4909-4295-de3d-202069670cdd"
      },
      "execution_count": 10,
      "outputs": [
        {
          "output_type": "execute_result",
          "data": {
            "text/plain": [
              "array([[3, 5, 6, 7, 9],\n",
              "       [1, 2, 4, 6, 8],\n",
              "       [1, 3, 5, 7, 9]])"
            ]
          },
          "metadata": {},
          "execution_count": 10
        }
      ]
    },
    {
      "cell_type": "code",
      "source": [],
      "metadata": {
        "id": "UrVwJO3rrc9C"
      },
      "execution_count": null,
      "outputs": []
    }
  ]
}