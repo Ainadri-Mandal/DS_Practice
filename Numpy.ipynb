{
  "nbformat": 4,
  "nbformat_minor": 0,
  "metadata": {
    "colab": {
      "provenance": [],
      "toc_visible": true,
      "authorship_tag": "ABX9TyMO3C7YqzM8fkSt3OWf6BSC",
      "include_colab_link": true
    },
    "kernelspec": {
      "name": "python3",
      "display_name": "Python 3"
    },
    "language_info": {
      "name": "python"
    }
  },
  "cells": [
    {
      "cell_type": "markdown",
      "metadata": {
        "id": "view-in-github",
        "colab_type": "text"
      },
      "source": [
        "<a href=\"https://colab.research.google.com/github/Ainadri-Mandal/DS_Practice/blob/main/Numpy.ipynb\" target=\"_parent\"><img src=\"https://colab.research.google.com/assets/colab-badge.svg\" alt=\"Open In Colab\"/></a>"
      ]
    },
    {
      "cell_type": "code",
      "execution_count": 2,
      "metadata": {
        "id": "OavFep6CnvVP",
        "colab": {
          "base_uri": "https://localhost:8080/"
        },
        "outputId": "4267340e-39d3-4482-aa03-f74093423839"
      },
      "outputs": [
        {
          "output_type": "stream",
          "name": "stdout",
          "text": [
            "Requirement already satisfied: numpy in /usr/local/lib/python3.11/dist-packages (2.0.2)\n"
          ]
        }
      ],
      "source": [
        "!pip install numpy"
      ]
    },
    {
      "cell_type": "code",
      "source": [
        "import numpy as np\n"
      ],
      "metadata": {
        "id": "8w8uNy82bKaL"
      },
      "execution_count": 3,
      "outputs": []
    },
    {
      "cell_type": "code",
      "source": [
        "lst = [[1,2,3],\n",
        "       [1,2,3],\n",
        "       [1,2,3]]"
      ],
      "metadata": {
        "id": "03ZF7bZ9bTz7"
      },
      "execution_count": 4,
      "outputs": []
    },
    {
      "cell_type": "code",
      "source": [
        "type(lst)"
      ],
      "metadata": {
        "colab": {
          "base_uri": "https://localhost:8080/"
        },
        "id": "L4Ekc8xtbV8Y",
        "outputId": "d408523b-abc4-4a92-b35b-a2966036c237"
      },
      "execution_count": 5,
      "outputs": [
        {
          "output_type": "execute_result",
          "data": {
            "text/plain": [
              "list"
            ]
          },
          "metadata": {},
          "execution_count": 5
        }
      ]
    },
    {
      "cell_type": "code",
      "source": [
        "arr = np.array(lst)"
      ],
      "metadata": {
        "id": "6stbTRNGbetn"
      },
      "execution_count": 6,
      "outputs": []
    },
    {
      "cell_type": "code",
      "source": [
        "arr"
      ],
      "metadata": {
        "colab": {
          "base_uri": "https://localhost:8080/"
        },
        "id": "RkywKiJI1v6Z",
        "outputId": "31b31713-4e56-4071-aa4b-c2af9be545cd"
      },
      "execution_count": 7,
      "outputs": [
        {
          "output_type": "execute_result",
          "data": {
            "text/plain": [
              "array([[1, 2, 3],\n",
              "       [1, 2, 3],\n",
              "       [1, 2, 3]])"
            ]
          },
          "metadata": {},
          "execution_count": 7
        }
      ]
    },
    {
      "cell_type": "code",
      "source": [
        "type(arr) # ndarray means n-dimensional array"
      ],
      "metadata": {
        "colab": {
          "base_uri": "https://localhost:8080/"
        },
        "id": "CJPAk5AW15Y8",
        "outputId": "c762cb93-3246-4543-d4f2-a3c3bdda7eec"
      },
      "execution_count": 8,
      "outputs": [
        {
          "output_type": "execute_result",
          "data": {
            "text/plain": [
              "numpy.ndarray"
            ]
          },
          "metadata": {},
          "execution_count": 8
        }
      ]
    },
    {
      "cell_type": "code",
      "source": [
        "arr.ndim #to get the dimensions of the array arr"
      ],
      "metadata": {
        "colab": {
          "base_uri": "https://localhost:8080/"
        },
        "id": "8NvVzhX81-zR",
        "outputId": "6574591c-d022-417a-8a2f-b239900f8b30"
      },
      "execution_count": 9,
      "outputs": [
        {
          "output_type": "execute_result",
          "data": {
            "text/plain": [
              "2"
            ]
          },
          "metadata": {},
          "execution_count": 9
        }
      ]
    },
    {
      "cell_type": "code",
      "source": [
        "arr.shape"
      ],
      "metadata": {
        "colab": {
          "base_uri": "https://localhost:8080/"
        },
        "id": "hw5k2zW42V8K",
        "outputId": "b3e6943b-7947-47bd-bf6f-971250da3acf"
      },
      "execution_count": 10,
      "outputs": [
        {
          "output_type": "execute_result",
          "data": {
            "text/plain": [
              "(3, 3)"
            ]
          },
          "metadata": {},
          "execution_count": 10
        }
      ]
    },
    {
      "cell_type": "code",
      "source": [
        "arr.size"
      ],
      "metadata": {
        "colab": {
          "base_uri": "https://localhost:8080/"
        },
        "id": "Q0ayQGbs5X1o",
        "outputId": "731cfcf1-4195-4e17-efa3-9c474127a48c"
      },
      "execution_count": 11,
      "outputs": [
        {
          "output_type": "execute_result",
          "data": {
            "text/plain": [
              "9"
            ]
          },
          "metadata": {},
          "execution_count": 11
        }
      ]
    },
    {
      "cell_type": "code",
      "source": [
        "arr.dtype"
      ],
      "metadata": {
        "colab": {
          "base_uri": "https://localhost:8080/"
        },
        "id": "EwozAR5m5Zd-",
        "outputId": "acde4b37-bfc7-48d8-db9b-48e6e3c78256"
      },
      "execution_count": 12,
      "outputs": [
        {
          "output_type": "execute_result",
          "data": {
            "text/plain": [
              "dtype('int64')"
            ]
          },
          "metadata": {},
          "execution_count": 12
        }
      ]
    },
    {
      "cell_type": "code",
      "source": [
        "zeros = np.zeros((3,5))\n"
      ],
      "metadata": {
        "id": "zgpLlpye5dld"
      },
      "execution_count": 13,
      "outputs": []
    },
    {
      "cell_type": "code",
      "source": [
        "zeros"
      ],
      "metadata": {
        "colab": {
          "base_uri": "https://localhost:8080/"
        },
        "id": "b-vYhctO5rex",
        "outputId": "751fb732-cc39-4b8d-aa31-8a1b18697706"
      },
      "execution_count": 14,
      "outputs": [
        {
          "output_type": "execute_result",
          "data": {
            "text/plain": [
              "array([[0., 0., 0., 0., 0.],\n",
              "       [0., 0., 0., 0., 0.],\n",
              "       [0., 0., 0., 0., 0.]])"
            ]
          },
          "metadata": {},
          "execution_count": 14
        }
      ]
    },
    {
      "cell_type": "code",
      "source": [
        "zeros.dtype"
      ],
      "metadata": {
        "colab": {
          "base_uri": "https://localhost:8080/"
        },
        "id": "5oFTxY9i50EC",
        "outputId": "a71d5cfb-5f4f-4f6e-eebc-a0af7e52a676"
      },
      "execution_count": 15,
      "outputs": [
        {
          "output_type": "execute_result",
          "data": {
            "text/plain": [
              "dtype('float64')"
            ]
          },
          "metadata": {},
          "execution_count": 15
        }
      ]
    },
    {
      "cell_type": "code",
      "source": [],
      "metadata": {
        "id": "UVbb-wWB6GN4"
      },
      "execution_count": 15,
      "outputs": []
    },
    {
      "cell_type": "code",
      "source": [
        "ones = np.ones((6,3), dtype = int)"
      ],
      "metadata": {
        "id": "ueqeukmR52rH"
      },
      "execution_count": 16,
      "outputs": []
    },
    {
      "cell_type": "code",
      "source": [
        "ones"
      ],
      "metadata": {
        "colab": {
          "base_uri": "https://localhost:8080/"
        },
        "id": "VN5H_yyy6A0d",
        "outputId": "4afea659-c20e-4d14-ce92-442f54aee5cb"
      },
      "execution_count": 17,
      "outputs": [
        {
          "output_type": "execute_result",
          "data": {
            "text/plain": [
              "array([[1, 1, 1],\n",
              "       [1, 1, 1],\n",
              "       [1, 1, 1],\n",
              "       [1, 1, 1],\n",
              "       [1, 1, 1],\n",
              "       [1, 1, 1]])"
            ]
          },
          "metadata": {},
          "execution_count": 17
        }
      ]
    },
    {
      "cell_type": "markdown",
      "source": [
        "# Reshape & Random Number Generator"
      ],
      "metadata": {
        "id": "6WmaS00o7Aa2"
      }
    },
    {
      "cell_type": "code",
      "source": [
        "np.random.random()"
      ],
      "metadata": {
        "colab": {
          "base_uri": "https://localhost:8080/"
        },
        "id": "84BjHPro7cn-",
        "outputId": "9fa67be9-ade2-4db9-d33c-b252d8384ec4"
      },
      "execution_count": 18,
      "outputs": [
        {
          "output_type": "execute_result",
          "data": {
            "text/plain": [
              "0.4700857187451467"
            ]
          },
          "metadata": {},
          "execution_count": 18
        }
      ]
    },
    {
      "cell_type": "code",
      "source": [
        "arr = np.random.random((3,3))"
      ],
      "metadata": {
        "id": "-f-DjG6V7Goc"
      },
      "execution_count": 19,
      "outputs": []
    },
    {
      "cell_type": "code",
      "source": [
        "if np.random.random() > 0.5:\n",
        "  print(\"Run the function\")\n",
        "else:\n",
        "  print(\"Don't run the function\")"
      ],
      "metadata": {
        "colab": {
          "base_uri": "https://localhost:8080/"
        },
        "id": "bfWXoME57SZe",
        "outputId": "583fc583-2600-4155-d312-2ad665bccf63"
      },
      "execution_count": 20,
      "outputs": [
        {
          "output_type": "stream",
          "name": "stdout",
          "text": [
            "Run the function\n"
          ]
        }
      ]
    },
    {
      "cell_type": "code",
      "source": [
        "np.arange(1,10,2) #Acts like for loop range ( start, stop, steps)"
      ],
      "metadata": {
        "colab": {
          "base_uri": "https://localhost:8080/"
        },
        "id": "HYQYad_b7sHp",
        "outputId": "23df1c61-1dea-4a75-ac92-46258851c3bb"
      },
      "execution_count": 21,
      "outputs": [
        {
          "output_type": "execute_result",
          "data": {
            "text/plain": [
              "array([1, 3, 5, 7, 9])"
            ]
          },
          "metadata": {},
          "execution_count": 21
        }
      ]
    },
    {
      "cell_type": "code",
      "source": [
        "#np.linspace(start, stop, num=50, endpoint=True, retstep=False, dtype=None)\n"
      ],
      "metadata": {
        "id": "YUrKHNIJBZAe"
      },
      "execution_count": 22,
      "outputs": []
    },
    {
      "cell_type": "code",
      "source": [
        "np.linspace(1,10,6, dtype = int) # gives range of no.s (strt, stop, no. of values u want, dtype)"
      ],
      "metadata": {
        "colab": {
          "base_uri": "https://localhost:8080/"
        },
        "id": "4QaopvPO8FSD",
        "outputId": "b53906db-212b-49f2-e94c-6c4322a805ad"
      },
      "execution_count": 23,
      "outputs": [
        {
          "output_type": "execute_result",
          "data": {
            "text/plain": [
              "array([ 1,  2,  4,  6,  8, 10])"
            ]
          },
          "metadata": {},
          "execution_count": 23
        }
      ]
    },
    {
      "cell_type": "code",
      "source": [
        "arr = np.random.random((4,3))"
      ],
      "metadata": {
        "id": "kD3yD0Hl_C4O"
      },
      "execution_count": 24,
      "outputs": []
    },
    {
      "cell_type": "code",
      "source": [
        "arr"
      ],
      "metadata": {
        "colab": {
          "base_uri": "https://localhost:8080/"
        },
        "id": "LQqOjI36AWmT",
        "outputId": "e352519a-6ecf-4dc6-9e28-8df8c39eaefb"
      },
      "execution_count": 25,
      "outputs": [
        {
          "output_type": "execute_result",
          "data": {
            "text/plain": [
              "array([[0.42137495, 0.04713399, 0.56919578],\n",
              "       [0.38778905, 0.1883145 , 0.60323476],\n",
              "       [0.49698278, 0.63501428, 0.82032849],\n",
              "       [0.95864283, 0.58133232, 0.07853987]])"
            ]
          },
          "metadata": {},
          "execution_count": 25
        }
      ]
    },
    {
      "cell_type": "code",
      "source": [
        "np.reshape(arr, (3,4))"
      ],
      "metadata": {
        "colab": {
          "base_uri": "https://localhost:8080/"
        },
        "id": "oCYSPUioAYfA",
        "outputId": "66f3172d-1745-407f-d756-e61bd394cc63"
      },
      "execution_count": 26,
      "outputs": [
        {
          "output_type": "execute_result",
          "data": {
            "text/plain": [
              "array([[0.42137495, 0.04713399, 0.56919578, 0.38778905],\n",
              "       [0.1883145 , 0.60323476, 0.49698278, 0.63501428],\n",
              "       [0.82032849, 0.95864283, 0.58133232, 0.07853987]])"
            ]
          },
          "metadata": {},
          "execution_count": 26
        }
      ]
    },
    {
      "cell_type": "code",
      "source": [
        "arr.flatten()"
      ],
      "metadata": {
        "colab": {
          "base_uri": "https://localhost:8080/"
        },
        "id": "UH0SnAN_AiyR",
        "outputId": "21ff0a58-f8fc-40a5-88d6-cd0b628a5450"
      },
      "execution_count": 27,
      "outputs": [
        {
          "output_type": "execute_result",
          "data": {
            "text/plain": [
              "array([0.42137495, 0.04713399, 0.56919578, 0.38778905, 0.1883145 ,\n",
              "       0.60323476, 0.49698278, 0.63501428, 0.82032849, 0.95864283,\n",
              "       0.58133232, 0.07853987])"
            ]
          },
          "metadata": {},
          "execution_count": 27
        }
      ]
    },
    {
      "cell_type": "markdown",
      "source": [
        "# Arithmetic operations on array"
      ],
      "metadata": {
        "id": "kX-ITakNB1Zi"
      }
    },
    {
      "cell_type": "code",
      "source": [
        "arr =np.array([1,2,3,4,5,6])\n"
      ],
      "metadata": {
        "id": "ti7L4ZtWBD2G"
      },
      "execution_count": 28,
      "outputs": []
    },
    {
      "cell_type": "code",
      "source": [
        "arr"
      ],
      "metadata": {
        "colab": {
          "base_uri": "https://localhost:8080/"
        },
        "id": "GPaENGCBCEkK",
        "outputId": "95179ab6-dbc5-4be0-b7b5-55903e513de3"
      },
      "execution_count": 29,
      "outputs": [
        {
          "output_type": "execute_result",
          "data": {
            "text/plain": [
              "array([1, 2, 3, 4, 5, 6])"
            ]
          },
          "metadata": {},
          "execution_count": 29
        }
      ]
    },
    {
      "cell_type": "code",
      "source": [
        "print(arr + 1)\n",
        "print(arr - 1)\n",
        "print(arr * 8)\n",
        "print(arr % 2)\n",
        "print(arr / 2)\n",
        "print(arr // 2)\n",
        "print(arr ** 2)"
      ],
      "metadata": {
        "colab": {
          "base_uri": "https://localhost:8080/"
        },
        "id": "bSQ9vSjFCFFL",
        "outputId": "d3e9d610-fdb7-402a-d933-ae6701d7d8ae"
      },
      "execution_count": 30,
      "outputs": [
        {
          "output_type": "stream",
          "name": "stdout",
          "text": [
            "[2 3 4 5 6 7]\n",
            "[0 1 2 3 4 5]\n",
            "[ 8 16 24 32 40 48]\n",
            "[1 0 1 0 1 0]\n",
            "[0.5 1.  1.5 2.  2.5 3. ]\n",
            "[0 1 1 2 2 3]\n",
            "[ 1  4  9 16 25 36]\n"
          ]
        }
      ]
    },
    {
      "cell_type": "code",
      "source": [
        "arr *= 2"
      ],
      "metadata": {
        "id": "NG0CfoaLD9oU"
      },
      "execution_count": 31,
      "outputs": []
    },
    {
      "cell_type": "code",
      "source": [
        "arr"
      ],
      "metadata": {
        "colab": {
          "base_uri": "https://localhost:8080/"
        },
        "id": "M0i-TaEkEPZa",
        "outputId": "a18b8c9a-c4e2-482d-e59c-70f2a8ca1665"
      },
      "execution_count": 32,
      "outputs": [
        {
          "output_type": "execute_result",
          "data": {
            "text/plain": [
              "array([ 2,  4,  6,  8, 10, 12])"
            ]
          },
          "metadata": {},
          "execution_count": 32
        }
      ]
    },
    {
      "cell_type": "code",
      "source": [
        "print(arr.max())\n",
        "print(int(arr.max()))\n",
        "print(int(arr.min()))"
      ],
      "metadata": {
        "colab": {
          "base_uri": "https://localhost:8080/"
        },
        "id": "8dJK8-y8EtYZ",
        "outputId": "41435a90-449e-4b78-b130-705f87744073"
      },
      "execution_count": 33,
      "outputs": [
        {
          "output_type": "stream",
          "name": "stdout",
          "text": [
            "12\n",
            "12\n",
            "2\n"
          ]
        }
      ]
    },
    {
      "cell_type": "code",
      "source": [
        "arr = np.array([[1,4,7],\n",
        "                [2,5,4],\n",
        "                [3,6,3]])"
      ],
      "metadata": {
        "id": "WNbEdfi_ImZm"
      },
      "execution_count": 34,
      "outputs": []
    },
    {
      "cell_type": "code",
      "source": [
        "arr"
      ],
      "metadata": {
        "colab": {
          "base_uri": "https://localhost:8080/"
        },
        "id": "t6H2M2WtJAIa",
        "outputId": "8406ab5d-6164-4f82-b86e-e4558bf2fa2c"
      },
      "execution_count": 35,
      "outputs": [
        {
          "output_type": "execute_result",
          "data": {
            "text/plain": [
              "array([[1, 4, 7],\n",
              "       [2, 5, 4],\n",
              "       [3, 6, 3]])"
            ]
          },
          "metadata": {},
          "execution_count": 35
        }
      ]
    },
    {
      "cell_type": "code",
      "source": [
        "arr.max(axis = 0)  # Gives max value column wise"
      ],
      "metadata": {
        "colab": {
          "base_uri": "https://localhost:8080/"
        },
        "id": "-gC-UGFsJB2P",
        "outputId": "1ca246a7-c182-4d47-a413-ed76d96e11d1"
      },
      "execution_count": 36,
      "outputs": [
        {
          "output_type": "execute_result",
          "data": {
            "text/plain": [
              "array([3, 6, 7])"
            ]
          },
          "metadata": {},
          "execution_count": 36
        }
      ]
    },
    {
      "cell_type": "code",
      "source": [
        "arr.min(axis = 0)"
      ],
      "metadata": {
        "colab": {
          "base_uri": "https://localhost:8080/"
        },
        "id": "mM3bvXBKMagh",
        "outputId": "a78b27a3-6425-4696-f5a5-1c0d014ef3f3"
      },
      "execution_count": 37,
      "outputs": [
        {
          "output_type": "execute_result",
          "data": {
            "text/plain": [
              "array([1, 4, 3])"
            ]
          },
          "metadata": {},
          "execution_count": 37
        }
      ]
    },
    {
      "cell_type": "code",
      "source": [
        "arr.max(axis = 1) # Gives max value row wise"
      ],
      "metadata": {
        "colab": {
          "base_uri": "https://localhost:8080/"
        },
        "id": "XlaI5TA0JJ9B",
        "outputId": "06101a0d-ce08-4f46-e3d3-1e6335782c54"
      },
      "execution_count": 38,
      "outputs": [
        {
          "output_type": "execute_result",
          "data": {
            "text/plain": [
              "array([7, 5, 6])"
            ]
          },
          "metadata": {},
          "execution_count": 38
        }
      ]
    },
    {
      "cell_type": "code",
      "source": [
        "arr.min(axis = 1)"
      ],
      "metadata": {
        "colab": {
          "base_uri": "https://localhost:8080/"
        },
        "id": "JsiBC9gBLY8q",
        "outputId": "f1c76f9b-640c-4441-d444-5c91f88a6cb4"
      },
      "execution_count": 39,
      "outputs": [
        {
          "output_type": "execute_result",
          "data": {
            "text/plain": [
              "array([1, 2, 3])"
            ]
          },
          "metadata": {},
          "execution_count": 39
        }
      ]
    },
    {
      "cell_type": "code",
      "source": [
        "int(arr.sum())"
      ],
      "metadata": {
        "colab": {
          "base_uri": "https://localhost:8080/"
        },
        "id": "Ei-yr8ZpMfOv",
        "outputId": "c206b6dd-f37f-4d75-f6aa-d18300253d1a"
      },
      "execution_count": 40,
      "outputs": [
        {
          "output_type": "execute_result",
          "data": {
            "text/plain": [
              "35"
            ]
          },
          "metadata": {},
          "execution_count": 40
        }
      ]
    },
    {
      "cell_type": "markdown",
      "source": [
        "# Arithmetic Operations on Multiple Arrays"
      ],
      "metadata": {
        "id": "CoN1y_shNITY"
      }
    },
    {
      "cell_type": "code",
      "source": [
        "arr1 = np.array([[1,2,3],\n",
        "                [4,5,6],\n",
        "                [7,8,9]])\n",
        "\n",
        "arr2 = np.array([[9,8,7],\n",
        "                [6,5,4],\n",
        "                [3,2,1]])"
      ],
      "metadata": {
        "id": "DWM-SIKpNKw8"
      },
      "execution_count": 41,
      "outputs": []
    },
    {
      "cell_type": "code",
      "source": [
        "arr1 + arr2"
      ],
      "metadata": {
        "colab": {
          "base_uri": "https://localhost:8080/"
        },
        "id": "SRPafYIbNiLs",
        "outputId": "72862335-e574-4285-a656-80a65376e46d"
      },
      "execution_count": 42,
      "outputs": [
        {
          "output_type": "execute_result",
          "data": {
            "text/plain": [
              "array([[10, 10, 10],\n",
              "       [10, 10, 10],\n",
              "       [10, 10, 10]])"
            ]
          },
          "metadata": {},
          "execution_count": 42
        }
      ]
    },
    {
      "cell_type": "code",
      "source": [
        "arr1 * arr2"
      ],
      "metadata": {
        "colab": {
          "base_uri": "https://localhost:8080/"
        },
        "id": "78te0MLWOFPa",
        "outputId": "e9dec0e4-c33a-47f6-dda0-c068e1110c0c"
      },
      "execution_count": 43,
      "outputs": [
        {
          "output_type": "execute_result",
          "data": {
            "text/plain": [
              "array([[ 9, 16, 21],\n",
              "       [24, 25, 24],\n",
              "       [21, 16,  9]])"
            ]
          },
          "metadata": {},
          "execution_count": 43
        }
      ]
    },
    {
      "cell_type": "markdown",
      "source": [
        "## To perform the dot product"
      ],
      "metadata": {
        "id": "FNuTKR1GOlfA"
      }
    },
    {
      "cell_type": "code",
      "source": [
        "arr1"
      ],
      "metadata": {
        "colab": {
          "base_uri": "https://localhost:8080/"
        },
        "id": "mbpdULtEOfnN",
        "outputId": "22afcb29-499c-4510-8d15-a03aaa19cb29"
      },
      "execution_count": 44,
      "outputs": [
        {
          "output_type": "execute_result",
          "data": {
            "text/plain": [
              "array([[1, 2, 3],\n",
              "       [4, 5, 6],\n",
              "       [7, 8, 9]])"
            ]
          },
          "metadata": {},
          "execution_count": 44
        }
      ]
    },
    {
      "cell_type": "code",
      "source": [
        "arr2"
      ],
      "metadata": {
        "colab": {
          "base_uri": "https://localhost:8080/"
        },
        "id": "jUyF5doBOrJF",
        "outputId": "c3d6df5a-5bfc-48f3-b2a7-0bf3ffb739a0"
      },
      "execution_count": 45,
      "outputs": [
        {
          "output_type": "execute_result",
          "data": {
            "text/plain": [
              "array([[9, 8, 7],\n",
              "       [6, 5, 4],\n",
              "       [3, 2, 1]])"
            ]
          },
          "metadata": {},
          "execution_count": 45
        }
      ]
    },
    {
      "cell_type": "code",
      "source": [
        "arr1.dot(arr2)  # Using the dot operator"
      ],
      "metadata": {
        "colab": {
          "base_uri": "https://localhost:8080/"
        },
        "id": "xE0BRWU_Or0Z",
        "outputId": "3982c059-deeb-495a-d056-28702e6ee967"
      },
      "execution_count": 46,
      "outputs": [
        {
          "output_type": "execute_result",
          "data": {
            "text/plain": [
              "array([[ 30,  24,  18],\n",
              "       [ 84,  69,  54],\n",
              "       [138, 114,  90]])"
            ]
          },
          "metadata": {},
          "execution_count": 46
        }
      ]
    },
    {
      "cell_type": "markdown",
      "source": [
        "# Accessing the elements of an array"
      ],
      "metadata": {
        "id": "3r_3NAOqPOAN"
      }
    },
    {
      "cell_type": "code",
      "source": [
        "arr = np.array([1,2,3,4,5])\n",
        "print(arr[:])   # returns a full slice (i.e., all elements)\n",
        "print(arr[:2])\n",
        "print(arr[2:])\n",
        "print(arr[2:-2])\n",
        "print(arr[:-2])"
      ],
      "metadata": {
        "colab": {
          "base_uri": "https://localhost:8080/"
        },
        "id": "sKHhHCcYOxri",
        "outputId": "6d3b9bb6-802f-42e5-bbba-d67a0a806b30"
      },
      "execution_count": 47,
      "outputs": [
        {
          "output_type": "stream",
          "name": "stdout",
          "text": [
            "[1 2 3 4 5]\n",
            "[1 2]\n",
            "[3 4 5]\n",
            "[3]\n",
            "[1 2 3]\n"
          ]
        }
      ]
    },
    {
      "cell_type": "code",
      "source": [
        "arr1"
      ],
      "metadata": {
        "colab": {
          "base_uri": "https://localhost:8080/"
        },
        "id": "kj3CfWh-PbCl",
        "outputId": "cf4f69cc-0311-42e1-f441-15161151a618"
      },
      "execution_count": 48,
      "outputs": [
        {
          "output_type": "execute_result",
          "data": {
            "text/plain": [
              "array([[1, 2, 3],\n",
              "       [4, 5, 6],\n",
              "       [7, 8, 9]])"
            ]
          },
          "metadata": {},
          "execution_count": 48
        }
      ]
    },
    {
      "cell_type": "code",
      "source": [
        "arr1[:,:]"
      ],
      "metadata": {
        "colab": {
          "base_uri": "https://localhost:8080/"
        },
        "id": "cClVu2tmgPKs",
        "outputId": "a8c59e8d-6ab3-4408-cd52-50ad70b0a6e7"
      },
      "execution_count": 54,
      "outputs": [
        {
          "output_type": "execute_result",
          "data": {
            "text/plain": [
              "array([[1, 2, 3],\n",
              "       [4, 5, 6],\n",
              "       [7, 8, 9]])"
            ]
          },
          "metadata": {},
          "execution_count": 54
        }
      ]
    },
    {
      "cell_type": "code",
      "source": [
        "arr1[ : , : 1] # for 2d array\n",
        "          # first : is used for rows and 2nd : is used for columns"
      ],
      "metadata": {
        "colab": {
          "base_uri": "https://localhost:8080/"
        },
        "id": "hjzRVp4jRRRz",
        "outputId": "e3efcdf5-2e84-4c25-c8c6-0dace01eae70"
      },
      "execution_count": 58,
      "outputs": [
        {
          "output_type": "execute_result",
          "data": {
            "text/plain": [
              "array([[1],\n",
              "       [4],\n",
              "       [7]])"
            ]
          },
          "metadata": {},
          "execution_count": 58
        }
      ]
    },
    {
      "cell_type": "code",
      "source": [
        "arr1[:1,:]"
      ],
      "metadata": {
        "colab": {
          "base_uri": "https://localhost:8080/"
        },
        "id": "gy95cXR2gBz1",
        "outputId": "e2ce0759-8998-446b-8a08-51aff9bf80bd"
      },
      "execution_count": 55,
      "outputs": [
        {
          "output_type": "execute_result",
          "data": {
            "text/plain": [
              "array([[1, 2, 3]])"
            ]
          },
          "metadata": {},
          "execution_count": 55
        }
      ]
    },
    {
      "cell_type": "code",
      "source": [
        "arr1[:2,:]"
      ],
      "metadata": {
        "colab": {
          "base_uri": "https://localhost:8080/"
        },
        "id": "NLAaGZSqgX5G",
        "outputId": "2a973bb1-6af6-4df1-fbd7-653abe4477f4"
      },
      "execution_count": 57,
      "outputs": [
        {
          "output_type": "execute_result",
          "data": {
            "text/plain": [
              "array([[1, 2, 3],\n",
              "       [4, 5, 6]])"
            ]
          },
          "metadata": {},
          "execution_count": 57
        }
      ]
    },
    {
      "cell_type": "code",
      "source": [
        "arr1[2:,:]"
      ],
      "metadata": {
        "colab": {
          "base_uri": "https://localhost:8080/"
        },
        "id": "hFFgH7nhgcM-",
        "outputId": "0b8939b0-781c-40b7-dd1b-5dfed59ca638"
      },
      "execution_count": 59,
      "outputs": [
        {
          "output_type": "execute_result",
          "data": {
            "text/plain": [
              "array([[7, 8, 9]])"
            ]
          },
          "metadata": {},
          "execution_count": 59
        }
      ]
    },
    {
      "cell_type": "code",
      "source": [
        "arr1[:,2:]"
      ],
      "metadata": {
        "colab": {
          "base_uri": "https://localhost:8080/"
        },
        "id": "QvwYCf9cgke7",
        "outputId": "b42c4068-8db3-4738-e778-2f86c7aa7fee"
      },
      "execution_count": 60,
      "outputs": [
        {
          "output_type": "execute_result",
          "data": {
            "text/plain": [
              "array([[3],\n",
              "       [6],\n",
              "       [9]])"
            ]
          },
          "metadata": {},
          "execution_count": 60
        }
      ]
    },
    {
      "cell_type": "code",
      "source": [
        "arr1[:,:2]"
      ],
      "metadata": {
        "colab": {
          "base_uri": "https://localhost:8080/"
        },
        "id": "kp3L8D2MgnzW",
        "outputId": "22dd8374-34d0-42b2-9cef-81756ed28bbe"
      },
      "execution_count": 61,
      "outputs": [
        {
          "output_type": "execute_result",
          "data": {
            "text/plain": [
              "array([[1, 2],\n",
              "       [4, 5],\n",
              "       [7, 8]])"
            ]
          },
          "metadata": {},
          "execution_count": 61
        }
      ]
    },
    {
      "cell_type": "code",
      "source": [
        "arr1[:,1:2]"
      ],
      "metadata": {
        "colab": {
          "base_uri": "https://localhost:8080/"
        },
        "id": "Thk2LsAwjTmE",
        "outputId": "8419bbcb-058a-4d39-96d8-5a26e2c2c82d"
      },
      "execution_count": 62,
      "outputs": [
        {
          "output_type": "execute_result",
          "data": {
            "text/plain": [
              "array([[2],\n",
              "       [5],\n",
              "       [8]])"
            ]
          },
          "metadata": {},
          "execution_count": 62
        }
      ]
    },
    {
      "cell_type": "code",
      "source": [
        "print(\"Printing the middle element of the matrix\")\n",
        "arr1[1:2,1:2]"
      ],
      "metadata": {
        "colab": {
          "base_uri": "https://localhost:8080/"
        },
        "id": "vzXD1nU7jZIf",
        "outputId": "1b90c401-442b-46b4-a47d-43c5ac58bf5d"
      },
      "execution_count": 66,
      "outputs": [
        {
          "output_type": "stream",
          "name": "stdout",
          "text": [
            "Printing the middle element of the matrix\n"
          ]
        },
        {
          "output_type": "execute_result",
          "data": {
            "text/plain": [
              "array([[5]])"
            ]
          },
          "metadata": {},
          "execution_count": 66
        }
      ]
    },
    {
      "cell_type": "markdown",
      "source": [
        "# Arithmetic Operations on array"
      ],
      "metadata": {
        "id": "BQDmml0LmsMO"
      }
    },
    {
      "cell_type": "code",
      "source": [
        "a = np.array([5, 72, 13, 100])\n",
        "b = np.array([2, 5, 10, 30])\n",
        "\n",
        "#Performing Arithmetic with two ways\n",
        "\n",
        "print(\"Using + operator: \", a+b)\n",
        "print(\"Using numpy add function\", np.add(a,b))\n",
        "print(\"\\n\")\n",
        "print(\"Using - operator: \", a-b)\n",
        "print(\"Using numpy subtract function\", np.subtract(a,b))\n",
        "print(\"\\n\")\n",
        "print(\"Using * operator: \", a*b)\n",
        "print(\"Using numpy multiply function\", np.multiply(a,b))\n",
        "print(\"\\n\")\n",
        "print(\"Using / operator: \", a-b)\n",
        "print(\"Using numpy divide function\", np.divide(a,b))"
      ],
      "metadata": {
        "colab": {
          "base_uri": "https://localhost:8080/"
        },
        "id": "DRpRwVMkjl6A",
        "outputId": "f9f5b33e-0d78-4611-a5b7-a34ff35943c0"
      },
      "execution_count": 72,
      "outputs": [
        {
          "output_type": "stream",
          "name": "stdout",
          "text": [
            "Using + operator:  [  7  77  23 130]\n",
            "Using numpy add function [  7  77  23 130]\n",
            "\n",
            "\n",
            "Using - operator:  [ 3 67  3 70]\n",
            "Using numpy subtract function [ 3 67  3 70]\n",
            "\n",
            "\n",
            "Using * operator:  [  10  360  130 3000]\n",
            "Using numpy multiply function [  10  360  130 3000]\n",
            "\n",
            "\n",
            "Using / operator:  [ 3 67  3 70]\n",
            "Using numpy divide function [ 2.5        14.4         1.3         3.33333333]\n"
          ]
        }
      ]
    },
    {
      "cell_type": "code",
      "source": [],
      "metadata": {
        "id": "FKKLRUS5nEg7"
      },
      "execution_count": 69,
      "outputs": []
    }
  ]
}