{
 "cells": [
  {
   "cell_type": "markdown",
   "id": "20fd7e68-806a-4daf-a5d6-faba01a0d01a",
   "metadata": {},
   "source": [
    "# Inventory Management System - Generating Bill"
   ]
  },
  {
   "cell_type": "code",
   "execution_count": 4,
   "id": "5b411ec0-ae0a-4366-be17-1d1c99874b3a",
   "metadata": {},
   "outputs": [
    {
     "name": "stdout",
     "output_type": "stream",
     "text": [
      "-------------MENU--------------\n",
      "\n",
      "1001 : 5 Star | 10 | 195\n",
      "1002 : Bar-Ine | 20 | 92\n",
      "1003 : Candy | 2 | 0\n",
      "1004 : Chocolate Cake | 550 | 8\n",
      "1005 : Blueberry Cake | 650 | 5\n",
      "-------------------------------\n"
     ]
    },
    {
     "name": "stdin",
     "output_type": "stream",
     "text": [
      "Enter Product ID :  1004\n",
      "Enter Quantity   :  3\n"
     ]
    },
    {
     "name": "stdout",
     "output_type": "stream",
     "text": [
      "-------------------------------\n",
      "             Bill              \n",
      "Name           :  Chocolate Cake\n",
      "Price (Rs)     :  550 Rs\n",
      "Quantity       :  3\n",
      "-------------------------------\n",
      "Billing Amount :  1650 Rs\n",
      "-------------------------------\n"
     ]
    }
   ],
   "source": [
    "import json\n",
    "\n",
    "def main():\n",
    "    # Load the records from file\n",
    "    with open('Records.json', 'r') as fd:\n",
    "        js = fd.read()\n",
    "\n",
    "    record = json.loads(js)  # Converts JSON string into dictionary form\n",
    "\n",
    "    print('-'*13 + 'MENU' + '-'*14 +'\\n')\n",
    "\n",
    "    for key in record.keys():\n",
    "        print(key, ':' , record[key]['Name'],'|', record[key]['Price'],\"|\", record[key]['Qn'])\n",
    "    print('-'*31)\n",
    "\n",
    "    ui_pr = input(\"Enter Product ID : \")\n",
    "    ui_qn = int(input(\"Enter Quantity   : \"))\n",
    "\n",
    "    # Check and update quantity\n",
    "    if ui_qn <= record[ui_pr]['Qn']:\n",
    "        record[ui_pr]['Qn'] -= ui_qn\n",
    "    else:\n",
    "        print(\"Insufficient stock!\")\n",
    "        return  # Stops execution here in Jupyter\n",
    "\n",
    "    print('-'*31)\n",
    "    print(\"             Bill              \")\n",
    "    print(\"Name           : \",record[ui_pr]['Name'])\n",
    "    print(\"Price (Rs)     : \",record[ui_pr]['Price'], \"Rs\")\n",
    "    print(\"Quantity       : \",ui_qn)\n",
    "    print('-'*31)\n",
    "    print(\"Billing Amount : \",record[ui_pr]['Price'] * ui_qn, \"Rs\")\n",
    "    print('-'*31)\n",
    "\n",
    "    # Save updated record\n",
    "    with open(\"Records.json\", 'w') as fd:\n",
    "        json.dump(record, fd)\n",
    "\n",
    "# Run the function\n",
    "main()\n"
   ]
  },
  {
   "cell_type": "code",
   "execution_count": 5,
   "id": "86bfa772-9b0e-449d-89d2-2ce8c5956d0d",
   "metadata": {},
   "outputs": [],
   "source": [
    "fd = open('Records.json','r')\n",
    "js = fd.read()\n",
    "fd.close()"
   ]
  },
  {
   "cell_type": "code",
   "execution_count": 6,
   "id": "ceba8f0b-cef2-45da-b456-51f731dc9be5",
   "metadata": {},
   "outputs": [
    {
     "data": {
      "text/plain": [
       "'{\"1001\": {\"Name\": \"5 Star\", \"Price\": 10, \"Qn\": 195}, \"1002\": {\"Name\": \"Bar-Ine\", \"Price\": 20, \"Qn\": 92}, \"1003\": {\"Name\": \"Candy\", \"Price\": 2, \"Qn\": 0}, \"1004\": {\"Name\": \"Chocolate Cake\", \"Price\": 550, \"Qn\": 5}, \"1005\": {\"Name\": \"Blueberry Cake\", \"Price\": 650, \"Qn\": 5}}'"
      ]
     },
     "execution_count": 6,
     "metadata": {},
     "output_type": "execute_result"
    }
   ],
   "source": [
    "js"
   ]
  },
  {
   "cell_type": "code",
   "execution_count": null,
   "id": "e5770435-662e-4eab-8d60-6a6eba00e828",
   "metadata": {},
   "outputs": [],
   "source": []
  }
 ],
 "metadata": {
  "kernelspec": {
   "display_name": "Python 3 (ipykernel)",
   "language": "python",
   "name": "python3"
  },
  "language_info": {
   "codemirror_mode": {
    "name": "ipython",
    "version": 3
   },
   "file_extension": ".py",
   "mimetype": "text/x-python",
   "name": "python",
   "nbconvert_exporter": "python",
   "pygments_lexer": "ipython3",
   "version": "3.13.5"
  }
 },
 "nbformat": 4,
 "nbformat_minor": 5
}
