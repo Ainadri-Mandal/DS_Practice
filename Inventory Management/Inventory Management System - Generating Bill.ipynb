{
 "cells": [
  {
   "cell_type": "markdown",
   "id": "20fd7e68-806a-4daf-a5d6-faba01a0d01a",
   "metadata": {},
   "source": [
    "# Inventory Management System - Generating Bill"
   ]
  },
  {
   "cell_type": "code",
   "execution_count": 2,
   "id": "5b411ec0-ae0a-4366-be17-1d1c99874b3a",
   "metadata": {},
   "outputs": [
    {
     "name": "stdout",
     "output_type": "stream",
     "text": [
      "-------------MENU--------------\n",
      "\n",
      "1001 : 5 Star | 10 | 200\n",
      "1002 : Bar-Ine | 20 | 100\n",
      "1003 : Candy | 2 | 200\n",
      "1004 : Chocolate Cake | 550 | 8\n",
      "1005 : Blueberry Cake | 650 | 5\n",
      "-------------------------------\n"
     ]
    },
    {
     "name": "stdin",
     "output_type": "stream",
     "text": [
      "Enter Product ID :  1003\n",
      "Enter Quantity   :  200\n"
     ]
    },
    {
     "name": "stdout",
     "output_type": "stream",
     "text": [
      "-------------------------------\n",
      "             Bill              \n",
      "Name           :  Candy\n",
      "Price (Rs)     :  2 Rs\n",
      "Quantity       :  200\n",
      "-------------------------------\n",
      "Billing Amount :  400 Rs\n",
      "-------------------------------\n"
     ]
    }
   ],
   "source": [
    "import json\n",
    "import os\n",
    "\n",
    "record = {1001: {'Name': '5 Star'        , \"Price\": 10 , \"Qn\": 200},\n",
    "          1002: {'Name': 'Bar-Ine'       , \"Price\": 20 , \"Qn\": 100},\n",
    "          1003: {'Name': 'Candy'         , \"Price\": 2  , \"Qn\": 200},\n",
    "          1004: {'Name': 'Chocolate Cake', \"Price\": 550, \"Qn\": 8},\n",
    "          1005: {'Name': 'Blueberry Cake', \"Price\": 650, \"Qn\": 5}}\n",
    "\n",
    "print('-'*13 + 'MENU' + '-'*14 +'\\n')\n",
    "\n",
    "for key in record.keys():\n",
    "    print(key, ':' , record[key]['Name'],'|', record[key]['Price'],\"|\", record[key]['Qn'])\n",
    "print('-'*31)\n",
    "\n",
    "ui_pr = int(input(\"Enter Product ID : \"))\n",
    "ui_qn = int(input(\"Enter Quantity   : \"))\n",
    "\n",
    "# Update quantity here \n",
    "if ui_qn <= record[ui_pr]['Qn']:\n",
    "    record[ui_pr]['Qn'] -= ui_qn\n",
    "else:\n",
    "    print(\"Insufficient stock!\")\n",
    "    exit()\n",
    "\n",
    "print('-'*31)\n",
    "print(\"             Bill              \")\n",
    "\n",
    "print(\"Name           : \",record[ui_pr]['Name'])\n",
    "print(\"Price (Rs)     : \",record[ui_pr]['Price'],\"Rs\")\n",
    "print(\"Quantity       : \",ui_qn)\n",
    "\n",
    "print('-'*31)\n",
    "print(\"Billing Amount : \",record[ui_pr]['Price'] * ui_qn,\"Rs\")\n",
    "print('-'*31)\n",
    "\n",
    "js = json.dumps(record)\n",
    "\n",
    "fd = open(\"Records.json\", 'w')\n",
    "fd.write(js)\n",
    "fd.close()\n"
   ]
  }
 ],
 "metadata": {
  "kernelspec": {
   "display_name": "Python 3 (ipykernel)",
   "language": "python",
   "name": "python3"
  },
  "language_info": {
   "codemirror_mode": {
    "name": "ipython",
    "version": 3
   },
   "file_extension": ".py",
   "mimetype": "text/x-python",
   "name": "python",
   "nbconvert_exporter": "python",
   "pygments_lexer": "ipython3",
   "version": "3.13.5"
  }
 },
 "nbformat": 4,
 "nbformat_minor": 5
}
