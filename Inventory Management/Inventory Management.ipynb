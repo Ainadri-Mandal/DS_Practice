{
 "cells": [
  {
   "cell_type": "code",
   "execution_count": 1,
   "id": "50d34d57-d1af-43d3-886b-086576925b2e",
   "metadata": {},
   "outputs": [],
   "source": [
    "fd = open(\"Inventory.txt\", \"w\")\n",
    "fd.close()"
   ]
  },
  {
   "cell_type": "markdown",
   "id": "c8376940-f3b6-495c-b503-ebf0901337d0",
   "metadata": {},
   "source": [
    "## Product Details\n",
    "1. Product ID\n",
    "2. Name of product\n",
    "3. Price of Product\n",
    "4. Quantity"
   ]
  },
  {
   "cell_type": "code",
   "execution_count": 2,
   "id": "c3e3f379-d13e-4300-8125-4486945e802a",
   "metadata": {},
   "outputs": [],
   "source": [
    "fd = open('Inventory.txt', 'r')\n",
    "txt = fd.read()\n",
    "fd.close()"
   ]
  },
  {
   "cell_type": "code",
   "execution_count": 3,
   "id": "c13ea464-2dd6-4f4c-ad17-8f9f60962dcb",
   "metadata": {},
   "outputs": [
    {
     "name": "stdout",
     "output_type": "stream",
     "text": [
      "1,5 Star,5,250\n",
      "2,Cadbury,10,100\n",
      "3,Chips,5,200\n",
      "4,Sweets,7,150\n"
     ]
    }
   ],
   "source": [
    "print(txt)"
   ]
  },
  {
   "cell_type": "code",
   "execution_count": null,
   "id": "b24799ac-9894-40b3-b433-a82e18fa89c1",
   "metadata": {},
   "outputs": [],
   "source": [
    "txt"
   ]
  },
  {
   "cell_type": "code",
   "execution_count": null,
   "id": "53755ae1-f52b-44ba-aa58-c97ec4ac84e9",
   "metadata": {},
   "outputs": [],
   "source": [
    "txt.split()"
   ]
  }
 ],
 "metadata": {
  "kernelspec": {
   "display_name": "Python 3 (ipykernel)",
   "language": "python",
   "name": "python3"
  },
  "language_info": {
   "codemirror_mode": {
    "name": "ipython",
    "version": 3
   },
   "file_extension": ".py",
   "mimetype": "text/x-python",
   "name": "python",
   "nbconvert_exporter": "python",
   "pygments_lexer": "ipython3",
   "version": "3.13.5"
  }
 },
 "nbformat": 4,
 "nbformat_minor": 5
}
