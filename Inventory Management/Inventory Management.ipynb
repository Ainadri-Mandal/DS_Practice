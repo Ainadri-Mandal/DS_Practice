{
 "cells": [
  {
   "cell_type": "code",
   "execution_count": 109,
   "id": "50d34d57-d1af-43d3-886b-086576925b2e",
   "metadata": {},
   "outputs": [],
   "source": [
    "fd = open(\"Inventory.txt\", \"w\")\n",
    "fd.close()"
   ]
  },
  {
   "cell_type": "markdown",
   "id": "c8376940-f3b6-495c-b503-ebf0901337d0",
   "metadata": {},
   "source": [
    "## Product Details\n",
    "1. Product ID\n",
    "2. Name of product\n",
    "3. Price of Product\n",
    "4. Quantity"
   ]
  },
  {
   "cell_type": "code",
   "execution_count": 110,
   "id": "c3e3f379-d13e-4300-8125-4486945e802a",
   "metadata": {},
   "outputs": [],
   "source": [
    "fd = open('Inventory.txt', 'r')\n",
    "txt = fd.read()\n",
    "fd.close()"
   ]
  },
  {
   "cell_type": "code",
   "execution_count": 111,
   "id": "c13ea464-2dd6-4f4c-ad17-8f9f60962dcb",
   "metadata": {},
   "outputs": [
    {
     "name": "stdout",
     "output_type": "stream",
     "text": [
      "\n"
     ]
    }
   ],
   "source": [
    "print(txt)"
   ]
  },
  {
   "cell_type": "code",
   "execution_count": 101,
   "id": "b24799ac-9894-40b3-b433-a82e18fa89c1",
   "metadata": {},
   "outputs": [
    {
     "data": {
      "text/plain": [
       "''"
      ]
     },
     "execution_count": 101,
     "metadata": {},
     "output_type": "execute_result"
    }
   ],
   "source": [
    "txt"
   ]
  },
  {
   "cell_type": "code",
   "execution_count": 97,
   "id": "53755ae1-f52b-44ba-aa58-c97ec4ac84e9",
   "metadata": {},
   "outputs": [
    {
     "data": {
      "text/plain": [
       "['']"
      ]
     },
     "execution_count": 97,
     "metadata": {},
     "output_type": "execute_result"
    }
   ],
   "source": [
    "txt.split('\\n')"
   ]
  },
  {
   "cell_type": "markdown",
   "id": "dff627f0-23c1-4a6b-98d9-a02bfd3fb944",
   "metadata": {},
   "source": [
    "# Inventory Management with files - Product"
   ]
  },
  {
   "cell_type": "code",
   "execution_count": 91,
   "id": "83eb810c-7103-4284-9c93-5661fdf33d6c",
   "metadata": {},
   "outputs": [],
   "source": [
    "fd = open('Inventory.txt', 'r')\n",
    "products = fd.read().split('\\n')\n",
    "fd.close()"
   ]
  },
  {
   "cell_type": "code",
   "execution_count": 92,
   "id": "13d5ff33-7947-444f-8771-e61f800bbecd",
   "metadata": {},
   "outputs": [
    {
     "name": "stdout",
     "output_type": "stream",
     "text": [
      "1,5 Star,5,250\n",
      "['1', '5 Star', '5', '250']\n",
      "2,Cadbury,10,100\n",
      "['2', 'Cadbury', '10', '100']\n",
      "3,Chips,5,200\n",
      "['3', 'Chips', '5', '200']\n",
      "4,Sweets,7,142\n",
      "['4', 'Sweets', '7', '142']\n",
      "\n",
      "['']\n"
     ]
    }
   ],
   "source": [
    "for product in products:\n",
    "    print(product)\n",
    "    print(product.split(','))"
   ]
  },
  {
   "cell_type": "markdown",
   "id": "4c3297dd-1536-4a15-8344-c925949aef14",
   "metadata": {},
   "source": [
    "## Searching Product in inventory"
   ]
  },
  {
   "cell_type": "code",
   "execution_count": 82,
   "id": "1437df17-9cb0-4454-920c-281c2ed72838",
   "metadata": {},
   "outputs": [],
   "source": [
    "fd = open('Inventory.txt', 'r')\n",
    "products = fd.read().split('\\n')\n",
    "fd.close()"
   ]
  },
  {
   "cell_type": "code",
   "execution_count": 83,
   "id": "f24f5733-5e3b-47cb-b2b8-e0927a144664",
   "metadata": {},
   "outputs": [
    {
     "name": "stdout",
     "output_type": "stream",
     "text": [
      "1,5 Star,5,250\n",
      "2,Cadbury,10,100\n",
      "3,Chips,5,200\n",
      "4,Sweets,7,150\n"
     ]
    }
   ],
   "source": [
    "for i in products:\n",
    "    print(i)"
   ]
  },
  {
   "cell_type": "markdown",
   "id": "3322ba88-e736-4e1f-adb4-07ee6f22f81a",
   "metadata": {},
   "source": [
    "## Updating the Inventory"
   ]
  },
  {
   "cell_type": "code",
   "execution_count": 85,
   "id": "7dc4ed2f-82f8-41e5-ad13-99e500a07d90",
   "metadata": {},
   "outputs": [
    {
     "name": "stdin",
     "output_type": "stream",
     "text": [
      "Enter product ID:  4\n",
      "Enter product quantity:  4\n"
     ]
    },
    {
     "name": "stdout",
     "output_type": "stream",
     "text": [
      "--------------------------------------------------\n",
      "Product Name               :  Sweets\n",
      "Product Price              :  7\n",
      "Product Quantity user need :  4\n",
      "--------------------------------------------------\n",
      "Billing Amount             :  28\n",
      "--------------------------------------------------\n"
     ]
    },
    {
     "ename": "IndexError",
     "evalue": "list index out of range",
     "output_type": "error",
     "traceback": [
      "\u001b[1;31m---------------------------------------------------------------------------\u001b[0m",
      "\u001b[1;31mIndexError\u001b[0m                                Traceback (most recent call last)",
      "Cell \u001b[1;32mIn[85], line 29\u001b[0m\n\u001b[0;32m     26\u001b[0m fd \u001b[38;5;241m=\u001b[39m \u001b[38;5;28mopen\u001b[39m(\u001b[38;5;124m'\u001b[39m\u001b[38;5;124mInventory.txt\u001b[39m\u001b[38;5;124m'\u001b[39m, \u001b[38;5;124m'\u001b[39m\u001b[38;5;124mw\u001b[39m\u001b[38;5;124m'\u001b[39m)\n\u001b[0;32m     28\u001b[0m \u001b[38;5;28;01mfor\u001b[39;00m i \u001b[38;5;129;01min\u001b[39;00m updated_prod_lst:\n\u001b[1;32m---> 29\u001b[0m     prod \u001b[38;5;241m=\u001b[39m i[\u001b[38;5;241m0\u001b[39m] \u001b[38;5;241m+\u001b[39m \u001b[38;5;124m\"\u001b[39m\u001b[38;5;124m,\u001b[39m\u001b[38;5;124m\"\u001b[39m \u001b[38;5;241m+\u001b[39m i[\u001b[38;5;241m1\u001b[39m] \u001b[38;5;241m+\u001b[39m \u001b[38;5;124m\"\u001b[39m\u001b[38;5;124m,\u001b[39m\u001b[38;5;124m\"\u001b[39m \u001b[38;5;241m+\u001b[39m i[\u001b[38;5;241m2\u001b[39m] \u001b[38;5;241m+\u001b[39m \u001b[38;5;124m\"\u001b[39m\u001b[38;5;124m,\u001b[39m\u001b[38;5;124m\"\u001b[39m \u001b[38;5;241m+\u001b[39m i[\u001b[38;5;241m3\u001b[39m] \u001b[38;5;241m+\u001b[39m \u001b[38;5;124m'\u001b[39m\u001b[38;5;130;01m\\n\u001b[39;00m\u001b[38;5;124m'\u001b[39m\n\u001b[0;32m     30\u001b[0m     fd\u001b[38;5;241m.\u001b[39mwrite(prod)\n\u001b[0;32m     31\u001b[0m fd\u001b[38;5;241m.\u001b[39mclose()\n",
      "\u001b[1;31mIndexError\u001b[0m: list index out of range"
     ]
    }
   ],
   "source": [
    "fd = open('Inventory.txt', 'r')\n",
    "products = fd.read().split('\\n')\n",
    "fd.close()\n",
    "\n",
    "ui_prod_ID = input(\"Enter product ID: \")\n",
    "ui_prod_qn = input(\"Enter product quantity: \")\n",
    "\n",
    "updated_prod_lst = []\n",
    "\n",
    "for product in products:\n",
    "    prod_details = product.split(',')\n",
    "    \n",
    "    if (prod_details[0] == ui_prod_ID):\n",
    "        print('-'*50)\n",
    "        print(\"Product Name               : \",prod_details[1])\n",
    "        print(\"Product Price              : \",prod_details[2])\n",
    "        print(\"Product Quantity user need : \",ui_prod_qn)\n",
    "        print('-'*50)\n",
    "        print(\"Billing Amount             : \", int(ui_prod_qn) * int(prod_details[2]))\n",
    "        print('-'*50)\n",
    "    \n",
    "        prod_details[3] = str(int(prod_details[3]) - int(ui_prod_qn))\n",
    "        \n",
    "    updated_prod_lst.append(prod_details)\n",
    "\n",
    "fd = open('Inventory.txt', 'w')\n",
    "\n",
    "for i in updated_prod_lst:\n",
    "    prod = i[0] + \",\" + i[1] + \",\" + i[2] + \",\" + i[3] + '\\n'\n",
    "    fd.write(prod)\n",
    "fd.close()"
   ]
  },
  {
   "cell_type": "code",
   "execution_count": null,
   "id": "55f8922f-b55c-4045-ac72-9aa42b01ba95",
   "metadata": {},
   "outputs": [],
   "source": []
  }
 ],
 "metadata": {
  "kernelspec": {
   "display_name": "Python 3 (ipykernel)",
   "language": "python",
   "name": "python3"
  },
  "language_info": {
   "codemirror_mode": {
    "name": "ipython",
    "version": 3
   },
   "file_extension": ".py",
   "mimetype": "text/x-python",
   "name": "python",
   "nbconvert_exporter": "python",
   "pygments_lexer": "ipython3",
   "version": "3.13.5"
  }
 },
 "nbformat": 4,
 "nbformat_minor": 5
}
