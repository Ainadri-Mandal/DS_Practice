{
 "cells": [
  {
   "cell_type": "code",
   "execution_count": 1,
   "id": "50d34d57-d1af-43d3-886b-086576925b2e",
   "metadata": {},
   "outputs": [],
   "source": [
    "fd = open(\"Inventory.txt\", \"w\")\n",
    "fd.close()"
   ]
  },
  {
   "cell_type": "markdown",
   "id": "c8376940-f3b6-495c-b503-ebf0901337d0",
   "metadata": {},
   "source": [
    "## Product Details\n",
    "1. Product ID\n",
    "2. Name of product\n",
    "3. Price of Product\n",
    "4. Quantity"
   ]
  },
  {
   "cell_type": "code",
   "execution_count": 2,
   "id": "c3e3f379-d13e-4300-8125-4486945e802a",
   "metadata": {},
   "outputs": [],
   "source": [
    "fd = open('Inventory.txt', 'r')\n",
    "txt = fd.read()\n",
    "fd.close()"
   ]
  },
  {
   "cell_type": "code",
   "execution_count": 3,
   "id": "c13ea464-2dd6-4f4c-ad17-8f9f60962dcb",
   "metadata": {},
   "outputs": [
    {
     "name": "stdout",
     "output_type": "stream",
     "text": [
      "1,5 Star,5,250\n",
      "2,Cadbury,10,100\n",
      "3,Chips,5,200\n",
      "4,Sweets,7,150\n"
     ]
    }
   ],
   "source": [
    "print(txt)"
   ]
  },
  {
   "cell_type": "code",
   "execution_count": 4,
   "id": "b24799ac-9894-40b3-b433-a82e18fa89c1",
   "metadata": {},
   "outputs": [
    {
     "data": {
      "text/plain": [
       "'1,5 Star,5,250\\n2,Cadbury,10,100\\n3,Chips,5,200\\n4,Sweets,7,150'"
      ]
     },
     "execution_count": 4,
     "metadata": {},
     "output_type": "execute_result"
    }
   ],
   "source": [
    "txt"
   ]
  },
  {
   "cell_type": "code",
   "execution_count": 5,
   "id": "53755ae1-f52b-44ba-aa58-c97ec4ac84e9",
   "metadata": {},
   "outputs": [
    {
     "data": {
      "text/plain": [
       "['1,5 Star,5,250', '2,Cadbury,10,100', '3,Chips,5,200', '4,Sweets,7,150']"
      ]
     },
     "execution_count": 5,
     "metadata": {},
     "output_type": "execute_result"
    }
   ],
   "source": [
    "txt.split('\\n')"
   ]
  },
  {
   "cell_type": "markdown",
   "id": "dff627f0-23c1-4a6b-98d9-a02bfd3fb944",
   "metadata": {},
   "source": [
    "# Inventory Management with files - Product"
   ]
  },
  {
   "cell_type": "code",
   "execution_count": 15,
   "id": "83eb810c-7103-4284-9c93-5661fdf33d6c",
   "metadata": {},
   "outputs": [],
   "source": [
    "fd = open('Inventory.txt', 'r')\n",
    "products = fd.read().split('\\n')\n",
    "fd.close()"
   ]
  },
  {
   "cell_type": "code",
   "execution_count": 18,
   "id": "13d5ff33-7947-444f-8771-e61f800bbecd",
   "metadata": {},
   "outputs": [
    {
     "name": "stdout",
     "output_type": "stream",
     "text": [
      "1,5 Star,5,250\n",
      "['1', '5 Star', '5', '250']\n",
      "2,Cadbury,10,100\n",
      "['2', 'Cadbury', '10', '100']\n",
      "3,Chips,5,200\n",
      "['3', 'Chips', '5', '200']\n",
      "4,Sweets,7,150\n",
      "['4', 'Sweets', '7', '150']\n"
     ]
    }
   ],
   "source": [
    "for product in products:\n",
    "    print(product)\n",
    "    print(product.split(','))"
   ]
  },
  {
   "cell_type": "markdown",
   "id": "4c3297dd-1536-4a15-8344-c925949aef14",
   "metadata": {},
   "source": [
    "## Searching Product in inventory"
   ]
  },
  {
   "cell_type": "code",
   "execution_count": 25,
   "id": "1437df17-9cb0-4454-920c-281c2ed72838",
   "metadata": {},
   "outputs": [],
   "source": [
    "fd = open('Inventory.txt', 'r')\n",
    "products = fd.read().split('\\n')\n",
    "fd.close()"
   ]
  },
  {
   "cell_type": "code",
   "execution_count": 26,
   "id": "f24f5733-5e3b-47cb-b2b8-e0927a144664",
   "metadata": {},
   "outputs": [
    {
     "name": "stdout",
     "output_type": "stream",
     "text": [
      "1,5 Star,5,250\n",
      "2,Cadbury,10,100\n",
      "3,Chips,5,200\n",
      "4,Sweets,7,150\n"
     ]
    }
   ],
   "source": [
    "for i in products:\n",
    "    print(i)"
   ]
  },
  {
   "cell_type": "code",
   "execution_count": 31,
   "id": "7ab3c840-c22c-48bc-abfa-00302ff16a75",
   "metadata": {},
   "outputs": [
    {
     "name": "stdin",
     "output_type": "stream",
     "text": [
      "Enter product ID:  4\n",
      "Enter product quantity:  5\n"
     ]
    },
    {
     "name": "stdout",
     "output_type": "stream",
     "text": [
      "Product Name:  Sweets\n",
      "Product Quantity:  7\n",
      "Product Price:  150\n"
     ]
    }
   ],
   "source": [
    "ui_prod_ID = input(\"Enter product ID: \")\n",
    "ui_prod_qn = input(\"Enter product quantity: \")\n",
    "\n",
    "for product in products:\n",
    "    prod_details = product.split(',')\n",
    "    \n",
    "    if (prod_details[0] == ui_prod_ID):\n",
    "        print(\"Product Name: \",prod_details[1])\n",
    "        print(\"Product Quantity: \",prod_details[2])\n",
    "        print(\"Product Price: \",prod_details[3])"
   ]
  },
  {
   "cell_type": "code",
   "execution_count": null,
   "id": "39b3f7d8-6007-49fc-a05c-8af8a63b9590",
   "metadata": {},
   "outputs": [],
   "source": []
  }
 ],
 "metadata": {
  "kernelspec": {
   "display_name": "Python 3 (ipykernel)",
   "language": "python",
   "name": "python3"
  },
  "language_info": {
   "codemirror_mode": {
    "name": "ipython",
    "version": 3
   },
   "file_extension": ".py",
   "mimetype": "text/x-python",
   "name": "python",
   "nbconvert_exporter": "python",
   "pygments_lexer": "ipython3",
   "version": "3.13.5"
  }
 },
 "nbformat": 4,
 "nbformat_minor": 5
}
