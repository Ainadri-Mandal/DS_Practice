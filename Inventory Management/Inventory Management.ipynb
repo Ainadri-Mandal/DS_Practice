{
 "cells": [
  {
   "cell_type": "code",
   "execution_count": 70,
   "id": "50d34d57-d1af-43d3-886b-086576925b2e",
   "metadata": {},
   "outputs": [],
   "source": [
    "with open(\"Inventory.txt\", \"w\") as fd:\n",
    "    fd.write(\"1,5 Star,5,250\\n\")\n",
    "    fd.write(\"2,Cadbury,10,100\\n\")\n",
    "    fd.write(\"3,Chips,5,200\\n\")\n",
    "    fd.write(\"4,Sweets,7,150\")"
   ]
  },
  {
   "cell_type": "markdown",
   "id": "c8376940-f3b6-495c-b503-ebf0901337d0",
   "metadata": {},
   "source": [
    "## Product Details\n",
    "1. Product ID\n",
    "2. Name of product\n",
    "3. Price of Product\n",
    "4. Quantity"
   ]
  },
  {
   "cell_type": "code",
   "execution_count": 34,
   "id": "c3e3f379-d13e-4300-8125-4486945e802a",
   "metadata": {},
   "outputs": [],
   "source": [
    "fd = open('Inventory.txt', 'r')\n",
    "txt = fd.read()\n",
    "fd.close()"
   ]
  },
  {
   "cell_type": "code",
   "execution_count": 35,
   "id": "c13ea464-2dd6-4f4c-ad17-8f9f60962dcb",
   "metadata": {},
   "outputs": [
    {
     "name": "stdout",
     "output_type": "stream",
     "text": [
      "1,5 Star,5,250\n",
      "2,Cadbury,10,100\n",
      "3,Chips,5,200\n",
      "4,Sweets,7,150\n"
     ]
    }
   ],
   "source": [
    "print(txt)"
   ]
  },
  {
   "cell_type": "code",
   "execution_count": 36,
   "id": "b24799ac-9894-40b3-b433-a82e18fa89c1",
   "metadata": {},
   "outputs": [
    {
     "data": {
      "text/plain": [
       "'1,5 Star,5,250\\n2,Cadbury,10,100\\n3,Chips,5,200\\n4,Sweets,7,150'"
      ]
     },
     "execution_count": 36,
     "metadata": {},
     "output_type": "execute_result"
    }
   ],
   "source": [
    "txt"
   ]
  },
  {
   "cell_type": "code",
   "execution_count": 37,
   "id": "53755ae1-f52b-44ba-aa58-c97ec4ac84e9",
   "metadata": {},
   "outputs": [
    {
     "data": {
      "text/plain": [
       "['1,5 Star,5,250', '2,Cadbury,10,100', '3,Chips,5,200', '4,Sweets,7,150']"
      ]
     },
     "execution_count": 37,
     "metadata": {},
     "output_type": "execute_result"
    }
   ],
   "source": [
    "txt.split('\\n')"
   ]
  },
  {
   "cell_type": "markdown",
   "id": "dff627f0-23c1-4a6b-98d9-a02bfd3fb944",
   "metadata": {},
   "source": [
    "# Inventory Management with files - Product"
   ]
  },
  {
   "cell_type": "code",
   "execution_count": 38,
   "id": "83eb810c-7103-4284-9c93-5661fdf33d6c",
   "metadata": {},
   "outputs": [],
   "source": [
    "fd = open('Inventory.txt', 'r')\n",
    "products = fd.read().split('\\n')\n",
    "fd.close()"
   ]
  },
  {
   "cell_type": "code",
   "execution_count": 39,
   "id": "13d5ff33-7947-444f-8771-e61f800bbecd",
   "metadata": {},
   "outputs": [
    {
     "name": "stdout",
     "output_type": "stream",
     "text": [
      "1,5 Star,5,250\n",
      "['1', '5 Star', '5', '250']\n",
      "2,Cadbury,10,100\n",
      "['2', 'Cadbury', '10', '100']\n",
      "3,Chips,5,200\n",
      "['3', 'Chips', '5', '200']\n",
      "4,Sweets,7,150\n",
      "['4', 'Sweets', '7', '150']\n"
     ]
    }
   ],
   "source": [
    "for product in products:\n",
    "    print(product)\n",
    "    print(product.split(','))"
   ]
  },
  {
   "cell_type": "markdown",
   "id": "4c3297dd-1536-4a15-8344-c925949aef14",
   "metadata": {},
   "source": [
    "## Searching Product in inventory"
   ]
  },
  {
   "cell_type": "code",
   "execution_count": 40,
   "id": "1437df17-9cb0-4454-920c-281c2ed72838",
   "metadata": {},
   "outputs": [],
   "source": [
    "fd = open('Inventory.txt', 'r')\n",
    "products = fd.read().split('\\n')\n",
    "fd.close()"
   ]
  },
  {
   "cell_type": "code",
   "execution_count": 41,
   "id": "f24f5733-5e3b-47cb-b2b8-e0927a144664",
   "metadata": {},
   "outputs": [
    {
     "name": "stdout",
     "output_type": "stream",
     "text": [
      "1,5 Star,5,250\n",
      "2,Cadbury,10,100\n",
      "3,Chips,5,200\n",
      "4,Sweets,7,150\n"
     ]
    }
   ],
   "source": [
    "for i in products:\n",
    "    print(i)"
   ]
  },
  {
   "cell_type": "markdown",
   "id": "3322ba88-e736-4e1f-adb4-07ee6f22f81a",
   "metadata": {},
   "source": [
    "## Updating the Inventory"
   ]
  },
  {
   "cell_type": "code",
   "execution_count": 73,
   "id": "7dc4ed2f-82f8-41e5-ad13-99e500a07d90",
   "metadata": {},
   "outputs": [
    {
     "name": "stdin",
     "output_type": "stream",
     "text": [
      "Enter your Name:  a\n",
      "Enter your Phone No:  6354747785\n",
      "Enter your Mail ID:  dihbv@gmail.com\n",
      "Enter product ID:  2\n",
      "Enter product quantity:  150\n"
     ]
    },
    {
     "name": "stdout",
     "output_type": "stream",
     "text": [
      "Sorry, we are not having enough quantity.\n",
      "We're having only 100 quantity.\n",
      "Would you like to purchase it?\n"
     ]
    },
    {
     "name": "stdin",
     "output_type": "stream",
     "text": [
      "Press Y/N y\n"
     ]
    },
    {
     "name": "stdout",
     "output_type": "stream",
     "text": [
      "--------------------------------------------------\n",
      "Product Name               :  Cadbury\n",
      "Product Price              :  10\n",
      "Product Quantity user need :  100\n",
      "--------------------------------------------------\n",
      "Billing Amount             :  1000\n",
      "--------------------------------------------------\n",
      "--------------------------------------------------\n",
      "Thanks for your Purchase!\n"
     ]
    }
   ],
   "source": [
    "# Noting the time of Transaction\n",
    "import time\n",
    "\n",
    "#Reading the inventory\n",
    "fd = open('Inventory.txt', 'r')\n",
    "products = fd.read().split('\\n')\n",
    "fd.close()\n",
    "\n",
    "#Taking the User Input\n",
    "ui_username = input(\"Enter your Name: \")\n",
    "ui_phone = input(\"Enter your Phone No: \")\n",
    "ui_mail = input(\"Enter your Mail ID: \")\n",
    "ui_prod_ID = input(\"Enter product ID: \")\n",
    "ui_prod_qn = input(\"Enter product quantity: \")\n",
    "\n",
    "updated_prod_lst = []\n",
    "\n",
    "#Going through each Product details\n",
    "for product in products:\n",
    "    prod_details = product.split(',')\n",
    "    \n",
    "    if (prod_details[0] == ui_prod_ID):\n",
    "    #Checking if product exists or not\n",
    "\n",
    "        if(int(ui_prod_qn) <= int(prod_details[3])):\n",
    "        # if we are having enough quantity\n",
    "        \n",
    "            print('-'*50)\n",
    "            print(\"Product Name               : \",prod_details[1])\n",
    "            print(\"Product Price              : \",prod_details[2])\n",
    "            print(\"Product Quantity user need : \",ui_prod_qn)\n",
    "            print('-'*50)\n",
    "            print(\"Billing Amount             : \", int(ui_prod_qn) * int(prod_details[2]))\n",
    "            print('-'*50)\n",
    "\n",
    "            #Updating the inventory list\n",
    "            prod_details[3] = str(int(prod_details[3]) - int(ui_prod_qn))\n",
    "\n",
    "            # Generating Sales in Sales.txt\n",
    "            fd = open(\"Sales.txt\", 'a')\n",
    "            sales_detail = ui_username + ',' + ui_phone + ',' + ui_mail + ',' +prod_details[1] + ',' + ui_prod_ID + ',' + ui_prod_qn + ',' + str(int(ui_prod_qn) * int(prod_details[2])) + ',' + time.ctime()+ '\\n' \n",
    "            fd.write(sales_detail)\n",
    "            fd.close()\n",
    "        else:\n",
    "        # if we are not having enough quantity\n",
    "            print(\"Sorry, we are not having enough quantity.\")\n",
    "            print(\"We're having only\",prod_details[3],'quantity.')\n",
    "            print(\"Would you like to purchase it?\")\n",
    "    \n",
    "            ch = input(\"Press Y/N\")\n",
    "\n",
    "            if (ch == 'Y' or ch == 'y' ):\n",
    "            # If you want to purchase the remaining quantity\n",
    "                print('-'*50)\n",
    "                print(\"Product Name               : \",prod_details[1])\n",
    "                print(\"Product Price              : \",prod_details[2])\n",
    "                print(\"Product Quantity user need : \",prod_details[3])\n",
    "                print('-'*50)\n",
    "                print(\"Billing Amount             : \", int(prod_details[3]) * int(prod_details[2]))\n",
    "                print('-'*50)\n",
    "\n",
    "\n",
    "                # Generating Sales in Sales.txt\n",
    "                fd = open(\"Sales.txt\", 'a')\n",
    "                sales_detail = ui_username + ',' + ui_phone + ',' + ui_mail + ',' +prod_details[1] + ',' + ui_prod_ID + ',' + prod_details[3] + ',' + str(int(prod_details[3]) * int(prod_details[2])) + ',' + time.ctime()+ '\\n' \n",
    "                fd.write(sales_detail)\n",
    "                fd.close()\n",
    "\n",
    "                #Updating the inventory list\n",
    "                prod_details[3] = '0'\n",
    "\n",
    "            else:\n",
    "                print(\"Thanks!\")\n",
    "                \n",
    "                \n",
    "    # Updating my Inventory list    \n",
    "    updated_prod_lst.append(prod_details)\n",
    "\n",
    "\n",
    "lst = []\n",
    "\n",
    "#Updating my Inventory String\n",
    "for i in updated_prod_lst:\n",
    "    prod = i[0] + \",\" + i[1] + \",\" + i[2] + \",\" + i[3] + '\\n'\n",
    "    lst.append(prod)\n",
    "\n",
    "#Removing the last \\n from the list\n",
    "lst[-1] = lst[-1][:-1]\n",
    "\n",
    "# Updating my Inventory File\n",
    "fd = open('Inventory.txt', 'w')\n",
    "\n",
    "for i in lst:\n",
    "    fd.write(i)\n",
    "    \n",
    "fd.close()\n",
    "\n",
    "print('-'*50)\n",
    "print(\"Thanks for your Purchase!\")"
   ]
  },
  {
   "cell_type": "code",
   "execution_count": null,
   "id": "55f8922f-b55c-4045-ac72-9aa42b01ba95",
   "metadata": {},
   "outputs": [],
   "source": []
  }
 ],
 "metadata": {
  "kernelspec": {
   "display_name": "Python 3 (ipykernel)",
   "language": "python",
   "name": "python3"
  },
  "language_info": {
   "codemirror_mode": {
    "name": "ipython",
    "version": 3
   },
   "file_extension": ".py",
   "mimetype": "text/x-python",
   "name": "python",
   "nbconvert_exporter": "python",
   "pygments_lexer": "ipython3",
   "version": "3.13.5"
  }
 },
 "nbformat": 4,
 "nbformat_minor": 5
}
